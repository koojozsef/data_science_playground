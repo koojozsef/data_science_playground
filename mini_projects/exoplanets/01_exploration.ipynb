{
 "cells": [
  {
   "cell_type": "code",
   "execution_count": 1,
   "id": "26342800",
   "metadata": {},
   "outputs": [],
   "source": [
    "import os\n",
    "import pandas as pd"
   ]
  },
  {
   "cell_type": "code",
   "execution_count": 2,
   "id": "9847dbfd",
   "metadata": {},
   "outputs": [
    {
     "name": "stderr",
     "output_type": "stream",
     "text": [
      "/home/koojozsef/git-repos/data_science_playground/.venv/lib/python3.12/site-packages/tqdm/auto.py:21: TqdmWarning: IProgress not found. Please update jupyter and ipywidgets. See https://ipywidgets.readthedocs.io/en/stable/user_install.html\n",
      "  from .autonotebook import tqdm as notebook_tqdm\n"
     ]
    },
    {
     "data": {
      "application/vnd.microsoft.datawrangler.viewer.v0+json": {
       "columns": [
        {
         "name": "index",
         "rawType": "int64",
         "type": "integer"
        },
        {
         "name": "name",
         "rawType": "object",
         "type": "string"
        },
        {
         "name": "planet_status",
         "rawType": "object",
         "type": "string"
        },
        {
         "name": "mass",
         "rawType": "float64",
         "type": "float"
        },
        {
         "name": "mass_error_min",
         "rawType": "float64",
         "type": "float"
        },
        {
         "name": "mass_error_max",
         "rawType": "float64",
         "type": "float"
        },
        {
         "name": "mass_sini",
         "rawType": "float64",
         "type": "float"
        },
        {
         "name": "mass_sini_error_min",
         "rawType": "float64",
         "type": "float"
        },
        {
         "name": "mass_sini_error_max",
         "rawType": "float64",
         "type": "float"
        },
        {
         "name": "radius",
         "rawType": "float64",
         "type": "float"
        },
        {
         "name": "radius_error_min",
         "rawType": "float64",
         "type": "float"
        },
        {
         "name": "radius_error_max",
         "rawType": "float64",
         "type": "float"
        },
        {
         "name": "orbital_period",
         "rawType": "float64",
         "type": "float"
        },
        {
         "name": "orbital_period_error_min",
         "rawType": "float64",
         "type": "float"
        },
        {
         "name": "orbital_period_error_max",
         "rawType": "float64",
         "type": "float"
        },
        {
         "name": "semi_major_axis",
         "rawType": "float64",
         "type": "float"
        },
        {
         "name": "semi_major_axis_error_min",
         "rawType": "float64",
         "type": "float"
        },
        {
         "name": "semi_major_axis_error_max",
         "rawType": "float64",
         "type": "float"
        },
        {
         "name": "eccentricity",
         "rawType": "float64",
         "type": "float"
        },
        {
         "name": "eccentricity_error_min",
         "rawType": "float64",
         "type": "float"
        },
        {
         "name": "eccentricity_error_max",
         "rawType": "float64",
         "type": "float"
        },
        {
         "name": "inclination",
         "rawType": "float64",
         "type": "float"
        },
        {
         "name": "inclination_error_min",
         "rawType": "float64",
         "type": "float"
        },
        {
         "name": "inclination_error_max",
         "rawType": "float64",
         "type": "float"
        },
        {
         "name": "angular_distance",
         "rawType": "float64",
         "type": "float"
        },
        {
         "name": "discovered",
         "rawType": "int64",
         "type": "integer"
        },
        {
         "name": "updated",
         "rawType": "object",
         "type": "string"
        },
        {
         "name": "omega",
         "rawType": "float64",
         "type": "float"
        },
        {
         "name": "omega_error_min",
         "rawType": "float64",
         "type": "float"
        },
        {
         "name": "omega_error_max",
         "rawType": "float64",
         "type": "float"
        },
        {
         "name": "tperi",
         "rawType": "float64",
         "type": "float"
        },
        {
         "name": "tperi_error_min",
         "rawType": "float64",
         "type": "float"
        },
        {
         "name": "tperi_error_max",
         "rawType": "float64",
         "type": "float"
        },
        {
         "name": "tconj",
         "rawType": "float64",
         "type": "float"
        },
        {
         "name": "tconj_error_min",
         "rawType": "float64",
         "type": "float"
        },
        {
         "name": "tconj_error_max",
         "rawType": "float64",
         "type": "float"
        },
        {
         "name": "tzero_tr",
         "rawType": "float64",
         "type": "float"
        },
        {
         "name": "tzero_tr_error_min",
         "rawType": "float64",
         "type": "float"
        },
        {
         "name": "tzero_tr_error_max",
         "rawType": "float64",
         "type": "float"
        },
        {
         "name": "tzero_tr_sec",
         "rawType": "float64",
         "type": "float"
        },
        {
         "name": "tzero_tr_sec_error_min",
         "rawType": "float64",
         "type": "float"
        },
        {
         "name": "tzero_tr_sec_error_max",
         "rawType": "float64",
         "type": "float"
        },
        {
         "name": "lambda_angle",
         "rawType": "float64",
         "type": "float"
        },
        {
         "name": "lambda_angle_error_min",
         "rawType": "float64",
         "type": "float"
        },
        {
         "name": "lambda_angle_error_max",
         "rawType": "float64",
         "type": "float"
        },
        {
         "name": "impact_parameter",
         "rawType": "float64",
         "type": "float"
        },
        {
         "name": "impact_parameter_error_min",
         "rawType": "float64",
         "type": "float"
        },
        {
         "name": "impact_parameter_error_max",
         "rawType": "float64",
         "type": "float"
        },
        {
         "name": "tzero_vr",
         "rawType": "float64",
         "type": "float"
        },
        {
         "name": "tzero_vr_error_min",
         "rawType": "float64",
         "type": "float"
        },
        {
         "name": "tzero_vr_error_max",
         "rawType": "float64",
         "type": "float"
        },
        {
         "name": "k",
         "rawType": "float64",
         "type": "float"
        },
        {
         "name": "k_error_min",
         "rawType": "float64",
         "type": "float"
        },
        {
         "name": "k_error_max",
         "rawType": "float64",
         "type": "float"
        },
        {
         "name": "temp_calculated",
         "rawType": "float64",
         "type": "float"
        },
        {
         "name": "temp_calculated_error_min",
         "rawType": "float64",
         "type": "float"
        },
        {
         "name": "temp_calculated_error_max",
         "rawType": "float64",
         "type": "float"
        },
        {
         "name": "temp_measured",
         "rawType": "float64",
         "type": "float"
        },
        {
         "name": "hot_point_lon",
         "rawType": "float64",
         "type": "float"
        },
        {
         "name": "geometric_albedo",
         "rawType": "float64",
         "type": "float"
        },
        {
         "name": "geometric_albedo_error_min",
         "rawType": "float64",
         "type": "float"
        },
        {
         "name": "geometric_albedo_error_max",
         "rawType": "float64",
         "type": "float"
        },
        {
         "name": "log_g",
         "rawType": "float64",
         "type": "float"
        },
        {
         "name": "publication",
         "rawType": "object",
         "type": "string"
        },
        {
         "name": "detection_type",
         "rawType": "object",
         "type": "string"
        },
        {
         "name": "mass_measurement_type",
         "rawType": "object",
         "type": "string"
        },
        {
         "name": "radius_measurement_type",
         "rawType": "object",
         "type": "unknown"
        },
        {
         "name": "alternate_names",
         "rawType": "object",
         "type": "unknown"
        },
        {
         "name": "molecules",
         "rawType": "object",
         "type": "unknown"
        },
        {
         "name": "star_name",
         "rawType": "object",
         "type": "string"
        },
        {
         "name": "ra",
         "rawType": "float64",
         "type": "float"
        },
        {
         "name": "dec",
         "rawType": "float64",
         "type": "float"
        },
        {
         "name": "mag_v",
         "rawType": "float64",
         "type": "float"
        },
        {
         "name": "mag_i",
         "rawType": "float64",
         "type": "float"
        },
        {
         "name": "mag_j",
         "rawType": "float64",
         "type": "float"
        },
        {
         "name": "mag_h",
         "rawType": "float64",
         "type": "float"
        },
        {
         "name": "mag_k",
         "rawType": "float64",
         "type": "float"
        },
        {
         "name": "star_distance",
         "rawType": "float64",
         "type": "float"
        },
        {
         "name": "star_distance_error_min",
         "rawType": "float64",
         "type": "float"
        },
        {
         "name": "star_distance_error_max",
         "rawType": "float64",
         "type": "float"
        },
        {
         "name": "star_metallicity",
         "rawType": "float64",
         "type": "float"
        },
        {
         "name": "star_metallicity_error_min",
         "rawType": "float64",
         "type": "float"
        },
        {
         "name": "star_metallicity_error_max",
         "rawType": "float64",
         "type": "float"
        },
        {
         "name": "star_mass",
         "rawType": "float64",
         "type": "float"
        },
        {
         "name": "star_mass_error_min",
         "rawType": "float64",
         "type": "float"
        },
        {
         "name": "star_mass_error_max",
         "rawType": "float64",
         "type": "float"
        },
        {
         "name": "star_radius",
         "rawType": "float64",
         "type": "float"
        },
        {
         "name": "star_radius_error_min",
         "rawType": "float64",
         "type": "float"
        },
        {
         "name": "star_radius_error_max",
         "rawType": "float64",
         "type": "float"
        },
        {
         "name": "star_sp_type",
         "rawType": "object",
         "type": "string"
        },
        {
         "name": "star_age",
         "rawType": "float64",
         "type": "float"
        },
        {
         "name": "star_age_error_min",
         "rawType": "float64",
         "type": "float"
        },
        {
         "name": "star_age_error_max",
         "rawType": "float64",
         "type": "float"
        },
        {
         "name": "star_teff",
         "rawType": "float64",
         "type": "float"
        },
        {
         "name": "star_teff_error_min",
         "rawType": "float64",
         "type": "float"
        },
        {
         "name": "star_teff_error_max",
         "rawType": "float64",
         "type": "float"
        },
        {
         "name": "star_detected_disc",
         "rawType": "object",
         "type": "unknown"
        },
        {
         "name": "star_magnetic_field",
         "rawType": "object",
         "type": "unknown"
        },
        {
         "name": "star_alternate_names",
         "rawType": "object",
         "type": "unknown"
        }
       ],
       "ref": "bd8990ff-d8a3-4a01-8a1a-455ed2c3c50c",
       "rows": [
        [
         "0",
         "109 Psc b",
         "Confirmed",
         "5.743",
         "0.289",
         "1.011",
         "6.383",
         "0.078",
         "0.078",
         "1.152",
         null,
         null,
         "1075.4",
         "0.7",
         "0.8",
         "2.051",
         "0.087",
         "0.079",
         "0.104",
         "0.008",
         "0.009",
         "86.116",
         "20.53",
         "19.957",
         "0.066339",
         "2000",
         "14-06-2024",
         "112.816",
         "5.448",
         "5.254",
         "2451492.0",
         "17.0",
         "17.0",
         null,
         null,
         null,
         null,
         null,
         null,
         null,
         null,
         null,
         null,
         null,
         null,
         null,
         null,
         null,
         null,
         null,
         null,
         "114.583",
         "1.196",
         "1.067",
         null,
         null,
         null,
         null,
         null,
         null,
         null,
         null,
         null,
         "Published in a refereed paper",
         "Radial Velocity, Astrometry",
         "Radial Velocity",
         "Theoretical",
         "HD 10697 b",
         null,
         "109 Psc",
         "26.2326",
         "20.08315",
         "6.29",
         null,
         null,
         null,
         null,
         "32.56",
         "0.88",
         "0.88",
         "0.1",
         "0.06",
         "0.06",
         "1.13",
         "0.03",
         "0.03",
         "1.79",
         "0.17",
         "0.17",
         "G5 IV",
         "6.9",
         "0.6",
         "0.6",
         "5600.0",
         "80.0",
         "80.0",
         null,
         null,
         "HD 10697"
        ],
        [
         "1",
         "112 Psc b",
         "Confirmed",
         null,
         "0.005",
         "0.004",
         "0.033",
         "0.005",
         "0.004",
         null,
         null,
         null,
         "4.4",
         "0.0004",
         "0.0002",
         "0.054",
         "0.002",
         "0.002",
         "0.376",
         "0.254",
         "0.11",
         null,
         null,
         null,
         null,
         "2022",
         "14-06-2024",
         "279.492",
         "67.524",
         "30.206",
         null,
         null,
         null,
         null,
         null,
         null,
         null,
         null,
         null,
         null,
         null,
         null,
         null,
         null,
         null,
         null,
         null,
         null,
         null,
         null,
         null,
         "4.157",
         null,
         null,
         null,
         null,
         null,
         null,
         null,
         null,
         null,
         null,
         null,
         "Published in a refereed paper",
         "Radial Velocity",
         "Radial Velocity",
         null,
         "HD 12235 b",
         null,
         "112 Psc",
         "30.0381648",
         "3.097014011",
         "5.88",
         null,
         "5.204",
         "4.63",
         "4.494",
         "31.7627",
         "0.10695",
         "0.10695",
         "0.31",
         "0.1",
         "0.1",
         "1.1",
         "0.133",
         "0.133",
         "1.801",
         "0.0725",
         "0.0725",
         "G0IV",
         null,
         null,
         null,
         "5986.0",
         "105.437",
         "105.437",
         null,
         null,
         "HD 12235"
        ],
        [
         "2",
         "112 Psc c",
         "Confirmed",
         "9.866",
         "1.781",
         "3.19",
         null,
         null,
         null,
         null,
         null,
         null,
         "36336.7",
         "6039.4",
         "9726.0",
         "22.21",
         "2.766",
         "3.866",
         "0.174",
         "0.154",
         "0.11",
         "47.738",
         "11.804",
         "12.651",
         null,
         "2022",
         "14-06-2024",
         "79.772",
         "31.067",
         "15.493",
         null,
         null,
         null,
         null,
         null,
         null,
         null,
         null,
         null,
         null,
         null,
         null,
         null,
         null,
         null,
         null,
         null,
         null,
         null,
         null,
         null,
         "42.503",
         "0.586",
         "1.868",
         null,
         null,
         null,
         null,
         null,
         null,
         null,
         null,
         null,
         "Published in a refereed paper",
         "Radial Velocity, Astrometry",
         "Astrometry",
         null,
         "HD 12235 c",
         null,
         "112 Psc",
         "30.0381648",
         "3.097014011",
         "5.88",
         null,
         "5.204",
         "4.63",
         "4.494",
         "31.7627",
         "0.10695",
         "0.10695",
         "0.31",
         "0.1",
         "0.1",
         "1.1",
         "0.133",
         "0.133",
         "1.801",
         "0.0725",
         "0.0725",
         "G0IV",
         null,
         null,
         null,
         "5986.0",
         "105.437",
         "105.437",
         null,
         null,
         "HD 12235"
        ],
        [
         "3",
         "11 UMi b",
         "Confirmed",
         null,
         "1.1",
         "1.1",
         "11.0873",
         "1.1",
         "1.1",
         null,
         null,
         null,
         "516.22",
         "3.25",
         "3.25",
         "1.54",
         "0.07",
         "0.07",
         "0.08",
         "0.03",
         "0.03",
         null,
         null,
         null,
         "0.012887",
         "2009",
         "03-03-2023",
         "117.63",
         "21.06",
         "21.06",
         "2452861.05",
         "2.06",
         "2.06",
         null,
         null,
         null,
         null,
         null,
         null,
         null,
         null,
         null,
         null,
         null,
         null,
         null,
         null,
         null,
         null,
         null,
         null,
         "189.7",
         "7.15",
         "7.15",
         null,
         null,
         null,
         null,
         null,
         null,
         null,
         null,
         null,
         "Published in a refereed paper",
         "Radial Velocity",
         "Radial Velocity",
         null,
         null,
         null,
         "11 UMi",
         "229.275",
         "71.8238889",
         "5.02",
         null,
         null,
         null,
         null,
         "119.5",
         "6.9",
         "6.9",
         "0.04",
         "0.04",
         "0.04",
         "1.8",
         "0.25",
         "0.25",
         "24.08",
         "1.84",
         "1.84",
         "K4III",
         "1.56",
         "0.54",
         "0.54",
         "4340.0",
         "70.0",
         "70.0",
         null,
         null,
         null
        ],
        [
         "4",
         "14 And Ab",
         "Confirmed",
         null,
         "0.23",
         "0.23",
         "4.684",
         "0.23",
         "0.23",
         null,
         null,
         null,
         "185.84",
         "0.23",
         "0.23",
         "0.83",
         null,
         null,
         "0.0",
         null,
         null,
         null,
         null,
         null,
         "0.010864",
         "2008",
         "30-07-2024",
         null,
         null,
         null,
         "2452861.4",
         "1.5",
         "1.5",
         null,
         null,
         null,
         null,
         null,
         null,
         null,
         null,
         null,
         null,
         null,
         null,
         null,
         null,
         null,
         null,
         null,
         null,
         "100.0",
         "1.3",
         "1.3",
         null,
         null,
         null,
         null,
         null,
         null,
         null,
         null,
         null,
         "Published in a refereed paper",
         "Radial Velocity",
         "Radial Velocity",
         null,
         null,
         null,
         "14 And A",
         "352.8208333",
         "39.2361111",
         "5.22",
         "4.1",
         "3.02",
         "2.61",
         "2.33",
         "76.4",
         "4.1",
         "4.1",
         "-0.24",
         null,
         null,
         "2.2",
         "0.2",
         "0.2",
         "11.0",
         "1.0",
         "1.0",
         "K0III",
         null,
         null,
         null,
         "4813.0",
         "20.0",
         "20.0",
         null,
         null,
         null
        ]
       ],
       "shape": {
        "columns": 98,
        "rows": 5
       }
      },
      "text/html": [
       "<div>\n",
       "<style scoped>\n",
       "    .dataframe tbody tr th:only-of-type {\n",
       "        vertical-align: middle;\n",
       "    }\n",
       "\n",
       "    .dataframe tbody tr th {\n",
       "        vertical-align: top;\n",
       "    }\n",
       "\n",
       "    .dataframe thead th {\n",
       "        text-align: right;\n",
       "    }\n",
       "</style>\n",
       "<table border=\"1\" class=\"dataframe\">\n",
       "  <thead>\n",
       "    <tr style=\"text-align: right;\">\n",
       "      <th></th>\n",
       "      <th>name</th>\n",
       "      <th>planet_status</th>\n",
       "      <th>mass</th>\n",
       "      <th>mass_error_min</th>\n",
       "      <th>mass_error_max</th>\n",
       "      <th>mass_sini</th>\n",
       "      <th>mass_sini_error_min</th>\n",
       "      <th>mass_sini_error_max</th>\n",
       "      <th>radius</th>\n",
       "      <th>radius_error_min</th>\n",
       "      <th>...</th>\n",
       "      <th>star_sp_type</th>\n",
       "      <th>star_age</th>\n",
       "      <th>star_age_error_min</th>\n",
       "      <th>star_age_error_max</th>\n",
       "      <th>star_teff</th>\n",
       "      <th>star_teff_error_min</th>\n",
       "      <th>star_teff_error_max</th>\n",
       "      <th>star_detected_disc</th>\n",
       "      <th>star_magnetic_field</th>\n",
       "      <th>star_alternate_names</th>\n",
       "    </tr>\n",
       "  </thead>\n",
       "  <tbody>\n",
       "    <tr>\n",
       "      <th>0</th>\n",
       "      <td>109 Psc b</td>\n",
       "      <td>Confirmed</td>\n",
       "      <td>5.743</td>\n",
       "      <td>0.289</td>\n",
       "      <td>1.011</td>\n",
       "      <td>6.3830</td>\n",
       "      <td>0.078</td>\n",
       "      <td>0.078</td>\n",
       "      <td>1.152</td>\n",
       "      <td>NaN</td>\n",
       "      <td>...</td>\n",
       "      <td>G5 IV</td>\n",
       "      <td>6.90</td>\n",
       "      <td>0.60</td>\n",
       "      <td>0.60</td>\n",
       "      <td>5600.0</td>\n",
       "      <td>80.000</td>\n",
       "      <td>80.000</td>\n",
       "      <td>NaN</td>\n",
       "      <td>NaN</td>\n",
       "      <td>HD 10697</td>\n",
       "    </tr>\n",
       "    <tr>\n",
       "      <th>1</th>\n",
       "      <td>112 Psc b</td>\n",
       "      <td>Confirmed</td>\n",
       "      <td>NaN</td>\n",
       "      <td>0.005</td>\n",
       "      <td>0.004</td>\n",
       "      <td>0.0330</td>\n",
       "      <td>0.005</td>\n",
       "      <td>0.004</td>\n",
       "      <td>NaN</td>\n",
       "      <td>NaN</td>\n",
       "      <td>...</td>\n",
       "      <td>G0IV</td>\n",
       "      <td>NaN</td>\n",
       "      <td>NaN</td>\n",
       "      <td>NaN</td>\n",
       "      <td>5986.0</td>\n",
       "      <td>105.437</td>\n",
       "      <td>105.437</td>\n",
       "      <td>NaN</td>\n",
       "      <td>NaN</td>\n",
       "      <td>HD 12235</td>\n",
       "    </tr>\n",
       "    <tr>\n",
       "      <th>2</th>\n",
       "      <td>112 Psc c</td>\n",
       "      <td>Confirmed</td>\n",
       "      <td>9.866</td>\n",
       "      <td>1.781</td>\n",
       "      <td>3.190</td>\n",
       "      <td>NaN</td>\n",
       "      <td>NaN</td>\n",
       "      <td>NaN</td>\n",
       "      <td>NaN</td>\n",
       "      <td>NaN</td>\n",
       "      <td>...</td>\n",
       "      <td>G0IV</td>\n",
       "      <td>NaN</td>\n",
       "      <td>NaN</td>\n",
       "      <td>NaN</td>\n",
       "      <td>5986.0</td>\n",
       "      <td>105.437</td>\n",
       "      <td>105.437</td>\n",
       "      <td>NaN</td>\n",
       "      <td>NaN</td>\n",
       "      <td>HD 12235</td>\n",
       "    </tr>\n",
       "    <tr>\n",
       "      <th>3</th>\n",
       "      <td>11 UMi b</td>\n",
       "      <td>Confirmed</td>\n",
       "      <td>NaN</td>\n",
       "      <td>1.100</td>\n",
       "      <td>1.100</td>\n",
       "      <td>11.0873</td>\n",
       "      <td>1.100</td>\n",
       "      <td>1.100</td>\n",
       "      <td>NaN</td>\n",
       "      <td>NaN</td>\n",
       "      <td>...</td>\n",
       "      <td>K4III</td>\n",
       "      <td>1.56</td>\n",
       "      <td>0.54</td>\n",
       "      <td>0.54</td>\n",
       "      <td>4340.0</td>\n",
       "      <td>70.000</td>\n",
       "      <td>70.000</td>\n",
       "      <td>NaN</td>\n",
       "      <td>NaN</td>\n",
       "      <td>NaN</td>\n",
       "    </tr>\n",
       "    <tr>\n",
       "      <th>4</th>\n",
       "      <td>14 And Ab</td>\n",
       "      <td>Confirmed</td>\n",
       "      <td>NaN</td>\n",
       "      <td>0.230</td>\n",
       "      <td>0.230</td>\n",
       "      <td>4.6840</td>\n",
       "      <td>0.230</td>\n",
       "      <td>0.230</td>\n",
       "      <td>NaN</td>\n",
       "      <td>NaN</td>\n",
       "      <td>...</td>\n",
       "      <td>K0III</td>\n",
       "      <td>NaN</td>\n",
       "      <td>NaN</td>\n",
       "      <td>NaN</td>\n",
       "      <td>4813.0</td>\n",
       "      <td>20.000</td>\n",
       "      <td>20.000</td>\n",
       "      <td>NaN</td>\n",
       "      <td>NaN</td>\n",
       "      <td>NaN</td>\n",
       "    </tr>\n",
       "  </tbody>\n",
       "</table>\n",
       "<p>5 rows × 98 columns</p>\n",
       "</div>"
      ],
      "text/plain": [
       "        name planet_status   mass  mass_error_min  mass_error_max  mass_sini  \\\n",
       "0  109 Psc b     Confirmed  5.743           0.289           1.011     6.3830   \n",
       "1  112 Psc b     Confirmed    NaN           0.005           0.004     0.0330   \n",
       "2  112 Psc c     Confirmed  9.866           1.781           3.190        NaN   \n",
       "3   11 UMi b     Confirmed    NaN           1.100           1.100    11.0873   \n",
       "4  14 And Ab     Confirmed    NaN           0.230           0.230     4.6840   \n",
       "\n",
       "   mass_sini_error_min  mass_sini_error_max  radius  radius_error_min  ...  \\\n",
       "0                0.078                0.078   1.152               NaN  ...   \n",
       "1                0.005                0.004     NaN               NaN  ...   \n",
       "2                  NaN                  NaN     NaN               NaN  ...   \n",
       "3                1.100                1.100     NaN               NaN  ...   \n",
       "4                0.230                0.230     NaN               NaN  ...   \n",
       "\n",
       "   star_sp_type  star_age  star_age_error_min  star_age_error_max  star_teff  \\\n",
       "0         G5 IV      6.90                0.60                0.60     5600.0   \n",
       "1          G0IV       NaN                 NaN                 NaN     5986.0   \n",
       "2          G0IV       NaN                 NaN                 NaN     5986.0   \n",
       "3         K4III      1.56                0.54                0.54     4340.0   \n",
       "4         K0III       NaN                 NaN                 NaN     4813.0   \n",
       "\n",
       "   star_teff_error_min  star_teff_error_max  star_detected_disc  \\\n",
       "0               80.000               80.000                 NaN   \n",
       "1              105.437              105.437                 NaN   \n",
       "2              105.437              105.437                 NaN   \n",
       "3               70.000               70.000                 NaN   \n",
       "4               20.000               20.000                 NaN   \n",
       "\n",
       "   star_magnetic_field  star_alternate_names  \n",
       "0                  NaN              HD 10697  \n",
       "1                  NaN              HD 12235  \n",
       "2                  NaN              HD 12235  \n",
       "3                  NaN                   NaN  \n",
       "4                  NaN                   NaN  \n",
       "\n",
       "[5 rows x 98 columns]"
      ]
     },
     "execution_count": 2,
     "metadata": {},
     "output_type": "execute_result"
    }
   ],
   "source": [
    "import kagglehub\n",
    "\n",
    "# Download latest version\n",
    "path = kagglehub.dataset_download(\"akashbommidi/exoplanets-dataset\")\n",
    "\n",
    "# Load the dataset\n",
    "df = pd.read_csv(path + \"/Exoplanet_Dataset.csv\")\n",
    "df.head()"
   ]
  },
  {
   "cell_type": "code",
   "execution_count": 3,
   "id": "5213951c",
   "metadata": {},
   "outputs": [
    {
     "name": "stderr",
     "output_type": "stream",
     "text": [
      "/home/koojozsef/git-repos/data_science_playground/.venv/lib/python3.12/site-packages/pandas/core/nanops.py:1016: RuntimeWarning: invalid value encountered in subtract\n",
      "  sqr = _ensure_numeric((avg - values) ** 2)\n"
     ]
    },
    {
     "data": {
      "application/vnd.microsoft.datawrangler.viewer.v0+json": {
       "columns": [
        {
         "name": "index",
         "rawType": "object",
         "type": "string"
        },
        {
         "name": "mass",
         "rawType": "float64",
         "type": "float"
        },
        {
         "name": "mass_error_min",
         "rawType": "float64",
         "type": "float"
        },
        {
         "name": "mass_error_max",
         "rawType": "float64",
         "type": "float"
        },
        {
         "name": "mass_sini",
         "rawType": "float64",
         "type": "float"
        },
        {
         "name": "mass_sini_error_min",
         "rawType": "float64",
         "type": "float"
        },
        {
         "name": "mass_sini_error_max",
         "rawType": "float64",
         "type": "float"
        },
        {
         "name": "radius",
         "rawType": "float64",
         "type": "float"
        },
        {
         "name": "radius_error_min",
         "rawType": "float64",
         "type": "float"
        },
        {
         "name": "radius_error_max",
         "rawType": "float64",
         "type": "float"
        },
        {
         "name": "orbital_period",
         "rawType": "float64",
         "type": "float"
        },
        {
         "name": "orbital_period_error_min",
         "rawType": "float64",
         "type": "float"
        },
        {
         "name": "orbital_period_error_max",
         "rawType": "float64",
         "type": "float"
        },
        {
         "name": "semi_major_axis",
         "rawType": "float64",
         "type": "float"
        },
        {
         "name": "semi_major_axis_error_min",
         "rawType": "float64",
         "type": "float"
        },
        {
         "name": "semi_major_axis_error_max",
         "rawType": "float64",
         "type": "float"
        },
        {
         "name": "eccentricity",
         "rawType": "float64",
         "type": "float"
        },
        {
         "name": "eccentricity_error_min",
         "rawType": "float64",
         "type": "float"
        },
        {
         "name": "eccentricity_error_max",
         "rawType": "float64",
         "type": "float"
        },
        {
         "name": "inclination",
         "rawType": "float64",
         "type": "float"
        },
        {
         "name": "inclination_error_min",
         "rawType": "float64",
         "type": "float"
        },
        {
         "name": "inclination_error_max",
         "rawType": "float64",
         "type": "float"
        },
        {
         "name": "angular_distance",
         "rawType": "float64",
         "type": "float"
        },
        {
         "name": "discovered",
         "rawType": "float64",
         "type": "float"
        },
        {
         "name": "omega",
         "rawType": "float64",
         "type": "float"
        },
        {
         "name": "omega_error_min",
         "rawType": "float64",
         "type": "float"
        },
        {
         "name": "omega_error_max",
         "rawType": "float64",
         "type": "float"
        },
        {
         "name": "tperi",
         "rawType": "float64",
         "type": "float"
        },
        {
         "name": "tperi_error_min",
         "rawType": "float64",
         "type": "float"
        },
        {
         "name": "tperi_error_max",
         "rawType": "float64",
         "type": "float"
        },
        {
         "name": "tconj",
         "rawType": "float64",
         "type": "float"
        },
        {
         "name": "tconj_error_min",
         "rawType": "float64",
         "type": "float"
        },
        {
         "name": "tconj_error_max",
         "rawType": "float64",
         "type": "float"
        },
        {
         "name": "tzero_tr",
         "rawType": "float64",
         "type": "float"
        },
        {
         "name": "tzero_tr_error_min",
         "rawType": "float64",
         "type": "float"
        },
        {
         "name": "tzero_tr_error_max",
         "rawType": "float64",
         "type": "float"
        },
        {
         "name": "tzero_tr_sec",
         "rawType": "float64",
         "type": "float"
        },
        {
         "name": "tzero_tr_sec_error_min",
         "rawType": "float64",
         "type": "float"
        },
        {
         "name": "tzero_tr_sec_error_max",
         "rawType": "float64",
         "type": "float"
        },
        {
         "name": "lambda_angle",
         "rawType": "float64",
         "type": "float"
        },
        {
         "name": "lambda_angle_error_min",
         "rawType": "float64",
         "type": "float"
        },
        {
         "name": "lambda_angle_error_max",
         "rawType": "float64",
         "type": "float"
        },
        {
         "name": "impact_parameter",
         "rawType": "float64",
         "type": "float"
        },
        {
         "name": "impact_parameter_error_min",
         "rawType": "float64",
         "type": "float"
        },
        {
         "name": "impact_parameter_error_max",
         "rawType": "float64",
         "type": "float"
        },
        {
         "name": "tzero_vr",
         "rawType": "float64",
         "type": "float"
        },
        {
         "name": "tzero_vr_error_min",
         "rawType": "float64",
         "type": "float"
        },
        {
         "name": "tzero_vr_error_max",
         "rawType": "float64",
         "type": "float"
        },
        {
         "name": "k",
         "rawType": "float64",
         "type": "float"
        },
        {
         "name": "k_error_min",
         "rawType": "float64",
         "type": "float"
        },
        {
         "name": "k_error_max",
         "rawType": "float64",
         "type": "float"
        },
        {
         "name": "temp_calculated",
         "rawType": "float64",
         "type": "float"
        },
        {
         "name": "temp_calculated_error_min",
         "rawType": "float64",
         "type": "float"
        },
        {
         "name": "temp_calculated_error_max",
         "rawType": "float64",
         "type": "float"
        },
        {
         "name": "temp_measured",
         "rawType": "float64",
         "type": "float"
        },
        {
         "name": "hot_point_lon",
         "rawType": "float64",
         "type": "float"
        },
        {
         "name": "geometric_albedo",
         "rawType": "float64",
         "type": "float"
        },
        {
         "name": "geometric_albedo_error_min",
         "rawType": "float64",
         "type": "float"
        },
        {
         "name": "geometric_albedo_error_max",
         "rawType": "float64",
         "type": "float"
        },
        {
         "name": "log_g",
         "rawType": "float64",
         "type": "float"
        },
        {
         "name": "ra",
         "rawType": "float64",
         "type": "float"
        },
        {
         "name": "dec",
         "rawType": "float64",
         "type": "float"
        },
        {
         "name": "mag_v",
         "rawType": "float64",
         "type": "float"
        },
        {
         "name": "mag_i",
         "rawType": "float64",
         "type": "float"
        },
        {
         "name": "mag_j",
         "rawType": "float64",
         "type": "float"
        },
        {
         "name": "mag_h",
         "rawType": "float64",
         "type": "float"
        },
        {
         "name": "mag_k",
         "rawType": "float64",
         "type": "float"
        },
        {
         "name": "star_distance",
         "rawType": "float64",
         "type": "float"
        },
        {
         "name": "star_distance_error_min",
         "rawType": "float64",
         "type": "float"
        },
        {
         "name": "star_distance_error_max",
         "rawType": "float64",
         "type": "float"
        },
        {
         "name": "star_metallicity",
         "rawType": "float64",
         "type": "float"
        },
        {
         "name": "star_metallicity_error_min",
         "rawType": "float64",
         "type": "float"
        },
        {
         "name": "star_metallicity_error_max",
         "rawType": "float64",
         "type": "float"
        },
        {
         "name": "star_mass",
         "rawType": "float64",
         "type": "float"
        },
        {
         "name": "star_mass_error_min",
         "rawType": "float64",
         "type": "float"
        },
        {
         "name": "star_mass_error_max",
         "rawType": "float64",
         "type": "float"
        },
        {
         "name": "star_radius",
         "rawType": "float64",
         "type": "float"
        },
        {
         "name": "star_radius_error_min",
         "rawType": "float64",
         "type": "float"
        },
        {
         "name": "star_radius_error_max",
         "rawType": "float64",
         "type": "float"
        },
        {
         "name": "star_age",
         "rawType": "float64",
         "type": "float"
        },
        {
         "name": "star_age_error_min",
         "rawType": "float64",
         "type": "float"
        },
        {
         "name": "star_age_error_max",
         "rawType": "float64",
         "type": "float"
        },
        {
         "name": "star_teff",
         "rawType": "float64",
         "type": "float"
        },
        {
         "name": "star_teff_error_min",
         "rawType": "float64",
         "type": "float"
        },
        {
         "name": "star_teff_error_max",
         "rawType": "float64",
         "type": "float"
        }
       ],
       "ref": "865fb3ab-8342-4893-8e95-0069c1f4b2a9",
       "rows": [
        [
         "count",
         "2079.0",
         "2817.0",
         "2817.0",
         "1202.0",
         "1039.0",
         "1039.0",
         "4568.0",
         "4093.0",
         "4093.0",
         "5691.0",
         "5091.0",
         "5091.0",
         "4435.0",
         "2893.0",
         "2893.0",
         "2877.0",
         "1892.0",
         "1892.0",
         "2262.0",
         "1662.0",
         "1660.0",
         "610.0",
         "5986.0",
         "1541.0",
         "1446.0",
         "1446.0",
         "790.0",
         "728.0",
         "728.0",
         "2641.0",
         "2577.0",
         "2577.0",
         "2037.0",
         "1963.0",
         "1963.0",
         "48.0",
         "47.0",
         "47.0",
         "141.0",
         "140.0",
         "140.0",
         "2609.0",
         "2585.0",
         "2585.0",
         "34.0",
         "32.0",
         "32.0",
         "1809.0",
         "1766.0",
         "1766.0",
         "1983.0",
         "1150.0",
         "1150.0",
         "26.0",
         "3.0",
         "18.0",
         "16.0",
         "16.0",
         "14.0",
         "5986.0",
         "5986.0",
         "3112.0",
         "530.0",
         "3583.0",
         "3569.0",
         "2926.0",
         "5722.0",
         "4191.0",
         "4191.0",
         "5047.0",
         "4202.0",
         "4202.0",
         "5594.0",
         "4531.0",
         "4531.0",
         "5353.0",
         "4835.0",
         "4835.0",
         "3381.0",
         "3095.0",
         "3095.0",
         "5475.0",
         "5268.0",
         "5268.0"
        ],
        [
         "mean",
         "1.4925384754050024",
         "0.324365778715655",
         "inf",
         "1.98352878937604",
         "0.214686674558229",
         "0.24045307093359",
         "0.40151503662434324",
         "0.04898607427314928",
         "0.06023496701685806",
         "2144.3468236809094",
         "295.8516013224777",
         "332.874551604766",
         "13.99209403556212",
         "0.5405113421085379",
         "0.6987194301140685",
         "0.1325190930135558",
         "0.09302455549682874",
         "0.09993049207188161",
         "86.41304637488948",
         "2.3189128760529485",
         "2.1124318072289157",
         "1.2542538163934427",
         "2016.2659538924156",
         "153.77646073977937",
         "139.53482593360994",
         "140.97061694329184",
         "2143851.415421811",
         "111.58503454295331",
         "112.75469568306319",
         "2449857.375574915",
         "0.3238271400853706",
         "0.3115222184710904",
         "2514465.9270830858",
         "116301.56821417184",
         "116301.56970599762",
         "2457617.2696458334",
         "0.23919978723404256",
         "0.20046787234042554",
         "98.16509439716313",
         "12.771392857142857",
         "12.931657142857143",
         "0.4781268888463013",
         "0.22493872108317214",
         "0.2860111268858801",
         "813147.3162058824",
         "18.891249687499997",
         "7.714687187500001",
         "81.5425188894417",
         "384.1763936126842",
         "382.6234021970555",
         "935.757892082703",
         "31.68736695652174",
         "28.913497391304347",
         "1390.5346153846153",
         "313.3333333333333",
         "0.26816666666666666",
         "0.0670625",
         "0.0770625",
         "3.6015",
         "234.08945426792715",
         "19.00638501596943",
         "11.291849025221723",
         "13.393188679245283",
         "12.375923834775328",
         "11.989109554497057",
         "12.032078263841424",
         "701.9324449797274",
         "77.03336627057982",
         "213.31664164638514",
         "-0.002118105805428968",
         "0.11667166587339362",
         "0.10986590671108996",
         "0.9334049692527708",
         "0.08904819387111014",
         "0.08857773473184728",
         "1.3692291846011584",
         "0.12808641613236815",
         "0.17338157762150982",
         "4.478934605146406",
         "0.24462649434571887",
         "2.9869564781906295",
         "5385.455327488584",
         "107.70556192103265",
         "111.3558580106302"
        ],
        [
         "std",
         "2.602285676763695",
         "1.3519289424785546",
         null,
         "3.1997171652370717",
         "0.6364743075581519",
         "0.9454682317724754",
         "0.4306012920725449",
         "0.7542201245921798",
         "0.7760233923493621",
         "109203.00380063073",
         "13347.421757422244",
         "13427.771742985211",
         "399.81586443391836",
         "9.165532220804595",
         "13.147404161636711",
         "0.17668258561214123",
         "0.7384594091854273",
         "0.806184444977375",
         "12.93554603263014",
         "8.627682706049754",
         "7.7196976453766695",
         "24.61404600493681",
         "4.564411411055005",
         "116.19944021004065",
         "3218.301169811574",
         "3218.297962809501",
         "807023.956085364",
         "513.8717363267368",
         "543.3558582127939",
         "116668.16276350849",
         "7.93002074809545",
         "7.411696298583775",
         "1894023.9082849098",
         "521644.79739056935",
         "521644.80073956394",
         "1304.3512420489355",
         "0.528648504130598",
         "0.4158939389719878",
         "127.30876909403459",
         "14.062714939273212",
         "14.313841065202473",
         "1.376253129981944",
         "0.915412488403851",
         "2.555208908876867",
         "1153026.8281200498",
         "86.47704124166118",
         "25.00547420234917",
         "294.39186935546985",
         "15756.610475953972",
         "15756.634842602554",
         "500.46776945187554",
         "89.11504978128316",
         "32.73997258481159",
         "955.8798706709155",
         "421.46688284292674",
         "0.2500113526834096",
         "0.07384079157213849",
         "0.08063371399937705",
         "0.4858237651342622",
         "91.034841789876",
         "36.44837718208078",
         "3.3593589824502774",
         "2.5738254726334304",
         "1.9478594047280529",
         "1.9439112469824007",
         "2.0256346119730244",
         "1178.8850817725647",
         "303.7539827237169",
         "9271.077047975456",
         "0.2003132046031543",
         "0.14594956363286066",
         "0.14260495154329134",
         "0.3306515180945893",
         "0.22795987167381868",
         "0.10796641424786615",
         "2.5887709002208843",
         "0.3573198064888861",
         "1.5452655297601965",
         "2.8770389362207007",
         "2.9079135744137385",
         "10.552877708060603",
         "1468.6305685170014",
         "159.19033738155082",
         "242.78996178202055"
        ],
        [
         "min",
         "0.00019",
         "0.0",
         "-17.8",
         "0.00047",
         "0.0",
         "0.0",
         "0.02543",
         "0.0",
         "0.0",
         "0.0078",
         "0.0",
         "0.0",
         "0.000834",
         "0.0",
         "0.0",
         "0.0",
         "0.0",
         "0.0",
         "-2.0",
         "-3.7",
         "0.0",
         "4e-06",
         "1992.0",
         "-190.0",
         "-134.0",
         "-16.0",
         "2.343230566",
         "6e-07",
         "6e-07",
         "129.839",
         "1e-06",
         "1e-06",
         "0.02557",
         "0.0",
         "0.0",
         "2454717.65",
         "0.0001",
         "0.0001",
         "-94.8",
         "0.035",
         "0.03",
         "-0.629",
         "-0.4",
         "0.0",
         "0.35",
         "0.0004",
         "0.0004",
         "-2.84",
         "-0.11",
         "0.0",
         "56.0",
         "0.372",
         "0.0",
         "248.0",
         "69.0",
         "0.0",
         "0.0",
         "0.016",
         "2.734",
         "0.187500015",
         "-88.12111112",
         "1.15",
         "0.017",
         "2.01",
         "1.54",
         "1.46",
         "1.295",
         "-20.9",
         "0.0",
         "-1.08",
         "0.0",
         "0.0",
         "0.011",
         "-0.269",
         "-0.13",
         "1.43e-05",
         "-0.18",
         "-0.18",
         "0.0008",
         "-7.41",
         "-2.6",
         "2200.0",
         "-98.2311",
         "0.062"
        ],
        [
         "25%",
         "0.029655",
         "0.00629",
         "0.0057",
         "0.045",
         "0.00594",
         "0.0053",
         "0.145",
         "0.01",
         "0.0116",
         "4.301900669",
         "1.34e-05",
         "1.3e-05",
         "0.0514",
         "0.0009",
         "0.0009",
         "0.0",
         "0.02",
         "0.01675",
         "86.4225",
         "0.17",
         "0.18",
         "0.00079725",
         "2014.0",
         "62.88",
         "8.0",
         "8.0",
         "2451546.3",
         "1.1",
         "1.1",
         "2454967.942",
         "0.00146",
         "0.00146",
         "2454977.247",
         "0.00046",
         "0.000445",
         "2456284.051",
         "0.00042",
         "0.00042",
         "3.2",
         "3.0",
         "3.0",
         "0.21",
         "0.07",
         "0.0512",
         "2626.1375",
         "0.027999999999999997",
         "0.027999999999999997",
         "3.0",
         "0.5",
         "0.47",
         "561.0",
         "11.0",
         "11.0",
         "707.75",
         "70.0",
         "0.0915",
         "0.01925",
         "0.03",
         "3.312",
         "176.51250005",
         "-9.6111965",
         "8.725000000000001",
         "12.568999999999999",
         "11.595500000000001",
         "11.222",
         "11.512",
         "107.898",
         "0.6880999999999999",
         "0.7",
         "-0.1",
         "0.056",
         "0.06",
         "0.775",
         "0.031",
         "0.03",
         "0.77",
         "0.03",
         "0.03",
         "2.69",
         "-2.0",
         "0.9595",
         "4938.0",
         "60.59",
         "62.0"
        ],
        [
         "50%",
         "0.37",
         "0.041",
         "0.04",
         "0.7315",
         "0.0493",
         "0.05",
         "0.219",
         "0.02",
         "0.025",
         "10.924709",
         "9.12e-05",
         "9.07e-05",
         "0.102",
         "0.00263",
         "0.0026",
         "0.062",
         "0.05",
         "0.05",
         "88.45150000000001",
         "0.48",
         "0.47",
         "0.008625",
         "2016.0",
         "140.0",
         "30.0",
         "30.0",
         "2454715.85",
         "11.0",
         "11.0",
         "2454980.864",
         "0.00286",
         "0.00286",
         "2456988.471",
         "0.0013",
         "0.0013",
         "2458004.983",
         "0.0031",
         "0.0028",
         "34.0",
         "7.0",
         "7.95",
         "0.41",
         "0.2",
         "0.17",
         "54040.807499999995",
         "0.15",
         "0.15",
         "17.75",
         "1.5",
         "1.4",
         "833.0",
         "19.0",
         "19.0",
         "1100.0",
         "71.0",
         "0.16",
         "0.03",
         "0.035",
         "3.4705",
         "285.198735",
         "39.503856",
         "11.6",
         "14.131",
         "12.841",
         "12.468",
         "12.564",
         "395.297",
         "4.185",
         "4.2",
         "0.01",
         "0.1",
         "0.1",
         "0.95",
         "0.05",
         "0.05",
         "0.96",
         "0.056",
         "0.06",
         "4.17",
         "0.25",
         "2.2",
         "5540.0",
         "100.0",
         "100.0"
        ],
        [
         "75%",
         "1.4665",
         "0.17",
         "0.17",
         "2.4",
         "0.17",
         "0.17",
         "0.384",
         "0.042",
         "0.05",
         "38.36498115",
         "0.0014",
         "0.0014",
         "0.405",
         "0.03",
         "0.028",
         "0.2",
         "0.1",
         "0.1",
         "89.44",
         "1.1",
         "1.017",
         "0.0373005",
         "2019.0",
         "254.0",
         "70.375",
         "72.275",
         "2456289.9749999996",
         "54.0",
         "55.0",
         "2455023.102",
         "0.00524",
         "0.00522",
         "2458521.867",
         "0.00374",
         "0.0038",
         "2458678.37725",
         "0.115",
         "0.14500000000000002",
         "172.0",
         "17.25",
         "18.0",
         "0.66",
         "0.27",
         "0.24",
         "2453641.67375",
         "1.16",
         "1.2125",
         "83.0",
         "5.47625",
         "5.15175",
         "1230.0",
         "32.0",
         "33.0",
         "1740.0",
         "435.5",
         "0.3825",
         "0.095",
         "0.10500000000000001",
         "3.8875",
         "293.282046",
         "45.435080500000005",
         "13.7",
         "15.08",
         "13.713999999999999",
         "13.297",
         "13.32275",
         "839.332",
         "18.0",
         "18.83",
         "0.12",
         "0.161",
         "0.144",
         "1.09",
         "0.092",
         "0.1",
         "1.245",
         "0.12",
         "0.18",
         "5.5",
         "1.89",
         "4.08",
         "5893.525",
         "129.025",
         "125.0"
        ],
        [
         "max",
         "12.934",
         "53.5",
         "inf",
         "50.0",
         "13.0",
         "20.9",
         "6.9",
         "48.0",
         "48.0",
         "8035500.0",
         "825000.0",
         "825000.0",
         "22086.0",
         "300.0",
         "560.0",
         "0.97",
         "31.8",
         "31.8",
         "279.0",
         "175.3",
         "175.3",
         "594.0",
         "2025.0",
         "360.0",
         "122116.0",
         "122116.0",
         "2464763.0",
         "9600.0",
         "9600.0",
         "2577713.0",
         "330.0",
         "280.0",
         "72457906.95",
         "2455008.757",
         "2455008.757",
         "2459581.18",
         "2.3",
         "2.0",
         "359.7",
         "83.0",
         "98.0",
         "58.8261",
         "43.85",
         "71.8",
         "2459090.995",
         "489.0",
         "131.0",
         "10002.0",
         "662158.0",
         "662158.0",
         "3921.0",
         "2158.0",
         "400.0",
         "3631.0",
         "800.0",
         "0.8",
         "0.25",
         "0.29",
         "4.5",
         "359.975",
         "86.86033333",
         "77.2",
         "20.4",
         "19.6",
         "23.38",
         "16.21",
         "8900.0",
         "3640.0",
         "600000.0",
         "0.89",
         "8.0",
         "8.0",
         "5.5",
         "5.82",
         "1.94",
         "51.1",
         "9.5",
         "104.53",
         "15.0",
         "86.0",
         "500.0",
         "42065.0",
         "5340.0",
         "9605.0"
        ]
       ],
       "shape": {
        "columns": 84,
        "rows": 8
       }
      },
      "text/html": [
       "<div>\n",
       "<style scoped>\n",
       "    .dataframe tbody tr th:only-of-type {\n",
       "        vertical-align: middle;\n",
       "    }\n",
       "\n",
       "    .dataframe tbody tr th {\n",
       "        vertical-align: top;\n",
       "    }\n",
       "\n",
       "    .dataframe thead th {\n",
       "        text-align: right;\n",
       "    }\n",
       "</style>\n",
       "<table border=\"1\" class=\"dataframe\">\n",
       "  <thead>\n",
       "    <tr style=\"text-align: right;\">\n",
       "      <th></th>\n",
       "      <th>mass</th>\n",
       "      <th>mass_error_min</th>\n",
       "      <th>mass_error_max</th>\n",
       "      <th>mass_sini</th>\n",
       "      <th>mass_sini_error_min</th>\n",
       "      <th>mass_sini_error_max</th>\n",
       "      <th>radius</th>\n",
       "      <th>radius_error_min</th>\n",
       "      <th>radius_error_max</th>\n",
       "      <th>orbital_period</th>\n",
       "      <th>...</th>\n",
       "      <th>star_mass_error_max</th>\n",
       "      <th>star_radius</th>\n",
       "      <th>star_radius_error_min</th>\n",
       "      <th>star_radius_error_max</th>\n",
       "      <th>star_age</th>\n",
       "      <th>star_age_error_min</th>\n",
       "      <th>star_age_error_max</th>\n",
       "      <th>star_teff</th>\n",
       "      <th>star_teff_error_min</th>\n",
       "      <th>star_teff_error_max</th>\n",
       "    </tr>\n",
       "  </thead>\n",
       "  <tbody>\n",
       "    <tr>\n",
       "      <th>count</th>\n",
       "      <td>2079.000000</td>\n",
       "      <td>2817.000000</td>\n",
       "      <td>2817.0000</td>\n",
       "      <td>1202.000000</td>\n",
       "      <td>1039.000000</td>\n",
       "      <td>1039.000000</td>\n",
       "      <td>4568.000000</td>\n",
       "      <td>4093.000000</td>\n",
       "      <td>4093.000000</td>\n",
       "      <td>5.691000e+03</td>\n",
       "      <td>...</td>\n",
       "      <td>4531.000000</td>\n",
       "      <td>5353.000000</td>\n",
       "      <td>4835.000000</td>\n",
       "      <td>4835.000000</td>\n",
       "      <td>3381.000000</td>\n",
       "      <td>3095.000000</td>\n",
       "      <td>3095.000000</td>\n",
       "      <td>5475.000000</td>\n",
       "      <td>5268.000000</td>\n",
       "      <td>5268.000000</td>\n",
       "    </tr>\n",
       "    <tr>\n",
       "      <th>mean</th>\n",
       "      <td>1.492538</td>\n",
       "      <td>0.324366</td>\n",
       "      <td>inf</td>\n",
       "      <td>1.983529</td>\n",
       "      <td>0.214687</td>\n",
       "      <td>0.240453</td>\n",
       "      <td>0.401515</td>\n",
       "      <td>0.048986</td>\n",
       "      <td>0.060235</td>\n",
       "      <td>2.144347e+03</td>\n",
       "      <td>...</td>\n",
       "      <td>0.088578</td>\n",
       "      <td>1.369229</td>\n",
       "      <td>0.128086</td>\n",
       "      <td>0.173382</td>\n",
       "      <td>4.478935</td>\n",
       "      <td>0.244626</td>\n",
       "      <td>2.986956</td>\n",
       "      <td>5385.455327</td>\n",
       "      <td>107.705562</td>\n",
       "      <td>111.355858</td>\n",
       "    </tr>\n",
       "    <tr>\n",
       "      <th>std</th>\n",
       "      <td>2.602286</td>\n",
       "      <td>1.351929</td>\n",
       "      <td>NaN</td>\n",
       "      <td>3.199717</td>\n",
       "      <td>0.636474</td>\n",
       "      <td>0.945468</td>\n",
       "      <td>0.430601</td>\n",
       "      <td>0.754220</td>\n",
       "      <td>0.776023</td>\n",
       "      <td>1.092030e+05</td>\n",
       "      <td>...</td>\n",
       "      <td>0.107966</td>\n",
       "      <td>2.588771</td>\n",
       "      <td>0.357320</td>\n",
       "      <td>1.545266</td>\n",
       "      <td>2.877039</td>\n",
       "      <td>2.907914</td>\n",
       "      <td>10.552878</td>\n",
       "      <td>1468.630569</td>\n",
       "      <td>159.190337</td>\n",
       "      <td>242.789962</td>\n",
       "    </tr>\n",
       "    <tr>\n",
       "      <th>min</th>\n",
       "      <td>0.000190</td>\n",
       "      <td>0.000000</td>\n",
       "      <td>-17.8000</td>\n",
       "      <td>0.000470</td>\n",
       "      <td>0.000000</td>\n",
       "      <td>0.000000</td>\n",
       "      <td>0.025430</td>\n",
       "      <td>0.000000</td>\n",
       "      <td>0.000000</td>\n",
       "      <td>7.800000e-03</td>\n",
       "      <td>...</td>\n",
       "      <td>-0.130000</td>\n",
       "      <td>0.000014</td>\n",
       "      <td>-0.180000</td>\n",
       "      <td>-0.180000</td>\n",
       "      <td>0.000800</td>\n",
       "      <td>-7.410000</td>\n",
       "      <td>-2.600000</td>\n",
       "      <td>2200.000000</td>\n",
       "      <td>-98.231100</td>\n",
       "      <td>0.062000</td>\n",
       "    </tr>\n",
       "    <tr>\n",
       "      <th>25%</th>\n",
       "      <td>0.029655</td>\n",
       "      <td>0.006290</td>\n",
       "      <td>0.0057</td>\n",
       "      <td>0.045000</td>\n",
       "      <td>0.005940</td>\n",
       "      <td>0.005300</td>\n",
       "      <td>0.145000</td>\n",
       "      <td>0.010000</td>\n",
       "      <td>0.011600</td>\n",
       "      <td>4.301901e+00</td>\n",
       "      <td>...</td>\n",
       "      <td>0.030000</td>\n",
       "      <td>0.770000</td>\n",
       "      <td>0.030000</td>\n",
       "      <td>0.030000</td>\n",
       "      <td>2.690000</td>\n",
       "      <td>-2.000000</td>\n",
       "      <td>0.959500</td>\n",
       "      <td>4938.000000</td>\n",
       "      <td>60.590000</td>\n",
       "      <td>62.000000</td>\n",
       "    </tr>\n",
       "    <tr>\n",
       "      <th>50%</th>\n",
       "      <td>0.370000</td>\n",
       "      <td>0.041000</td>\n",
       "      <td>0.0400</td>\n",
       "      <td>0.731500</td>\n",
       "      <td>0.049300</td>\n",
       "      <td>0.050000</td>\n",
       "      <td>0.219000</td>\n",
       "      <td>0.020000</td>\n",
       "      <td>0.025000</td>\n",
       "      <td>1.092471e+01</td>\n",
       "      <td>...</td>\n",
       "      <td>0.050000</td>\n",
       "      <td>0.960000</td>\n",
       "      <td>0.056000</td>\n",
       "      <td>0.060000</td>\n",
       "      <td>4.170000</td>\n",
       "      <td>0.250000</td>\n",
       "      <td>2.200000</td>\n",
       "      <td>5540.000000</td>\n",
       "      <td>100.000000</td>\n",
       "      <td>100.000000</td>\n",
       "    </tr>\n",
       "    <tr>\n",
       "      <th>75%</th>\n",
       "      <td>1.466500</td>\n",
       "      <td>0.170000</td>\n",
       "      <td>0.1700</td>\n",
       "      <td>2.400000</td>\n",
       "      <td>0.170000</td>\n",
       "      <td>0.170000</td>\n",
       "      <td>0.384000</td>\n",
       "      <td>0.042000</td>\n",
       "      <td>0.050000</td>\n",
       "      <td>3.836498e+01</td>\n",
       "      <td>...</td>\n",
       "      <td>0.100000</td>\n",
       "      <td>1.245000</td>\n",
       "      <td>0.120000</td>\n",
       "      <td>0.180000</td>\n",
       "      <td>5.500000</td>\n",
       "      <td>1.890000</td>\n",
       "      <td>4.080000</td>\n",
       "      <td>5893.525000</td>\n",
       "      <td>129.025000</td>\n",
       "      <td>125.000000</td>\n",
       "    </tr>\n",
       "    <tr>\n",
       "      <th>max</th>\n",
       "      <td>12.934000</td>\n",
       "      <td>53.500000</td>\n",
       "      <td>inf</td>\n",
       "      <td>50.000000</td>\n",
       "      <td>13.000000</td>\n",
       "      <td>20.900000</td>\n",
       "      <td>6.900000</td>\n",
       "      <td>48.000000</td>\n",
       "      <td>48.000000</td>\n",
       "      <td>8.035500e+06</td>\n",
       "      <td>...</td>\n",
       "      <td>1.940000</td>\n",
       "      <td>51.100000</td>\n",
       "      <td>9.500000</td>\n",
       "      <td>104.530000</td>\n",
       "      <td>15.000000</td>\n",
       "      <td>86.000000</td>\n",
       "      <td>500.000000</td>\n",
       "      <td>42065.000000</td>\n",
       "      <td>5340.000000</td>\n",
       "      <td>9605.000000</td>\n",
       "    </tr>\n",
       "  </tbody>\n",
       "</table>\n",
       "<p>8 rows × 84 columns</p>\n",
       "</div>"
      ],
      "text/plain": [
       "              mass  mass_error_min  mass_error_max    mass_sini  \\\n",
       "count  2079.000000     2817.000000       2817.0000  1202.000000   \n",
       "mean      1.492538        0.324366             inf     1.983529   \n",
       "std       2.602286        1.351929             NaN     3.199717   \n",
       "min       0.000190        0.000000        -17.8000     0.000470   \n",
       "25%       0.029655        0.006290          0.0057     0.045000   \n",
       "50%       0.370000        0.041000          0.0400     0.731500   \n",
       "75%       1.466500        0.170000          0.1700     2.400000   \n",
       "max      12.934000       53.500000             inf    50.000000   \n",
       "\n",
       "       mass_sini_error_min  mass_sini_error_max       radius  \\\n",
       "count          1039.000000          1039.000000  4568.000000   \n",
       "mean              0.214687             0.240453     0.401515   \n",
       "std               0.636474             0.945468     0.430601   \n",
       "min               0.000000             0.000000     0.025430   \n",
       "25%               0.005940             0.005300     0.145000   \n",
       "50%               0.049300             0.050000     0.219000   \n",
       "75%               0.170000             0.170000     0.384000   \n",
       "max              13.000000            20.900000     6.900000   \n",
       "\n",
       "       radius_error_min  radius_error_max  orbital_period  ...  \\\n",
       "count       4093.000000       4093.000000    5.691000e+03  ...   \n",
       "mean           0.048986          0.060235    2.144347e+03  ...   \n",
       "std            0.754220          0.776023    1.092030e+05  ...   \n",
       "min            0.000000          0.000000    7.800000e-03  ...   \n",
       "25%            0.010000          0.011600    4.301901e+00  ...   \n",
       "50%            0.020000          0.025000    1.092471e+01  ...   \n",
       "75%            0.042000          0.050000    3.836498e+01  ...   \n",
       "max           48.000000         48.000000    8.035500e+06  ...   \n",
       "\n",
       "       star_mass_error_max  star_radius  star_radius_error_min  \\\n",
       "count          4531.000000  5353.000000            4835.000000   \n",
       "mean              0.088578     1.369229               0.128086   \n",
       "std               0.107966     2.588771               0.357320   \n",
       "min              -0.130000     0.000014              -0.180000   \n",
       "25%               0.030000     0.770000               0.030000   \n",
       "50%               0.050000     0.960000               0.056000   \n",
       "75%               0.100000     1.245000               0.120000   \n",
       "max               1.940000    51.100000               9.500000   \n",
       "\n",
       "       star_radius_error_max     star_age  star_age_error_min  \\\n",
       "count            4835.000000  3381.000000         3095.000000   \n",
       "mean                0.173382     4.478935            0.244626   \n",
       "std                 1.545266     2.877039            2.907914   \n",
       "min                -0.180000     0.000800           -7.410000   \n",
       "25%                 0.030000     2.690000           -2.000000   \n",
       "50%                 0.060000     4.170000            0.250000   \n",
       "75%                 0.180000     5.500000            1.890000   \n",
       "max               104.530000    15.000000           86.000000   \n",
       "\n",
       "       star_age_error_max     star_teff  star_teff_error_min  \\\n",
       "count         3095.000000   5475.000000          5268.000000   \n",
       "mean             2.986956   5385.455327           107.705562   \n",
       "std             10.552878   1468.630569           159.190337   \n",
       "min             -2.600000   2200.000000           -98.231100   \n",
       "25%              0.959500   4938.000000            60.590000   \n",
       "50%              2.200000   5540.000000           100.000000   \n",
       "75%              4.080000   5893.525000           129.025000   \n",
       "max            500.000000  42065.000000          5340.000000   \n",
       "\n",
       "       star_teff_error_max  \n",
       "count          5268.000000  \n",
       "mean            111.355858  \n",
       "std             242.789962  \n",
       "min               0.062000  \n",
       "25%              62.000000  \n",
       "50%             100.000000  \n",
       "75%             125.000000  \n",
       "max            9605.000000  \n",
       "\n",
       "[8 rows x 84 columns]"
      ]
     },
     "execution_count": 3,
     "metadata": {},
     "output_type": "execute_result"
    }
   ],
   "source": [
    "df.describe()"
   ]
  },
  {
   "cell_type": "code",
   "execution_count": 4,
   "id": "891642bc",
   "metadata": {},
   "outputs": [
    {
     "name": "stdout",
     "output_type": "stream",
     "text": [
      "<class 'pandas.core.frame.DataFrame'>\n",
      "RangeIndex: 5986 entries, 0 to 5985\n",
      "Data columns (total 98 columns):\n",
      " #   Column                      Non-Null Count  Dtype  \n",
      "---  ------                      --------------  -----  \n",
      " 0   name                        5986 non-null   object \n",
      " 1   planet_status               5986 non-null   object \n",
      " 2   mass                        2079 non-null   float64\n",
      " 3   mass_error_min              2817 non-null   float64\n",
      " 4   mass_error_max              2817 non-null   float64\n",
      " 5   mass_sini                   1202 non-null   float64\n",
      " 6   mass_sini_error_min         1039 non-null   float64\n",
      " 7   mass_sini_error_max         1039 non-null   float64\n",
      " 8   radius                      4568 non-null   float64\n",
      " 9   radius_error_min            4093 non-null   float64\n",
      " 10  radius_error_max            4093 non-null   float64\n",
      " 11  orbital_period              5691 non-null   float64\n",
      " 12  orbital_period_error_min    5091 non-null   float64\n",
      " 13  orbital_period_error_max    5091 non-null   float64\n",
      " 14  semi_major_axis             4435 non-null   float64\n",
      " 15  semi_major_axis_error_min   2893 non-null   float64\n",
      " 16  semi_major_axis_error_max   2893 non-null   float64\n",
      " 17  eccentricity                2877 non-null   float64\n",
      " 18  eccentricity_error_min      1892 non-null   float64\n",
      " 19  eccentricity_error_max      1892 non-null   float64\n",
      " 20  inclination                 2262 non-null   float64\n",
      " 21  inclination_error_min       1662 non-null   float64\n",
      " 22  inclination_error_max       1660 non-null   float64\n",
      " 23  angular_distance            610 non-null    float64\n",
      " 24  discovered                  5986 non-null   int64  \n",
      " 25  updated                     5986 non-null   object \n",
      " 26  omega                       1541 non-null   float64\n",
      " 27  omega_error_min             1446 non-null   float64\n",
      " 28  omega_error_max             1446 non-null   float64\n",
      " 29  tperi                       790 non-null    float64\n",
      " 30  tperi_error_min             728 non-null    float64\n",
      " 31  tperi_error_max             728 non-null    float64\n",
      " 32  tconj                       2641 non-null   float64\n",
      " 33  tconj_error_min             2577 non-null   float64\n",
      " 34  tconj_error_max             2577 non-null   float64\n",
      " 35  tzero_tr                    2037 non-null   float64\n",
      " 36  tzero_tr_error_min          1963 non-null   float64\n",
      " 37  tzero_tr_error_max          1963 non-null   float64\n",
      " 38  tzero_tr_sec                48 non-null     float64\n",
      " 39  tzero_tr_sec_error_min      47 non-null     float64\n",
      " 40  tzero_tr_sec_error_max      47 non-null     float64\n",
      " 41  lambda_angle                141 non-null    float64\n",
      " 42  lambda_angle_error_min      140 non-null    float64\n",
      " 43  lambda_angle_error_max      140 non-null    float64\n",
      " 44  impact_parameter            2609 non-null   float64\n",
      " 45  impact_parameter_error_min  2585 non-null   float64\n",
      " 46  impact_parameter_error_max  2585 non-null   float64\n",
      " 47  tzero_vr                    34 non-null     float64\n",
      " 48  tzero_vr_error_min          32 non-null     float64\n",
      " 49  tzero_vr_error_max          32 non-null     float64\n",
      " 50  k                           1809 non-null   float64\n",
      " 51  k_error_min                 1766 non-null   float64\n",
      " 52  k_error_max                 1766 non-null   float64\n",
      " 53  temp_calculated             1983 non-null   float64\n",
      " 54  temp_calculated_error_min   1150 non-null   float64\n",
      " 55  temp_calculated_error_max   1150 non-null   float64\n",
      " 56  temp_measured               26 non-null     float64\n",
      " 57  hot_point_lon               3 non-null      float64\n",
      " 58  geometric_albedo            18 non-null     float64\n",
      " 59  geometric_albedo_error_min  16 non-null     float64\n",
      " 60  geometric_albedo_error_max  16 non-null     float64\n",
      " 61  log_g                       14 non-null     float64\n",
      " 62  publication                 5986 non-null   object \n",
      " 63  detection_type              5986 non-null   object \n",
      " 64  mass_measurement_type       2282 non-null   object \n",
      " 65  radius_measurement_type     2020 non-null   object \n",
      " 66  alternate_names             3973 non-null   object \n",
      " 67  molecules                   102 non-null    object \n",
      " 68  star_name                   5986 non-null   object \n",
      " 69  ra                          5986 non-null   float64\n",
      " 70  dec                         5986 non-null   float64\n",
      " 71  mag_v                       3112 non-null   float64\n",
      " 72  mag_i                       530 non-null    float64\n",
      " 73  mag_j                       3583 non-null   float64\n",
      " 74  mag_h                       3569 non-null   float64\n",
      " 75  mag_k                       2926 non-null   float64\n",
      " 76  star_distance               5722 non-null   float64\n",
      " 77  star_distance_error_min     4191 non-null   float64\n",
      " 78  star_distance_error_max     4191 non-null   float64\n",
      " 79  star_metallicity            5047 non-null   float64\n",
      " 80  star_metallicity_error_min  4202 non-null   float64\n",
      " 81  star_metallicity_error_max  4202 non-null   float64\n",
      " 82  star_mass                   5594 non-null   float64\n",
      " 83  star_mass_error_min         4531 non-null   float64\n",
      " 84  star_mass_error_max         4531 non-null   float64\n",
      " 85  star_radius                 5353 non-null   float64\n",
      " 86  star_radius_error_min       4835 non-null   float64\n",
      " 87  star_radius_error_max       4835 non-null   float64\n",
      " 88  star_sp_type                3128 non-null   object \n",
      " 89  star_age                    3381 non-null   float64\n",
      " 90  star_age_error_min          3095 non-null   float64\n",
      " 91  star_age_error_max          3095 non-null   float64\n",
      " 92  star_teff                   5475 non-null   float64\n",
      " 93  star_teff_error_min         5268 non-null   float64\n",
      " 94  star_teff_error_max         5268 non-null   float64\n",
      " 95  star_detected_disc          93 non-null     object \n",
      " 96  star_magnetic_field         4 non-null      object \n",
      " 97  star_alternate_names        4154 non-null   object \n",
      "dtypes: float64(83), int64(1), object(14)\n",
      "memory usage: 4.5+ MB\n"
     ]
    }
   ],
   "source": [
    "df.info()"
   ]
  },
  {
   "cell_type": "code",
   "execution_count": 5,
   "id": "0ec5315a",
   "metadata": {},
   "outputs": [],
   "source": [
    "import plotly.express as px"
   ]
  },
  {
   "cell_type": "code",
   "execution_count": 6,
   "id": "ae3ea7ef",
   "metadata": {},
   "outputs": [
    {
     "data": {
      "application/vnd.plotly.v1+json": {
       "config": {
        "plotlyServerURL": "https://plot.ly"
       },
       "data": [
        {
         "hovertemplate": "mass=%{x}<br>radius=%{y}<extra></extra>",
         "legendgroup": "",
         "marker": {
          "color": "#636efa",
          "symbol": "circle"
         },
         "mode": "markers",
         "name": "",
         "showlegend": false,
         "type": "scattergl",
         "x": {
          "bdata": "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",
          "dtype": "f8"
         },
         "xaxis": "x",
         "y": {
          "bdata": "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",
          "dtype": "f8"
         },
         "yaxis": "y"
        }
       ],
       "layout": {
        "legend": {
         "tracegroupgap": 0
        },
        "margin": {
         "t": 60
        },
        "template": {
         "data": {
          "bar": [
           {
            "error_x": {
             "color": "#2a3f5f"
            },
            "error_y": {
             "color": "#2a3f5f"
            },
            "marker": {
             "line": {
              "color": "#E5ECF6",
              "width": 0.5
             },
             "pattern": {
              "fillmode": "overlay",
              "size": 10,
              "solidity": 0.2
             }
            },
            "type": "bar"
           }
          ],
          "barpolar": [
           {
            "marker": {
             "line": {
              "color": "#E5ECF6",
              "width": 0.5
             },
             "pattern": {
              "fillmode": "overlay",
              "size": 10,
              "solidity": 0.2
             }
            },
            "type": "barpolar"
           }
          ],
          "carpet": [
           {
            "aaxis": {
             "endlinecolor": "#2a3f5f",
             "gridcolor": "white",
             "linecolor": "white",
             "minorgridcolor": "white",
             "startlinecolor": "#2a3f5f"
            },
            "baxis": {
             "endlinecolor": "#2a3f5f",
             "gridcolor": "white",
             "linecolor": "white",
             "minorgridcolor": "white",
             "startlinecolor": "#2a3f5f"
            },
            "type": "carpet"
           }
          ],
          "choropleth": [
           {
            "colorbar": {
             "outlinewidth": 0,
             "ticks": ""
            },
            "type": "choropleth"
           }
          ],
          "contour": [
           {
            "colorbar": {
             "outlinewidth": 0,
             "ticks": ""
            },
            "colorscale": [
             [
              0,
              "#0d0887"
             ],
             [
              0.1111111111111111,
              "#46039f"
             ],
             [
              0.2222222222222222,
              "#7201a8"
             ],
             [
              0.3333333333333333,
              "#9c179e"
             ],
             [
              0.4444444444444444,
              "#bd3786"
             ],
             [
              0.5555555555555556,
              "#d8576b"
             ],
             [
              0.6666666666666666,
              "#ed7953"
             ],
             [
              0.7777777777777778,
              "#fb9f3a"
             ],
             [
              0.8888888888888888,
              "#fdca26"
             ],
             [
              1,
              "#f0f921"
             ]
            ],
            "type": "contour"
           }
          ],
          "contourcarpet": [
           {
            "colorbar": {
             "outlinewidth": 0,
             "ticks": ""
            },
            "type": "contourcarpet"
           }
          ],
          "heatmap": [
           {
            "colorbar": {
             "outlinewidth": 0,
             "ticks": ""
            },
            "colorscale": [
             [
              0,
              "#0d0887"
             ],
             [
              0.1111111111111111,
              "#46039f"
             ],
             [
              0.2222222222222222,
              "#7201a8"
             ],
             [
              0.3333333333333333,
              "#9c179e"
             ],
             [
              0.4444444444444444,
              "#bd3786"
             ],
             [
              0.5555555555555556,
              "#d8576b"
             ],
             [
              0.6666666666666666,
              "#ed7953"
             ],
             [
              0.7777777777777778,
              "#fb9f3a"
             ],
             [
              0.8888888888888888,
              "#fdca26"
             ],
             [
              1,
              "#f0f921"
             ]
            ],
            "type": "heatmap"
           }
          ],
          "histogram": [
           {
            "marker": {
             "pattern": {
              "fillmode": "overlay",
              "size": 10,
              "solidity": 0.2
             }
            },
            "type": "histogram"
           }
          ],
          "histogram2d": [
           {
            "colorbar": {
             "outlinewidth": 0,
             "ticks": ""
            },
            "colorscale": [
             [
              0,
              "#0d0887"
             ],
             [
              0.1111111111111111,
              "#46039f"
             ],
             [
              0.2222222222222222,
              "#7201a8"
             ],
             [
              0.3333333333333333,
              "#9c179e"
             ],
             [
              0.4444444444444444,
              "#bd3786"
             ],
             [
              0.5555555555555556,
              "#d8576b"
             ],
             [
              0.6666666666666666,
              "#ed7953"
             ],
             [
              0.7777777777777778,
              "#fb9f3a"
             ],
             [
              0.8888888888888888,
              "#fdca26"
             ],
             [
              1,
              "#f0f921"
             ]
            ],
            "type": "histogram2d"
           }
          ],
          "histogram2dcontour": [
           {
            "colorbar": {
             "outlinewidth": 0,
             "ticks": ""
            },
            "colorscale": [
             [
              0,
              "#0d0887"
             ],
             [
              0.1111111111111111,
              "#46039f"
             ],
             [
              0.2222222222222222,
              "#7201a8"
             ],
             [
              0.3333333333333333,
              "#9c179e"
             ],
             [
              0.4444444444444444,
              "#bd3786"
             ],
             [
              0.5555555555555556,
              "#d8576b"
             ],
             [
              0.6666666666666666,
              "#ed7953"
             ],
             [
              0.7777777777777778,
              "#fb9f3a"
             ],
             [
              0.8888888888888888,
              "#fdca26"
             ],
             [
              1,
              "#f0f921"
             ]
            ],
            "type": "histogram2dcontour"
           }
          ],
          "mesh3d": [
           {
            "colorbar": {
             "outlinewidth": 0,
             "ticks": ""
            },
            "type": "mesh3d"
           }
          ],
          "parcoords": [
           {
            "line": {
             "colorbar": {
              "outlinewidth": 0,
              "ticks": ""
             }
            },
            "type": "parcoords"
           }
          ],
          "pie": [
           {
            "automargin": true,
            "type": "pie"
           }
          ],
          "scatter": [
           {
            "fillpattern": {
             "fillmode": "overlay",
             "size": 10,
             "solidity": 0.2
            },
            "type": "scatter"
           }
          ],
          "scatter3d": [
           {
            "line": {
             "colorbar": {
              "outlinewidth": 0,
              "ticks": ""
             }
            },
            "marker": {
             "colorbar": {
              "outlinewidth": 0,
              "ticks": ""
             }
            },
            "type": "scatter3d"
           }
          ],
          "scattercarpet": [
           {
            "marker": {
             "colorbar": {
              "outlinewidth": 0,
              "ticks": ""
             }
            },
            "type": "scattercarpet"
           }
          ],
          "scattergeo": [
           {
            "marker": {
             "colorbar": {
              "outlinewidth": 0,
              "ticks": ""
             }
            },
            "type": "scattergeo"
           }
          ],
          "scattergl": [
           {
            "marker": {
             "colorbar": {
              "outlinewidth": 0,
              "ticks": ""
             }
            },
            "type": "scattergl"
           }
          ],
          "scattermap": [
           {
            "marker": {
             "colorbar": {
              "outlinewidth": 0,
              "ticks": ""
             }
            },
            "type": "scattermap"
           }
          ],
          "scattermapbox": [
           {
            "marker": {
             "colorbar": {
              "outlinewidth": 0,
              "ticks": ""
             }
            },
            "type": "scattermapbox"
           }
          ],
          "scatterpolar": [
           {
            "marker": {
             "colorbar": {
              "outlinewidth": 0,
              "ticks": ""
             }
            },
            "type": "scatterpolar"
           }
          ],
          "scatterpolargl": [
           {
            "marker": {
             "colorbar": {
              "outlinewidth": 0,
              "ticks": ""
             }
            },
            "type": "scatterpolargl"
           }
          ],
          "scatterternary": [
           {
            "marker": {
             "colorbar": {
              "outlinewidth": 0,
              "ticks": ""
             }
            },
            "type": "scatterternary"
           }
          ],
          "surface": [
           {
            "colorbar": {
             "outlinewidth": 0,
             "ticks": ""
            },
            "colorscale": [
             [
              0,
              "#0d0887"
             ],
             [
              0.1111111111111111,
              "#46039f"
             ],
             [
              0.2222222222222222,
              "#7201a8"
             ],
             [
              0.3333333333333333,
              "#9c179e"
             ],
             [
              0.4444444444444444,
              "#bd3786"
             ],
             [
              0.5555555555555556,
              "#d8576b"
             ],
             [
              0.6666666666666666,
              "#ed7953"
             ],
             [
              0.7777777777777778,
              "#fb9f3a"
             ],
             [
              0.8888888888888888,
              "#fdca26"
             ],
             [
              1,
              "#f0f921"
             ]
            ],
            "type": "surface"
           }
          ],
          "table": [
           {
            "cells": {
             "fill": {
              "color": "#EBF0F8"
             },
             "line": {
              "color": "white"
             }
            },
            "header": {
             "fill": {
              "color": "#C8D4E3"
             },
             "line": {
              "color": "white"
             }
            },
            "type": "table"
           }
          ]
         },
         "layout": {
          "annotationdefaults": {
           "arrowcolor": "#2a3f5f",
           "arrowhead": 0,
           "arrowwidth": 1
          },
          "autotypenumbers": "strict",
          "coloraxis": {
           "colorbar": {
            "outlinewidth": 0,
            "ticks": ""
           }
          },
          "colorscale": {
           "diverging": [
            [
             0,
             "#8e0152"
            ],
            [
             0.1,
             "#c51b7d"
            ],
            [
             0.2,
             "#de77ae"
            ],
            [
             0.3,
             "#f1b6da"
            ],
            [
             0.4,
             "#fde0ef"
            ],
            [
             0.5,
             "#f7f7f7"
            ],
            [
             0.6,
             "#e6f5d0"
            ],
            [
             0.7,
             "#b8e186"
            ],
            [
             0.8,
             "#7fbc41"
            ],
            [
             0.9,
             "#4d9221"
            ],
            [
             1,
             "#276419"
            ]
           ],
           "sequential": [
            [
             0,
             "#0d0887"
            ],
            [
             0.1111111111111111,
             "#46039f"
            ],
            [
             0.2222222222222222,
             "#7201a8"
            ],
            [
             0.3333333333333333,
             "#9c179e"
            ],
            [
             0.4444444444444444,
             "#bd3786"
            ],
            [
             0.5555555555555556,
             "#d8576b"
            ],
            [
             0.6666666666666666,
             "#ed7953"
            ],
            [
             0.7777777777777778,
             "#fb9f3a"
            ],
            [
             0.8888888888888888,
             "#fdca26"
            ],
            [
             1,
             "#f0f921"
            ]
           ],
           "sequentialminus": [
            [
             0,
             "#0d0887"
            ],
            [
             0.1111111111111111,
             "#46039f"
            ],
            [
             0.2222222222222222,
             "#7201a8"
            ],
            [
             0.3333333333333333,
             "#9c179e"
            ],
            [
             0.4444444444444444,
             "#bd3786"
            ],
            [
             0.5555555555555556,
             "#d8576b"
            ],
            [
             0.6666666666666666,
             "#ed7953"
            ],
            [
             0.7777777777777778,
             "#fb9f3a"
            ],
            [
             0.8888888888888888,
             "#fdca26"
            ],
            [
             1,
             "#f0f921"
            ]
           ]
          },
          "colorway": [
           "#636efa",
           "#EF553B",
           "#00cc96",
           "#ab63fa",
           "#FFA15A",
           "#19d3f3",
           "#FF6692",
           "#B6E880",
           "#FF97FF",
           "#FECB52"
          ],
          "font": {
           "color": "#2a3f5f"
          },
          "geo": {
           "bgcolor": "white",
           "lakecolor": "white",
           "landcolor": "#E5ECF6",
           "showlakes": true,
           "showland": true,
           "subunitcolor": "white"
          },
          "hoverlabel": {
           "align": "left"
          },
          "hovermode": "closest",
          "mapbox": {
           "style": "light"
          },
          "paper_bgcolor": "white",
          "plot_bgcolor": "#E5ECF6",
          "polar": {
           "angularaxis": {
            "gridcolor": "white",
            "linecolor": "white",
            "ticks": ""
           },
           "bgcolor": "#E5ECF6",
           "radialaxis": {
            "gridcolor": "white",
            "linecolor": "white",
            "ticks": ""
           }
          },
          "scene": {
           "xaxis": {
            "backgroundcolor": "#E5ECF6",
            "gridcolor": "white",
            "gridwidth": 2,
            "linecolor": "white",
            "showbackground": true,
            "ticks": "",
            "zerolinecolor": "white"
           },
           "yaxis": {
            "backgroundcolor": "#E5ECF6",
            "gridcolor": "white",
            "gridwidth": 2,
            "linecolor": "white",
            "showbackground": true,
            "ticks": "",
            "zerolinecolor": "white"
           },
           "zaxis": {
            "backgroundcolor": "#E5ECF6",
            "gridcolor": "white",
            "gridwidth": 2,
            "linecolor": "white",
            "showbackground": true,
            "ticks": "",
            "zerolinecolor": "white"
           }
          },
          "shapedefaults": {
           "line": {
            "color": "#2a3f5f"
           }
          },
          "ternary": {
           "aaxis": {
            "gridcolor": "white",
            "linecolor": "white",
            "ticks": ""
           },
           "baxis": {
            "gridcolor": "white",
            "linecolor": "white",
            "ticks": ""
           },
           "bgcolor": "#E5ECF6",
           "caxis": {
            "gridcolor": "white",
            "linecolor": "white",
            "ticks": ""
           }
          },
          "title": {
           "x": 0.05
          },
          "xaxis": {
           "automargin": true,
           "gridcolor": "white",
           "linecolor": "white",
           "ticks": "",
           "title": {
            "standoff": 15
           },
           "zerolinecolor": "white",
           "zerolinewidth": 2
          },
          "yaxis": {
           "automargin": true,
           "gridcolor": "white",
           "linecolor": "white",
           "ticks": "",
           "title": {
            "standoff": 15
           },
           "zerolinecolor": "white",
           "zerolinewidth": 2
          }
         }
        },
        "xaxis": {
         "anchor": "y",
         "domain": [
          0,
          1
         ],
         "title": {
          "text": "mass"
         }
        },
        "yaxis": {
         "anchor": "x",
         "domain": [
          0,
          1
         ],
         "title": {
          "text": "radius"
         }
        }
       }
      }
     },
     "metadata": {},
     "output_type": "display_data"
    }
   ],
   "source": [
    "px.scatter(df, x=\"mass\", y=\"radius\")"
   ]
  },
  {
   "cell_type": "code",
   "execution_count": 8,
   "id": "a84467d8",
   "metadata": {},
   "outputs": [
    {
     "data": {
      "application/vnd.plotly.v1+json": {
       "config": {
        "plotlyServerURL": "https://plot.ly"
       },
       "data": [
        {
         "hovertemplate": "mass=%{x}<br>star_mass=%{y}<extra></extra>",
         "legendgroup": "",
         "marker": {
          "color": "#636efa",
          "symbol": "circle"
         },
         "mode": "markers",
         "name": "",
         "showlegend": false,
         "type": "scattergl",
         "x": {
          "bdata": "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",
          "dtype": "f8"
         },
         "xaxis": "x",
         "y": {
          "bdata": "FK5H4XoU8j+amZmZmZnxP5qZmZmZmfE/zczMzMzM/D+amZmZmZkBQM3MzMzMzOw/zczMzMzM7D8pXI/C9SjwP2ZmZmZmZgJAH4XrUbge8T8fhetRuB7xP65H4XoUru8/pHA9Ctej+D+kcD0K16P4PwAAAAAAAPh/TDeJQWDlsD9MN4lBYOWQPwAAAAAAAPh/AAAAAAAA+H8AAAAAAAD4fx3J5T+k3+I/MzMzMzMz4z/hehSuR+HyP9ejcD0K1/c/hetRuB6FAUB7FK5H4XrwP3sUrkfhevA/exSuR+F68D8AAAAAAAD8P3sUrkfhevA/SOF6FK5H6T/NzMzMzMzsP83MzMzMzOw/zczMzMzM7D/NzMzMzMzsP83MzMzMzOw/ZmZmZmZm7j9mZmZmZmbuP2ZmZmZmZu4/MzMzMzMz+z9xPQrXo3DtP+xRuB6F6wNA7FG4HoXrA0ApXI/C9SjwPzMzMzMzMwNAarx0kxgE6j9qvHSTGATqP2q8dJMYBOo/arx0kxgE6j/NzMzMzMz8P3E9CtejcPU/MzMzMzMzA0AAAAAAAAD4fzMzMzMzM/M/AAAAAAAA+D9cj8L1KFzfPwAAAAAAAOA/AAAAAAAA4D8AAAAAAADgPyPb+X5qvMQ/I9v5fmq8xD8j2/l+arzEPyPb+X5qvMQ/AAAAAAAAFkA9CtejcD3yP2ZmZmZmZuY/ZmZmZmZm5j9mZmZmZmbmP65H4XoUruc/rkfhehSu5z+uR+F6FK7vPxKDwMqhReI/EoPAyqFF4j+F61G4HoXrP0jhehSuR/E/mpmZmZmZ8T+uR+F6FK7nP2ZmZmZmZgZAmpmZmZmZ6T+4HoXrUbj6P+58PzVeuuU/AAAAAAAA+H+uR+F6FK7nP3E9CtejcPE/UrgehetR+D8AAAAAAAD4fzMzMzMzM+s/0ZFc/kP69j8zMzMzMzP7P65H4XoUrvs/rkfhehSu+z9mZmZmZmb2P8/3U+Olm8Q/0gDeAgmKjz+F61G4HoXzP1yPwvUoXAFAXI/C9ShcAUBmZmZmZmbWP83MzMzMzOw/rkfhehSu1z97FK5H4XrsP1K4HoXrUfQ/c2iR7Xw/8T9xPQrXo3DxPxSuR+F6FPI/xSCwcmiR8T+kcD0K16PwP2ZmZmZmZu4/XI/C9Shc8z9mZmZmZmbuPz0K16NwPfI/pHA9Ctej9D8v3SQGgZXxPz0K16NwPfI/H4XrUbge7T8fhetRuB7tP3E9CtejcPE/cT0K16Nw8T/NzMzMzMzwPylcj8L1KPA/CKwcWmQ77z+0yHa+nxrvP1yPwvUoXO8/AAAAAAAA9D9xPQrXo3DxPylcj8L1KPA/H4XrUbge9T+amZmZmZnxPwAAAAAAAPA/4XoUrkfh8D/D9Shcj8LtP8P1KFyPwu0/w/UoXI/C7T8pXI/C9SjsP65H4XoUru8/zczMzMzM7D8AAAAAAAD4f65H4XoUrtc/AAAAAAAA9D8UrkfhehTmP+Olm8QgsO4/AAAAAAAA+H8AAAAAAADgPzMzMzMzM+s/MzMzMzMz+z+PwvUoXI/qP/yp8dJNYug/MzMzMzMz8z+amZmZmZkFQI/C9Shcj/4/MzMzMzMz+z8zMzMzMzP7P+XQItv5fvY/PzVeukkMwj8/NV66SQzCPwAAAAAAAMA/NV66SQwC0z81XrpJDALTP5huEoPAysE/j8L1KFyP0j/D9Shcj8LtP9ejcD0K1/M/AAAAAAAA8D+PwvUoXI/mP1ncf2Q6dOQ/K4cW2c735z9SuB6F61H0P4XrUbgehfc/hetRuB6F9z8AAAAAAAD4fwAAAAAAAPh/AAAAAAAA+H+HFtnO91PbP7gehetRuL4/uB6F61G4vj+4HoXrUbi+P166SQwCK8c/XrpJDAIrxz9CPujZrPrEPzMzMzMzM8M//Knx0k1i2D9iEFg5tMjGP+F6FK5H4co/UrgehetR6D9SuB6F61HoPwAAAAAAANg/AAAAAAAA2D8UrkfhehTmP5qZmZmZmdk/mpmZmZmZ2T+amZmZmZnZP1yPwvUoXN8/XI/C9Shc3z8MAiuHFtnWPwwCK4cW2dY/hetRuB6F2z+F61G4HoXbP4XrUbgehds/uB6F61G47j+4HoXrUbjuP9ejcD0K1+M/16NwPQrX4z/NzMzMzMzkP5zEILByaOE/nMQgsHJo4T/hehSuR+HaPwrXo3A9Ctc/9ihcj8L14D/NzMzMzMzsPxSuR+F6FN4/z/dT46Wb4D+YbhKDwMrlP5huEoPAyuU/mG4Sg8DK5T/hehSuR+HaP+F6FK5H4do/hetRuB6F6z8UrkfhehTmPxSuR+F6FOY/4XoUrkfh2j/hehSuR+HaP+F6FK5H4do/4XoUrkfh2j/LoUW28/3EP8uhRbbz/cQ/FK5H4XoU3j97FK5H4XrkP05iEFg5tOA/UrgehetR4D8K16NwPQrXPwrXo3A9Ctc/sHJoke18vz+wcmiR7Xy/PxfZzvdT49U/F9nO91Pj1T8X2c73U+PVP8uhRbbz/dw/dZMYBFYO3T91kxgEVg7dP3WTGARWDt0/SOF6FK5H0T8tsp3vp8bTPy2yne+nxtM/3SQGgZVD2z8pXI/C9SjkP2sr9pfdk8c/AAAAAAAA4D8AAAAAAADgPwAAAAAAAOA/zczMzMzM5D/NzMzMzMzkP5ZDi2zn+9k/lkOLbOf72T+4HoXrUbjeP7gehetRuN4/uB6F61G43j8hsHJoke3cP1yPwvUoXN8/y6FFtvP93D/LoUW28/3cP3npJjEIrNQ/hetRuB6F8z+kcD0K16PgP9ejcD0K19M/16NwPQrX0z/Xo3A9CtfTPzMzMzMzM9M/SOF6FK5H4T9I4XoUrkfhPx+F61G4HtU/H4XrUbge1T8fhetRuB7VPx+F61G4HtU/H4XrUbge1T9mZmZmZmbWP7gehetRuOY/uB6F61G45j+4HoXrUbjmP0jhehSuR9E/SOF6FK5H0T+amZmZmZnhPzvfT42Xbto/O99PjZdu2j89CtejcD3iP1kXt9EA3uA/AAAAAAAA+H/NzMzMzMzcP1yPwvUoXO8/XI/C9Shc7z9cj8L1KFzvP/YoXI/C9eg/9ihcj8L16D/NzMzMzMzcP1yPwvUoXN8/XI/C9Shc3z8pXI/C9SjsP8dLN4lBYNU/x0s3iUFg1T/HSzeJQWDVP8dLN4lBYNU/sp3vp8ZL3z+yne+nxkvfP/bRqSuf5ds/mpmZmZmZ5T8zMzMzMzPDP7ByaJHtfOM/4XoUrkfh4j9xPQrXo3DlP0oMAiuHFuU/SgwCK4cW5T9KDAIrhxblP+xRuB6F6+E/mpmZmZmZ4T9SuB6F61HgP+F6FK5H4do/AAAAAAAA+H8MAiuHFtnOP3sUrkfheuA/ZmZmZmZm1j89CtejcD3qPxfZzvdT4+k/F9nO91Pj6T9cj8L1KFznP4XrUbgehfM/kxgEVg4t9j9oke18PzXwP7ByaJHtfPM/BoGVQ4ts6z8GgZVDi2zrP6RwPQrXo+g/i2zn+6nx6j/RItv5fmryP/7UeOkmMeg/5/up8dJN7j8dWmQ730/tPxSuR+F6FPI/dZMYBFYO8z8pXI/C9SjwP+kmMQisHOo/6SYxCKwc6j89CtejcD3uPz0K16NwPe4/ZmZmZmZm8D8dWmQ730/zP3E9CtejcPU/cT0K16Nw9T/hehSuR+HyP7ByaJHtfPM/N4lBYOXQ8j+mm8QgsHL2P8P1KFyPwvU/LbKd76fG8z8nMQisHFrwP+58PzVeuu0/JzEIrBxa7D8QWDm0yHb2P/LSTWIQWO0//tR46SYx+D8fhetRuB71P3e+nxov3fI/+FPjpZvE8D8/NV66SQzuPz81XrpJDO4/vp8aL90k9D8lBoGVQ4v0PyUGgZVDi/Q//tR46SYx9j8v3SQGgZXxP+Olm8QgsPg/KVyPwvUo9D+R7Xw/NV70PwisHFpkO+8//Knx0k1i7D+wcmiR7XzxP6RwPQrXo+Q/aJHtfD818D+4HoXrUbj2P4XrUbgehfc/5dAi2/l+8D8AAAAAAADwP8/3U+Olm/I/9ihcj8L19j+q8dJNYhDwP5HtfD81XvA/mpmZmZmZ7T/4U+Olm8T0PzEIrBxaZPM/FK5H4XoU9D956SYxCKz0P4PAyqFFtuU/XrpJDAIr+z+kcD0K16P0Pz0K16NwPf4/WmQ730+N9T+PwvUoXI/0P3sUrkfhevQ/mpmZmZmZ8T/2KFyPwvXwP4/C9Shcj/I/YhBYObTI7j+LbOf7qfHuP6wcWmQ73+s/CtejcD0K7z9/arx0kxjyP2Q730+Nl/A/DAIrhxbZ9D9aZDvfT43vPx+F61G4Hu0/SOF6FK5H8T99PzVeuknoP1YOLbKd7/E/MQisHFpk8z8CK4cW2c7vP2IQWDm0yPQ/pHA9Ctej9j/ufD81XrrtP1CNl24Sg/A/001iEFg57D+wcmiR7XzxP2ZmZmZmZvQ/L90kBoGV8T/LoUW28/3wP4/C9Shcj+4/30+Nl24S9T+amZmZmZnxP2Dl0CLb+eo/exSuR+F67D+q8dJNYhD2P/LSTWIQWPM/9ihcj8L1+D9WDi2yne/3P5HtfD81XvQ/YhBYObTI6j+F61G4HoXrPycxCKwcWvQ/8tJNYhBY7T/FILByaJHlP9BE2PD0Suc/3pOHhVrT5j9qvHSTGATwP+Olm8QgsPI/y6FFtvP98j8tsp3vp8bxPwwCK4cW2e4/zczMzMzM8D9U46WbxCDzP166SQwCK/k/0SLb+X5q8D/HSzeJQWD3P8/3U+Olm/A/z/dT46Wb8D/ByqFFtvPtP5qZmZmZmfE/MzMzMzMz8T/0/dR46SbtP5huEoPAyu0/y6FFtvP9+D/n+6nx0k30P+XQItv5fvY/CtejcD0K9z8xCKwcWmT1PyUGgZVDi+w/ke18PzVe4j97FK5H4Xr8P2iR7Xw/NeI/E2HD0ytl5z8zMzMzMzPjPzcawFsgQeM/yXa+nxov5T/2KFyPwvXkP166SQwCK+s/TDeJQWDl8D+amZmZmZnxPzMzMzMzMwNAMzMzMzMzA0AAAAAAAADwP0w3iUFg5eQ/TDeJQWDl5D/2KFyPwvXwP/YoXI/C9fA/9ihcj8L18D/2KFyPwvXwP/YoXI/C9fA/9ihcj8L18D+uR+F6FK7nP3sUrkfhevA/bxKDwMqh7T9mZmZmZmb+P2ZmZmZmZv4/MzMzMzMz/z8zMzMzMzP/PzMzMzMzM+s/ZmZmZmZm7j9cj8L1KFwDQOF6FK5H4fo/zczMzMzM7D+cxCCwcmjpP1yPwvUoXPU/exSuR+F69D+kcD0K16PoPx1aZDvfT+k/HVpkO99P6T8dWmQ730/pP/YoXI/C9fg/mpmZmZmZ+T8pXI/C9SjwP3sUrkfheuw/uB6F61G47j8fhetRuB71P3E9CtejcPE/cT0K16Nw8T+amZmZmZnxPx+F61G4Hu0/MzMzMzMz8z8AAAAAAAD4P+xRuB6F6/E/7FG4HoXr8T8K16NwPQrzP65H4XoUruc/sp3vp8ZL6z+yne+nxkvrP7Kd76fGS+s/sp3vp8ZL6z+yne+nxkvrP2Dl0CLb+eo/mpmZmZmZ/T8AAAAAAADwPwAAAAAAAPA/KVyPwvUo8D+Nl24Sg8DwP42XbhKDwPA/XI/C9Shc7z8zMzMzMzPzPwAAAAAAAPh/8KfGSzeJ6T/wp8ZLN4npP/Cnxks3iek/8KfGSzeJ6T/wp8ZLN4npP/Cnxks3iek/gZVDi2zn7z+BlUOLbOfvPx+F61G4HvE/9ihcj8L16D8K16NwPQr/PwrXo3A9Cvc/ZmZmZmZm8j/NzMzMzMz8P2ZmZmZmZvY/ZmZmZmZm9j+4HoXrUbjiP7gehetRuOI/hetRuB6F9z8AAAAAAADoPwAAAAAAAOg/UrgehetR9D/D9Shcj8LtP3E9CtejcO0/cT0K16Nw7T97FK5H4XrwP9ejcD0K1/M/16NwPQrX8z/Xo3A9CtfzP4/C9Shcj+o/j8L1KFyP6j8rhxbZzvfzP+F6FK5H4fI/SOF6FK5H+T9I4XoUrkf5Px+F61G4HvE/zczMzMzM7D/NzMzMzMzwP9nO91PjpfU/2c73U+Ol9T9mZmZmZmb2PwAAAAAAAPI/AAAAAAAA8j8fhetRuB4DQOF6FK5H4fI/FK5H4XoU8j+PwvUoXI/yPylcj8L1KPA/AAAAAAAA6D/D9Shcj8L1P/7UeOkmMeg/mpmZmZmZ8T+amZmZmZnxP5qZmZmZmfE/MzMzMzMz8z8AAAAAAAD4f1K4HoXrUfI/H4XrUbge8T8fhetRuB7xP1yPwvUoXOc/4XoUrkfh6j/hehSuR+HqP83MzMzMzOQ/uB6F61G48j+uR+F6FK7vP0jhehSuR+k/w/UoXI/C+T+amZmZmZn1P3E9CtejcPE/KVyPwvUo8D9mZmZmZmbuP2ZmZmZmZu4/w/UoXI/C7T8AAAAAAAD4fwAAAAAAAPh/AAAAAAAA8D8AAAAAAADwPwAAAAAAAPA/AAAAAAAA8D8AAAAAAADwP3sUrkfhevQ/AAAAAAAA+H9I4XoUrkf1PwAAAAAAAPh/PQrXo3A98j+F61G4HoXrPwAAAAAAAPh/AAAAAAAA+H8AAAAAAAD4fwAAAAAAAPh/pHA9Ctej9D+kcD0K16P0P1K4HoXrUfA/mpmZmZmZ9T/0/dR46Sb1P3E9CtejcPE/rkfhehSu7z+uR+F6FK7vPx+F61G4HvE/H4XrUbge8T8fhetRuB7xPx+F61G4HvE/rkfhehSu7z8K16NwPQr7P3E9CtejcPE/AAAAAAAAAEBcj8L1KFzzP1yPwvUoXPM/XI/C9Shc8z8pXI/C9Sj4P2ZmZmZmZu4/j8L1KFyP8j/sUbgehevxP2ZmZmZmZv4/K4cW2c73+z9SuB6F61HwP1K4HoXrUfA/RIts5/up7T9Ei2zn+6ntP4/C9Shcj+I/cT0K16Nw7T8UrkfhehT2PxSuR+F6FPY/4XoUrkfh9j+F61G4HoXzP1yPwvUoXPM/XI/C9Shc8z/NzMzMzMz0P5qZmZmZmfE/w/UoXI/C7T/NzMzMzMz0P1yPwvUoXPc/AAAAAAAA+H8UrkfhehTuPz0K16NwPfI/PQrXo3A98j+R7Xw/NV7wP0SLbOf7qe0/ZmZmZmZm8j9mZmZmZmbyP7n8h/Tb1+c/ufyH9NvX5z/sUbgehevxPwAAAAAAAPh/KVyPwvUo7D8AAAAAAAAAQPYoXI/C9fA/sHJoke18+z+wcmiR7Xz7PwAAAAAAAPh/cT0K16Nw7T9xPQrXo3DtP4XrUbgehes/exSuR+F68D97FK5H4XrwP6RwPQrXo/Q/pHA9Ctej9D/D9Shcj8LtP8P1KFyPwu0/AAAAAAAA9D9OYhBYObToP05iEFg5tOg/4XoUrkfh9j8AAAAAAAD4f2ZmZmZmZvo/SOF6FK5H8T9I4XoUrkfxP0jhehSuR/E/SOF6FK5H8T9I4XoUrkfxP0jhehSuR+k/SOF6FK5H6T8AAAAAAADyPwAAAAAAAPI/CtejcD0K8z8K16NwPQrzP/YoXI/C9fQ/9ihcj8L19D8AAAAAAAD4f5qZmZmZmfU/7FG4HoXr8T/sUbgehevxPwAAAAAAAPg/FK5H4XoU8j+uR+F6FK7vPyuHFtnO9+s/K4cW2c736z8rhxbZzvfrPyuHFtnO9+s/UrgehetR8D8AAAAAAAD4PwAAAAAAAPh/PQrXo3A9+j+4HoXrUbjuP0jhehSuR/E/pHA9Ctej8D/Xo3A9CtfvPylcj8L1KOw/mpmZmZmZ6T9I4XoUrkfpP3E9CtejcPE/ZmZmZmZm+j9mZmZmZmb2P2ZmZmZmZvY/PQrXo3A98j9mZmZmZmYCQK5H4XoUru8/kxgEVg4t7j9mZmZmZmb0PwAAAAAAAABAzczMzMzM/D9vEoPAyqHxP1K4HoXrUfA/ZmZmZmZm+j+4HoXrUbjmP83MzMzMzOw/XI/C9Shc7z9zaJHtfD/pP3Noke18P+k/hetRuB6F9z+F61G4HoX3Px+F61G4HvE/MQisHFpk8T97FK5H4Xr0PwAAAAAAAPw/16NwPQrX9z+PwvUoXI/2Pylcj8L1KPA/CtejcD0K+z/2KFyPwvXoP/YoXI/C9eg/9ihcj8L16D8zMzMzMzPrPzMzMzMzM+s/cT0K16Nw7T+4HoXrUbjyP7gehetRuPI/5dAi2/l+8D+amZmZmZn1P5qZmZmZmfU/mpmZmZmZ9T97FK5H4Xr0P0jhehSuR+k/hetRuB6F8z/2KFyPwvXwP/YoXI/C9fA/w/UoXI/C9T9xPQrXo3DxPwAAAAAAAPh/AAAAAAAA+H+amZmZmZnpP6RwPQrXo+g/zczMzMzM9D9OYhBYObTwP05iEFg5tPA/mpmZmZmZ8T8fhetRuB7tPz0K16NwPfI/7FG4HoXr6T/sUbgehevpP+xRuB6F6+k/7FG4HoXr6T/sUbgehevpP+xRuB6F6+k/7FG4HoXr6T8UrkfhehT2P/YoXI/C9fA/9ihcj8L18D8fhetRuB7xP5qZmZmZmfE/SOF6FK5H9T/D9Shcj8LxP6RwPQrXo/A/AAAAAAAA+H8AAAAAAAD4fwrXo3A9Cvc/CtejcD0K9z8zMzMzMzPzP4/C9Shcj/4/j8L1KFyP/j9zaJHtfD/7PxSuR+F6FO4/zczMzMzM7D+kcD0K16PwP1yPwvUoXO8/uB6F61G48D+4HoXrUbjwP4/C9Shcj+o/j8L1KFyP8j+F61G4HoXzP7gehetRuPY/9ihcj8L1+D/Xo3A9CtfzP5qZmZmZmek/AAAAAAAA+H8AAAAAAAD4fwAAAAAAAPh/AAAAAAAA+H8AAAAAAADwPxSuR+F6FO4/FK5H4XoU7j9vEoPAyqHpP83MzMzMzPQ/zczMzMzM9D+amZmZmZn5P/YoXI/C9eg/AAAAAAAA9D+R7Xw/NV7yP6RwPQrXo/A/cT0K16Nw8T/D9Shcj8L5PzMzMzMzM/M/exSuR+F68D+F61G4HoXjP4XrUbgehfM/ZmZmZmZm8j+F61G4HoXzP6RwPQrXo/A/zczMzMzM8D9KDAIrhxbxP0oMAiuHFvE/exSuR+F67D/2KFyPwvX0P6RwPQrXo+g/pHA9Ctej6D+kcD0K16PoP6RwPQrXo+g/cT0K16Nw8T+kcD0K16PwP6RwPQrXo/A/16NwPQrX6z/Xo3A9CtfrPz0K16NwPeo/PQrXo3A96j/D9Shcj8L1P83MzMzMzOw/AAAAAAAA+H8AAAAAAAD4f1K4HoXrUfA/UrgehetR8D9SuB6F61HwP0jhehSuR/E/MzMzMzMz6z+cxCCwcmjpP5zEILByaOk/nMQgsHJo6T+cxCCwcmjpP5zEILByaOk/nMQgsHJo6T+cxCCwcmjpPwAAAAAAAPh/AAAAAAAA8D9xPQrXo3DtP9ejcD0K1/M/MzMzMzMz8z8fhetRuB7tPwAAAAAAAPh/FK5H4XoU8j8AAAAAAAD0PzEIrBxaZPM/CtejcD0K8z8fhetRuB7xPxSuR+F6FPI/UrgehetR6D+uR+F6FK7vP65H4XoUrvM/SOF6FK5H9T8X2c73U+PlPx+F61G4Hvk/RIts5/up8T9Ei2zn+6nxP0SLbOf7qfE/mpmZmZmZ8T8UrkfhehTyPz0K16NwPfI/AAAAAAAA+D+4HoXrUbjmPwAAAAAAAOg/AAAAAAAA6D8AAAAAAADoPwAAAAAAAOg/AAAAAAAA6D9SuB6F61H0P+XQItv5fuI/hetRuB6F9z8AAAAAAAD0PwrXo3A9Cvs/4XoUrkfh8j/hehSuR+HyPwAAAAAAAPA/hetRuB6F8z+F61G4HoXrP3E9CtejcPE/9ihcj8L1AED2KFyPwvUAQEjhehSuR/E/f2q8dJMY3D9/arx0kxjcP8P1KFyPwu0/CtejcD0K9z8AAAAAAAD4f5qZmZmZmek/mpmZmZmZ6T+amZmZmZnpP4/C9Shcj/I/KVyPwvUo9D8pXI/C9Sj0Pylcj8L1KPQ/rkfhehSu7z+uR+F6FK7vP0jhehSuR/E/9ihcj8L18D+uR+F6FK7nP7ByaJHtfOc/16NwPQrX+z8zMzMzMzPrP83MzMzMzOw/ZmZmZmZm8j9SuB6F61EEQAAAAAAAAOg/zczMzMzM8D/NzMzMzMzwPxsv3SQGgfM/cT0K16Nw7T+amZmZmZn1P/T91HjpJvc/rkfhehSu8z8AAAAAAAD4fwAAAAAAAPh/AAAAAAAA+H8UrkfhehTuPxSuR+F6FO4/FK5H4XoU7j8UrkfhehTuPxSuR+F6FPI/FK5H4XoU7j9mZmZmZmbuPwAAAAAAAPh/pHA9Ctej+D+kcD0K16P4P6RwPQrXo/g/1XjpJjEI8j/Xo3A9CtfzPwAAAAAAAPQ/AAAAAAAA/D8AAAAAAAD8Px+F61G4HvE/H4XrUbge8T8fhetRuB7xPx+F61G4HvE/H4XrUbge8T8fhetRuB7xP2ZmZmZmZvI/exSuR+F68D97FK5H4XrwPwrXo3A9Cvs/PQrXo3A98j+PwvUoXI/qP4/C9Shcj+o/j8L1KFyP6j8AAAAAAADwPwAAAAAAAPA/MzMzMzMz6z9cj8L1KFzxP65H4XoUrvc/XI/C9Shc8z9cj8L1KFzzP1yPwvUoXPM/XI/C9Shc8z8pXI/C9Sj0PwAAAAAAAPh/cT0K16Nw5T9xPQrXo3DlP3E9CtejcOU/16NwPQrX6z+kcD0K16PoP6RwPQrXo+g/pHA9Ctej6D+kcD0K16PoP6RwPQrXo+g/pHA9Ctej6D8AAAAAAAAAQJqZmZmZmfE/ZmZmZmZm5j+amZmZmZnZPwAAAAAAAPA/j8L1KFyP6j8UrkfhehTyPxSuR+F6FPI/16NwPQrX6z89CtejcD3wP9ejcD0K1+s/MzMzMzMz6z+F61G4HoX7P7gehetRuO4/uB6F61G47j89CtejcD3yPwAAAAAAAPA/zczMzMzM/D8AAAAAAAD4fwAAAAAAAPh/UrgehetR8D89CtejcD3qPz0K16NwPeo/j8L1KFyP6j99rrZif9ntP3E9CtejcPE/rkfhehSu7z+uR+F6FK7vP9ejcD0K1/s/16NwPQrX+z/2KFyPwvX8P/YoXI/C9fw/FK5H4XoU7j/D9Shcj8LtPwAAAAAAAPh/AAAAAAAA+H8AAAAAAAD4fx+F61G4HvU/H4XrUbge8T/2KFyPwvX0P/YoXI/C9fQ/pHA9Ctej8D8AAAAAAAD4fwAAAAAAAPh/MzMzMzMz8z9qvHSTGATyP2q8dJMYBPI/9ihcj8L1+D/2KFyPwvX4P6RwPQrXo/Q/KVyPwvUo8D97FK5H4Xr4Pz0K16NwPf4/cT0K16Nw7T97FK5H4XrwPwAAAAAAAPh/j8L1KFyP/j9mZmZmZmb+PzMzMzMzM/s/CtejcD0K9z9I4XoUrkfxP65H4XoUru8/rkfhehSu7z+uR+F6FK7vP5qZmZmZmek/rkfhehSu6z9CYOXQItvtP0Jg5dAi2+0/PQrXo3A9+j9I4XoUrkfpPwAAAAAAAPA/AAAAAAAA8D9rn47HDFTyP8P1KFyPwvU/w/UoXI/C9T/sUbgehevxPzMzMzMzM/M/4XoUrkfh+j+F61G4HoXrP4XrUbgehes/hetRuB6F6z8AAAAAAADwP3sUrkfheuw/XI/C9Shc8z9xPQrXo3DxP1K4HoXrUfA/w/UoXI/C7T/D9Shcj8LtPz81XrpJDPY/PzVeukkM9j8/NV66SQz2P0jhehSuR/E/SOF6FK5H8T+kcD0K16P0Px+F61G4HuU/H4XrUbge5T/Xo3A9CtfzP9ejcD0K1/M/zczMzMzM8D/NzMzMzMzwPzm0yHa+n/A/ObTIdr6f8D/NzMzMzMzwP/YoXI/C9fA/j8L1KFyP9j+PwvUoXI/2P3sUrkfhevQ/exSuR+F69D8AAAAAAADwP7gehetRuPI/w/UoXI/C7T97FK5H4Xr0Pzm0yHa+n+o/ObTIdr6f6j85tMh2vp/qP/YoXI/C9fA/XI/C9Shc7z/hehSuR+HyP+F6FK5H4fI/SOF6FK5H8T8pXI/C9SjsP7gehetRuO4/zczMzMzMAED2KFyPwvXwP+F6FK5H4fI/4XoUrkfh8j/hehSuR+HyP5qZmZmZmek/16NwPQrX8z/NzMzMzMzsP83MzMzMzOw/FK5H4XoU8j9SuB6F61HoP7gehetRuPI/7FG4HoXr6T9cj8L1KFzzP1K4HoXrUfA/UrgehetR8D+4HoXrUbj2P3sUrkfhevA/j8L1KFyP+j/sUbgehevxP0jhehSuRwNASOF6FK5HA0A9CtejcD3qP6RwPQrXo/A/MzMzMzMz8z8AAAAAAAD0P6abxCCwcvA/7FG4HoXr8T9cj8L1KFzzP1yPwvUoXPM/XI/C9Shc8z/hehSuR+HqP3sUrkfhevA/ZmZmZmZm8j+F61G4HoXrP2ZmZmZmZuY/FK5H4XoU7j+amZmZmZnxP5qZmZmZmfE/mpmZmZmZ8T9YObTIdr7xP1g5tMh2vvE/AAAAAAAA8D8AAAAAAADwPzMzMzMzM/M/w/UoXI/C8T/Xo3A9Ctf7P9ejcD0K1/s/mpmZmZmZ+T9I4XoUrkf5P0jhehSuR/k/MzMzMzMz8z9SuB6F61HoP3E9CtejcPE/FK5H4XoU8j9mZmZmZmbuP1K4HoXrUfA/9ihcj8L19D/2KFyPwvXwP/YoXI/C9fA/9ihcj8L18D+4HoXrUbjuP6RwPQrXowZAzczMzMzM9D8zMzMzMzPrP83MzMzMzPQ/exSuR+F68D9xPQrXo3DtP8P1KFyPwu0/AAAAAAAA+H+PwvUoXI/qP4/C9Shcj+o/hetRuB6F+z+F61G4HoX7P5qZmZmZmak/zczMzMzMAEAAAAAAAAD4f1yPwvUoXANA9ihcj8L16D9cj8L1KFzvPycxCKwcWug/JzEIrBxa6D89CtejcD32P83MzMzMzOg/H4XrUbge9T8AAAAAAADwP3E9CtejcOU/rkfhehSu7z+uR+F6FK7vP65H4XoUru8/uB6F61G48j9xPQrXo3DlP9ejcD0K1+M/SOF6FK5H6T/2KFyPwvXoP7ByaJHtfOM/sHJoke184z9mZmZmZmbyP2ZmZmZmZvI/ZmZmZmZm8j9mZmZmZmbyP2ZmZmZmZvI/uB6F61G47j8AAAAAAAD4fwAAAAAAAPh/9ihcj8L16D89CtejcD3iPz0K16NwPeI/FK5H4XoU5j/NzMzMzMzkPzMzMzMzM/c/pHA9Ctej8D8OLbKd76fWPw4tsp3vp9Y/XI/C9Shc5z9cj8L1KFznP1yPwvUoXOc/XI/C9Shc5z+kcD0K16P4P7gehetRuPI/w/UoXI/C7T/D9Shcj8LtP1yPwvUoXP8/AAAAAAAABEDLoUW28/3oP4XrUbgehfM/hetRuB6F8z9I4XoUrkcDQBSuR+F6FPo/FK5H4XoU+j/NzMzMzMzwP83MzMzMzPA/KVyPwvUo5D8fhetRuB7lP9ejcD0K1/s/exSuR+F69D9cj8L1KFzfP7gehetRuPI/uB6F61G48j9I4XoUrkfpP83MzMzMzPQ/ZmZmZmZm7j8bL90kBoHxP1K4HoXrUfA/I9v5fmq87D8j2/l+arzsPzm0yHa+n9I/zczMzMzM9D8fhetRuB7xP/YoXI/C9fg/9ihcj8L1+D/2KFyPwvX4P/YoXI/C9fg/AAAAAAAA+H8UrkfhehTmPwAAAAAAAABAZmZmZmZm1j8fhetRuB4HQB+F61G4HgdAw/UoXI/C8T9mZmZmZmbmP65H4XoUrvM/mpmZmZmZ6T+kcD0K16PoPx+F61G4HuU/hetRuB6F2z+uR+F6FK7vPwrXo3A9Cu8/CtejcD0K7z/NzMzMzMz0P7gehetRuPI/iUFg5dAi7z8AAAAAAADoP+F6FK5H4eo/4XoUrkfh6j+kcD0K16PwP3sUrkfheuw/ZmZmZmZm7j8UrkfhehTmP0jhehSuR+E/SOF6FK5H4T9SuB6F61HoP1K4HoXrUeg/zczMzMzM7D8UrkfhehTmPwrXo3A9Cuc/KVyPwvUo5D/Xo3A9CtfjP/YoXI/C9dg/XI/C9Shc3z8UrkfhehTmPwrXo3A9Cuc/uB6F61G45j8K16NwPQrXP8P1KFyPwu0/ZmZmZmZm5j/hehSuR+HqP0jhehSuR/E/cT0K16Nw3T9xPQrXo3DdP3E9CtejcN0/cT0K16Nw3T9YObTIdr7nP1g5tMh2vuc/WDm0yHa+5z9xPQrXo3DdP8P1KFyPwu0/w/UoXI/C7T/D9Shcj8LtP8P1KFyPwu0/w/UoXI/C7T/D9Shcj8LtP7gehetRuO4/mpmZmZmZ6T8AAAAAAADwPw4tsp3vp+Y/Di2yne+n5j8fhetRuB7VPx+F61G4HtU/j8L1KFyP4j+mm8QgsHLkP6abxCCwcuQ/ppvEILBy5D/hehSuR+HiPxSuR+F6FN4/cT0K16Nw3T8fhetRuB7dPylcj8L1KOQ/mpmZmZmZ4T/NzMzMzMzkP83MzMzMzOQ/zczMzMzM5D/NzMzMzMzkP83MzMzMzOQ/H4XrUbge5T97FK5H4XrsP3sUrkfheuw/exSuR+F67D9xPQrXo3DtP3E9CtejcO0/zczMzMzM7D8K16NwPQrnP1yPwvUoXO8/rkfhehSu7z8AAAAAAADoP4/C9Shcj+o/4XoUrkfh8j+PwvUoXI/qP4/C9Shcj+o/j8L1KFyP6j8fhetRuB7xPx+F61G4HvE/UrgehetR8D8pXI/C9SjsPylcj8L1KOw/rkfhehSu7z9xPQrXo3DlP3E9CtejcOU/cT0K16Nw5T+4HoXrUbjuP7gehetRuO4/exSuR+F67D/D9Shcj8LtP8P1KFyPwu0/2/l+arx07z9mZmZmZmbmP7Kd76fGS/E/FK5H4XoU7j9cj8L1KFzzP2ZmZmZmZu4/PQrXo3A96j+4HoXrUbjmPwrXo3A9Cuc/rkfhehSu7z8pXI/C9SjsP2ZmZmZmZu4/ZmZmZmZm7j9mZmZmZmbuP2ZmZmZmZu4/hetRuB6F6z+4HoXrUbjuP7gehetRuO4/UrgehetR8D9cj8L1KFzvP1yPwvUoXO8/XI/C9Shc7z9cj8L1KFzvP/YoXI/C9fA/9ihcj8L18D8UrkfhehTuPxSuR+F6FO4/CtejcD0K1z8K16NwPQrXP83MzMzMzOw/zczMzMzM7D/NzMzMzMzsP83MzMzMzOw/KVyPwvUo8D/D9Shcj8LxPxSuR+F6FO4/FK5H4XoU7j+PwvUoXI/yPwAAAAAAAPA/mpmZmZmZ6T+amZmZmZnpP5qZmZmZmek/XI/C9Shc5z9cj8L1KFznP8P1KFyPwu0/w/UoXI/C7T/D9Shcj8LtP4XrUbgehes/46WbxCCw4j+4HoXrUbjuP7gehetRuO4/CtejcD0K7z9I4XoUrkfpPylcj8L1KPA/ZmZmZmZm7j8zMzMzMzPrPxSuR+F6FO4/w/UoXI/C7T+uR+F6FK7nPx+F61G4Hu0/KVyPwvUo7D9xPQrXo3DlPx+F61G4HvE/zczMzMzM8D8AAAAAAADwP2ZmZmZmZuY/mpmZmZmZ8T9SuB6F61HwP1K4HoXrUfA/UrgehetR8D9SuB6F61HwP8P1KFyPwuU/w/UoXI/C5T+4HoXrUbjuPylcj8L1KPA/AAAAAAAA8D/2KFyPwvXwP/YoXI/C9fA/H4XrUbge7T8fhetRuB7tP1K4HoXrUfQ/KVyPwvUo7D9mZmZmZmbuP7gehetRuOY/16NwPQrX6z/Xo3A9CtfrP9ejcD0K1+s/MzMzMzMz4z/D9Shcj8LxPylcj8L1KPA/CtejcD0K8z+amZmZmZnpP5qZmZmZmek/mpmZmZmZ6T+4HoXrUbjyP65H4XoUrvM/CtejcD0K8z+amZmZmZnZP5qZmZmZmdk/mpmZmZmZ2T+PwvUoXI/iP4/C9Shcj+I/uB6F61G45j9SuB6F61HYP6RwPQrXo/Q/pHA9Ctej9D+F61G4HoXrP4/C9Shcj+o/16NwPQrX6z+uR+F6FK7nP65H4XoUruc/KVyPwvUo7D8fhetRuB71P9v5fmq8dPE/2/l+arx08T+amZmZmZnpP6RwPQrXo+A/SOF6FK5H6T9I4XoUrkfxP7gehetRuOY/uB6F61G45j+4HoXrUbjmP6RwPQrXo+A/XI/C9Shc8z89CtejcD3yP4/C9Shcj9I/PQrXo3A99j+amZmZmZnxPylcj8L1KOw/AAAAAAAA4D8AAAAAAADgP3E9CtejcO0/w/UoXI/C5T/D9Shcj8LlP8P1KFyPwuU/w/UoXI/C5T/Jdr6fGi/1P+F6FK5H4eo/4XoUrkfh6j/hehSuR+HqP+F6FK5H4eo/4XoUrkfh6j+PwvUoXI/yP+xRuB6F6+E/MzMzMzMz6z8zMzMzMzPrP4/C9Shcj+o/7FG4HoXr6T/NzMzMzMzsP+xRuB6F6+k/TmIQWDm06D9OYhBYObToPz0K16NwPeo/UrgehetR8D9mZmZmZmb2P0jhehSuR+k/exSuR+F67D/D9Shcj8LxPz0K16NwPeo/cT0K16Nw7T9xPQrXo3DtP3E9CtejcO0/exSuR+F67D8pXI/C9SjkP4/C9Shcj+o/j8L1KFyP6j+PwvUoXI/qP4/C9Shcj+o/exSuR+F65D/2KFyPwvXwPx+F61G4HtU/ZmZmZmZm7j+kcD0K16PQPwrXo3A9CvM/CtejcD0K8z/D9Shcj8LtPwAAAAAAAPA/uB6F61G47j+uR+F6FK7vP65H4XoUruc/PQrXo3A92j/2KFyPwvXoP5qZmZmZmek/w/UoXI/C7T/D9Shcj8LtP8P1KFyPwu0/7FG4HoXr7T+0yHa+nxrXPylcj8L1KOQ/KVyPwvUo5D99PzVeuknMP30/NV66Scw/fT81XrpJzD+4HoXrUbjmP7gehetRuOY/j8L1KFyP6j+PwvUoXI/qP0jhehSuR/E/MzMzMzMz6z+uR+F6FK7vP65H4XoUru8/cT0K16Nw8T+amZmZmZnxP5qZmZmZmfE/mpmZmZmZ8T+amZmZmZnxP83MzMzMzOw/FK5H4XoU5j8UrkfhehTmP83MzMzMzOw/zczMzMzM8D/NzMzMzMzwP83MzMzMzPA/EoPAyqFFxj89CtejcD3aPz0K16NwPdo/mpmZmZmZ2T/sUbgehevhP2ZmZmZmZu4/Gy/dJAaB7T+4HoXrUbi+PzMzMzMzM+M/KVyPwvUo5D+4HoXrUbjeP6RwPQrXo+A/SOF6FK5H0T9SuB6F61HgP5HtfD81XtI/3SQGgZVD5z+iRbbz/dTsP4XrUbgehes/hetRuB6F6z+F61G4HoXrP4XrUbgehes/rkfhehSu8z+amZmZmZnxP5qZmZmZmfE/SOF6FK5H0T/2KFyPwvXwP8P1KFyPwvU/rkfhehSu8z+F61G4HoXrPxSuR+F6FO4/H4XrUbge5T+uR+F6FK7nP+xRuB6F6+E/w/UoXI/C7T9cj8L1KFzvPylcj8L1KPA/XI/C9Shc3z9cj8L1KFzfP1K4HoXrUeA/7FG4HoXr4T+4HoXrUbjmPx+F61G4HuU/j8L1KFyP6j+PwvUoXI/qP0jhehSuR+E/ZmZmZmZm8j9cj8L1KFzvP1yPwvUoXO8/UrgehetR8D8AAAAAAAD4fwAAAAAAAPh/AAAAAAAA+H/Xo3A9CtfrP4XrUbgehds/uB6F61G47j/NzMzMzMzsP1yPwvUoXO8/w/UoXI/C7T/D9Shcj8LtP2ZmZmZmZuY/ZmZmZmZm5j99PzVeuknwP30/NV66SfA/AAAAAAAA8D8AAAAAAADwP2ZmZmZmZu4/jZduEoPA2j8GgZVDi2zvP2ZmZmZmZuo//tR46SYx6D+sHFpkO9/nP6wcWmQ73+c/rBxaZDvf5z+F61G4HoXnP8/3U+Olm+g/z/dT46Wb6D+wcmiR7XzvPw4tsp3vp+4/tMh2vp8a6z8v3SQGgZXxP6RwPQrXo/A/pHA9Ctej8D/NzMzMzMzwP5ZDi2zn+/E/xSCwcmiR5T/wp8ZLN4ntPzEIrBxaZOs/zczMzMzM7D/NzMzMzMzsP83MzMzMzOw/LbKd76fG7z9U46WbxCDoP1TjpZvEIOg/VOOlm8Qg6D8bL90kBoHtP2Dl0CLb+fA/H4XrUbge1T8fhetRuB7VPx+F61G4HtU/H4XrUbge1T8fhetRuB7VP0SLbOf7qe0/9P3UeOkm7T89CtejcD3iP4ts5/up8eo/RIts5/up6T9Ei2zn+6npP3e+nxov3fA/d76fGi/d8D+28/3UeOnuP9NNYhBYOeg/tvP91Hjp6j/+1HjpJjHsPx+F61G4HuU/EFg5tMh27j8QWDm0yHbuP7pJDAIrh+4/ukkMAiuH7j+WQ4ts5/vtPz0K16NwPe4/PQrXo3A97j8fhetRuB7lPzMzMzMzM+M/MzMzMzMz4z8zMzMzMzPjP1YOLbKd79c/bxKDwMqh5T9oke18PzXuP0oMAiuHFuk/RIts5/up4T8lBoGVQ4vwPylcj8L1KPA//tR46SYx7D/+1HjpJjHsP2q8dJMYBOo/AAAAAAAA8D99PzVeuknwP/p+arx0k+w/QmDl0CLb6T9CYOXQItvpPz81XrpJDOo/PzVeukkM6j8hsHJoke3EPwAAAAAAAPh/AAAAAAAA+H8K16NwPQrvP5ZDi2zn++E/ZmZmZmZm5j89CtejcD3iPz0K16NwPeI/ZmZmZmZm8j8AAAAAAADgP7gehetRuO4/AAAAAAAA6D+kcD0K16PoP1K4HoXrUeA/exSuR+F65D+F61G4HoXjP4XrUbgeheM/CtejcD0K+z8zMzMzMzPrP1g5tMh2vuM/ZmZmZmZm5j/D9Shcj8LlP3sUrkfheuw/exSuR+F67D97FK5H4XrsP6RwPQrXo+g/pHA9Ctej6D/sUbgehevhP+xRuB6F6+E/CtejcD0K7z9cj8L1KFzzP6RwPQrXo+g/pHA9Ctej6D9mZmZmZmb2P2ZmZmZmZvY/rkfhehSu5z/Xo3A9CtfrP8P1KFyPwvE/XI/C9Shc5z+amZmZmZnhP3E9CtejcO0/FK5H4XoU7j+4HoXrUbjeP0jhehSuR9E/SOF6FK5H0T9I4XoUrkfRP0jhehSuR9E/zczMzMzM8D+4HoXrUbjuP4/C9Shcj/I/j8L1KFyP8j+amZmZmZnpP/YoXI/C9fA/AAAAAAAA8D/NzMzMzMzsP83MzMzMzOw/zczMzMzM7D8AAAAAAADoP7gehetRuN4/uB6F61G43j9mZmZmZmbuP2ZmZmZmZu4/PQrXo3A94j9I4XoUrkfpP4/C9Shcj/I/pHA9Ctej0D9mZmZmZmbWP/YoXI/C9eg/9ihcj8L16D8pXI/C9SjkPylcj8L1KOQ/j8L1KFyP0j8pXI/C9SjcPzMzMzMzM/M/MzMzMzMz8z8UrkfhehT6PxSuR+F6FPo/MzMzMzMz0z8pXI/C9Sj4P5huEoPAyvE/NV66SQwC9z9t5/up8dLzP0w3iUFg5fI/x0s3iUFg8z8pXI/C9Sj6P/yp8dJNYvg/7FG4HoXr+T8AAAAAAAAAQIcW2c73U/c/zczMzMzM8D++nxov3STuP/YoXI/C9fQ/cT0K16Nw9T/dJAaBlUPzP2q8dJMYBPI/arx0kxgE8j+PwvUoXI/4P8dLN4lBYPM/KVyPwvUoBEBmZmZmZmb2P83MzMzMzOw/zczMzMzM7D9mZmZmZmb0P8P1KFyPwvE/w/UoXI/C8T8AAAAAAADwP6AaL90kBvE/XI/C9Shc5z8zMzMzMzPrP+F6FK5H4eI/SOF6FK5H8T9I4XoUrkfxP0jhehSuR/E/SOF6FK5H8T+F61G4HoXrPx+F61G4Hu0/ZmZmZmZm7j/sUbgehevpPylcj8L1KOw/16NwPQrX9z+uR+F6FK7vP65H4XoUru8/w/UoXI/C7T8fhetRuB7tP3WTGARWDuU/uB6F61G48j+4HoXrUbjyP9ejcD0K1+s/exSuR+F67D+4HoXrUbjmP8P1KFyPwu0/7FG4HoXr6T9xPQrXo3DxP0jhehSuR+k/H4XrUbge7T/NzMzMzMzsPz0K16NwPeo/7FG4HoXr6T/sUbgehevpP+xRuB6F6+k/7FG4HoXr6T/sUbgehevpP5qZmZmZmek/cT0K16Nw8T+kcD0K16PoPxSuR+F6FO4/j8L1KFyP6j97FK5H4XrwP2ZmZmZmZu4/PQrXo3A96j97FK5H4XrsP3sUrkfheuw/SOF6FK5H6T9xPQrXo3DxP3E9CtejcPE/KVyPwvUo8D/2KFyPwvXwPwAAAAAAAOg/cT0K16Nw7T9I4XoUrkfxP4XrUbgehes/pHA9Ctej8D9I4XoUrkfxP0jhehSuR/E/AAAAAAAA6D9SuB6F61HgP0jhehSuR/E/SOF6FK5H8T9I4XoUrkfxP3E9CtejcPE/cT0K16Nw8T/hehSuR+H2P3sUrkfhevA/rkfhehSu5z+F61G4HoXzP1yPwvUoXO8/7FG4HoXr8T8fhetRuB7xP1yPwvUoXOc/AAAAAAAA6D+4HoXrUbjuP7gehetRuO4/rkfhehSu7z9xPQrXo3DxPxSuR+F6FOY/cT0K16Nw8T8zMzMzMzPrPxSuR+F6FO4/FK5H4XoU7j9cj8L1KFzvP2ZmZmZmZu4/ZmZmZmZm7j8pXI/C9SjwP65H4XoUru8/AAAAAAAA8D8AAAAAAADwPwAAAAAAAPA/AAAAAAAA8D9cj8L1KFzzP4XrUbgehes/MzMzMzMz8z97FK5H4XrwP3sUrkfhevA/exSuR+F68D8zMzMzMzPjP+xRuB6F6+E/SOF6FK5H6T9SuB6F61HwPxSuR+F6FO4/SOF6FK5H8T/Xo3A9CtfzP9ejcD0K1/M/16NwPQrX8z/Xo3A9CtfzP5qZmZmZmfE/KVyPwvUo7D97FK5H4XrwP+xRuB6F6+k/7FG4HoXr8T/D9Shcj8LxP8P1KFyPwvE/ZmZmZmZm5j9mZmZmZmbmP83MzMzMzOw/SOF6FK5H8T+kcD0K16PgP8HKoUW28/M/wcqhRbbz8z97FK5H4XrsP3sUrkfheuw/KVyPwvUo8D+uR+F6FK7vPxSuR+F6FPI/FK5H4XoU8j89CtejcD3yPxSuR+F6FO4/H4XrUbge5T89CtejcD3qP65H4XoUru8/KVyPwvUo8D+kcD0K16PwP6RwPQrXo/A/H4XrUbge7T8fhetRuB7tPx+F61G4Hu0/XI/C9Shc8z8UrkfhehTuP7gehetRuO4/w/UoXI/C8T/NzMzMzMz0P7gehetRuOY/w/UoXI/C8T+F61G4HoXrPylcj8L1KOw/zczMzMzM8D8AAAAAAAD4fwAAAAAAAPh/XI/C9Shc5z+amZmZmZnxP3E9CtejcPU/7FG4HoXr8T/Xo3A9CtfrP5qZmZmZmfk/ZmZmZmZm7j9mZmZmZmbuP7gehetRuO4/w/UoXI/C8T8AAAAAAAD4fwAAAAAAAPh/9ihcj8L16D+kcD0K16P0P3E9CtejcO0/w/UoXI/C7T9mZmZmZmbWP2ZmZmZmZu4/cT0K16Nw7T9xPQrXo3DtPwrXo3A9Cu8/FK5H4XoU7j8AAAAAAADwPwAAAAAAAPA/AAAAAAAA+H8AAAAAAAD4f5zEILByaO0/nMQgsHJo7T+cxCCwcmjtP3sUrkfhevA/16NwPQrX6z/D9Shcj8LtP+F6FK5H4eo/uB6F61G47j8K16NwPQrnPwAAAAAAAPg/ZmZmZmZm7j8UrkfhehTuPwAAAAAAAOg/AAAAAAAA6D9SuB6F61HoPylcj8L1KPA/CtejcD0K7z/sUbgehevpP+xRuB6F6+k/XI/C9Shc7z9I4XoUrkfpP65H4XoUruc/cT0K16Nw8T/sUbgehevpP65H4XoUru8/uB6F61G45j+4HoXrUbjmP7gehetRuOY/hxbZzvdT5z8pXI/C9SjsP5qZmZmZmeE/H4XrUbge7T8pXI/C9Sj0Pylcj8L1KPQ/exSuR+F68D8AAAAAAADwPwwCK4cW2eY/j8L1KFyP9j8K16NwPQrzPwAAAAAAAPA/AAAAAAAA8D9xPQrXo3DtP+F6FK5H4eI/exSuR+F67D+F61G4HoXzPzMzMzMzM+s/w/UoXI/C8T/D9Shcj8LxP83MzMzMzOw/SOF6FK5H6T/Xo3A9CtfrP9ejcD0K1/M/j8L1KFyP8j+PwvUoXI/yP5qZmZmZmek/SOF6FK5H+T9xPQrXo3DtP4XrUbgehes/pHA9Ctej8D/NzMzMzMzsPylcj8L1KPA/XI/C9Shc7z8zMzMzMzPrP+F6FK5H4eo/FK5H4XoU8j8UrkfhehTyP3E9CtejcPE/uB6F61G48j+kcD0K16PwPwAAAAAAAPA/zczMzMzM8D+4HoXrUbjuP2ZmZmZmZu4/9ihcj8L18D+kcD0K16PwP8P1KFyPwvE/hetRuB6F6z+F61G4HoXrP1K4HoXrUeg/MzMzMzMz6z+F61G4HoXrP0jhehSuR/E/FK5H4XoU7j+uR+F6FK7nP1yPwvUoXO8/YOXQItv55j/D9Shcj8LtPxSuR+F6FO4/AAAAAAAA+H8AAAAAAAD4f7gehetRuO4/uB6F61G47j+4HoXrUbjuP7gehetRuO4/uB6F61G47j+4HoXrUbjuP65H4XoUruc/ZmZmZmZm8j97FK5H4XrwP3sUrkfheuQ/exSuR+F68D/hehSuR+HqP5qZmZmZmek/9ihcj8L18D+amZmZmZnpP65H4XoUrvM/AAAAAAAA+H8AAAAAAAD4fxSuR+F6FO4/uB6F61G47j+amZmZmZnxPz0K16NwPfI/MzMzMzMz6z9mZmZmZmbuP65H4XoUru8/9ihcj8L18D/2KFyPwvXwPwAAAAAAAPQ/AAAAAAAA+H8AAAAAAAD4fwAAAAAAAPA/16NwPQrX6z/hehSuR+HqP5qZmZmZmek/4XoUrkfh8j8UrkfhehTyP1K4HoXrUfA/CtejcD0K7z/2KFyPwvXoPxfZzvdT4+E/rkfhehSu7z+uR+F6FK7vP65H4XoUru8/rkfhehSu7z+uR+F6FK7vP/YoXI/C9fA/KVyPwvUo8D9xPQrXo3DtP4/C9Shcj/I/mpmZmZmZ6T/D9Shcj8LtP4XrUbgehes/FK5H4XoU7j/NzMzMzMz0P2ZmZmZmZvY/exSuR+F68D97FK5H4XrwP1yPwvUoXO8/4XoUrkfh6j+kcD0K16PoP7gehetRuO4/XI/C9Shc9z+F61G4HoXrP4XrUbgehes/XI/C9Shc5z+F61G4HoXrP1yPwvUoXPM/CtejcD0K8z8AAAAAAAD4fwAAAAAAAPh/AAAAAAAA+H+uR+F6FK7vP3E9CtejcO0/9ihcj8L18D8K16NwPQrvP/YoXI/C9eg/9ihcj8L16D/2KFyPwvXoP0jhehSuR/E/uB6F61G48j/NzMzMzMzsP65H4XoUru8/mpmZmZmZ6T+amZmZmZnhP5qZmZmZmeE/9ihcj8L18D89CtejcD3qP65H4XoUru8/4XoUrkfh6j+uR+F6FK7vP7gehetRuOY/j8L1KFyP6j+PwvUoXI/qP2ZmZmZmZvI/9ihcj8L18D+amZmZmZnxPwAAAAAAAPh/AAAAAAAA+H8AAAAAAAD4f3sUrkfhevQ/FK5H4XoU8j/2KFyPwvXwPxSuR+F6FO4/MzMzMzMz9z+uR+F6FK7zPz0K16NwPfI/FK5H4XoU7j/D9Shcj8LxP1yPwvUoXPM/AAAAAAAA+H8AAAAAAAD4fwAAAAAAAPh/MzMzMzMz8z/Xo3A9CtfrP3E9CtejcO0/j8L1KFyP8j/hehSuR+HqPzMzMzMzM/M/AAAAAAAA8D+4HoXrUbjuPzMzMzMzM/M/mpmZmZmZ8T9xPQrXo3DxP3E9CtejcPE/ZmZmZmZm7j/hehSuR+HqP2ZmZmZmZu4/4XoUrkfh8j+uR+F6FK7vP3E9CtejcO0/16NwPQrX6z+uR+F6FK7vPzMzMzMzM/c/FK5H4XoU7j/hehSuR+HyP+F6FK5H4fI/4XoUrkfh8j+4HoXrUbjyP6RwPQrXo/Q/MzMzMzMz6z+F61G4HoXrPylcj8L1KPA/MzMzMzMz6z8K16NwPQrvP1yPwvUoXO8/9ihcj8L18D9mZmZmZmbWPzMzMzMzM+s/2/l+arx08T/b+X5qvHTxP9v5fmq8dPE/H4XrUbge7T9SuB6F61HwP1K4HoXrUfA/UrgehetR8D+DwMqhRbbvP4PAyqFFtu8/cT0K16Nw7T8zMzMzMzPjP5qZmZmZmek/mpmZmZmZ6T+kcD0K16PwP4/C9Shcj+o/XI/C9Shc5z+sHFpkO9/fP1K4HoXrUfA/UrgehetR8D+amZmZmZnpP0jhehSuR+E/SOF6FK5H4T9I4XoUrkfhPxSuR+F6FO4/FK5H4XoU7j/hehSuR+HyP/YoXI/C9eg/w/UoXI/C7T8zMzMzMzP3P1K4HoXrUfA/AAAAAAAA8D8K16NwPQrnP+58PzVeuu0/7nw/NV667T/ufD81XrrtP+58PzVeuu0/CtejcD0K7z8K16NwPQrnP2ZmZmZmZu4/FK5H4XoU7j8UrkfhehTuP6RwPQrXo+g/FK5H4XoU7j8UrkfhehTuP2ZmZmZmZuY/pHA9Ctej8D8EVg4tsp3vPwAAAAAAAPh/AAAAAAAA+H9SuB6F61H0P7gehetRuOY/w/UoXI/C7T9mZmZmZmbuP3E9CtejcPE/H4XrUbge9T89CtejcD3yPz0K16NwPeo/pHA9Ctej8D+PwvUoXI/yPwAAAAAAAPh/AAAAAAAA+H+amZmZmZnhP5qZmZmZmeE/ZmZmZmZm5j/D9Shcj8LxP1K4HoXrUeg/j8L1KFyP8j8pXI/C9SjsPz0K16NwPeo/w/UoXI/C7T89CtejcD3qP/YoXI/C9eg/AAAAAAAA+H8AAAAAAAD4fylcj8L1KPg/j8L1KFyP6j+amZmZmZnpP1K4HoXrUeg/8tJNYhBY+T8AAAAAAADwPwAAAAAAAPA/16NwPQrX4z/Xo3A9CtfjPx+F61G4HvE/rkfhehSu7z/2KFyPwvXyP/YoXI/C9fI/CtejcD0K8z8K16NwPQrzP8P1KFyPwu0/w/UoXI/C7T9cj8L1KFzvP4XrUbgehfM/MzMzMzMz6z+F61G4HoX3P1yPwvUoXO8/hetRuB6F6z9mZmZmZmbmP4/C9Shcj+o/AAAAAAAA+H8AAAAAAAD4f7gehetRuO4/uB6F61G47j/D9Shcj8L1Pylcj8L1KPQ/9ihcj8L16D9mZmZmZmbyP1K4HoXrUfA/PQrXo3A96j8pXI/C9SjkPylcj8L1KOQ/KVyPwvUo5D8pXI/C9SjkP+xRuB6F6+k/pHA9Ctej4D+kcD0K16PgP6RwPQrXo+A/pHA9Ctej4D9cj8L1KFzvP3sUrkfhevA/KVyPwvUo7D9mZmZmZmbuPz0K16NwPfo/uB6F61G48j/hehSuR+HyP3E9CtejcPE/FK5H4XoU8j8UrkfhehTyPwrXo3A9Cu8/SOF6FK5H8T9I4XoUrkfxP0jhehSuR/E/SOF6FK5H8T9I4XoUrkfxP4XrUbgehfs/j8L1KFyP6j8fhetRuB7xP83MzMzMzOw/w/UoXI/C8T/hehSuR+HqP83MzMzMzPA/zczMzMzM8D+amZmZmZnxP1yPwvUoXPM/j8L1KFyP6j9mZmZmZmbyP2ZmZmZmZvI/NV66SQwC4z9mZmZmZmbuP/YoXI/C9fA/4XoUrkfh6j+amZmZmZnpP3sUrkfheuw/cT0K16Nw8T9SuB6F61HwP6RwPQrXo+g/KVyPwvUo8D8AAAAAAADwPwAAAAAAAPA/PQrXo3A96j8AAAAAAAD0P2ZmZmZmZvI/SOF6FK5H6T9SuB6F61HwPwrXo3A9Cu8/UrgehetR8D8pXI/C9SjwP3sUrkfhevQ/zczMzMzM8D+uR+F6FK7vP65H4XoUru8/rkfhehSu7z+kcD0K16PoP3sUrkfhevA/cT0K16Nw8T89CtejcD3yP4XrUbgehfc/XI/C9Shc8z/2KFyPwvXwP8P1KFyPwu0/CtejcD0K7z9xPQrXo3DdPwAAAAAAAPh/AAAAAAAA+H9cj8L1KFzvPwAAAAAAAPA/cT0K16Nw9T8K16NwPQrzP3sUrkfhevA/4XoUrkfh8j/sUbgehevpPwrXo3A9Cu8/ZmZmZmZm7j9I4XoUrkfxP3sUrkfhevA/exSuR+F68D+4HoXrUbjmPwAAAAAAAPA/j8L1KFyP9j8K16NwPQrvP83MzMzMzOw/16NwPQrX4z97FK5H4XrkPylcj8L1KPA/uB6F61G47j/2KFyPwvXoP3sUrkfhevQ/exSuR+F69D9mZmZmZmbmP0jhehSuR+k/AAAAAAAA8D+4HoXrUbjuP1K4HoXrUfA/UrgehetR8D8AAAAAAADoPylcj8L1KPA/hetRuB6F6z97FK5H4XrwP3sUrkfhevA/exSuR+F68D9xPQrXo3DtP5qZmZmZmfE/mpmZmZmZ8T+amZmZmZnpP2ZmZmZmZu4/j8L1KFyP8j9xPQrXo3DxP6RwPQrXo/A/4XoUrkfh8j9cj8L1KFzvP+xRuB6F6+k/pHA9Ctej8D+uR+F6FK7vPylcj8L1KPA/KVyPwvUo8D+PwvUoXI/qP5qZmZmZmek/XI/C9Shc7z8AAAAAAAD0PxSuR+F6FO4/w/UoXI/C8T9I4XoUrkfxPxSuR+F6FPY/exSuR+F68D97FK5H4XrwPwAAAAAAAPA/AAAAAAAA8D8AAAAAAAD4fwAAAAAAAPh/AAAAAAAA+H/NzMzMzMzsPwAAAAAAAPA/pHA9Ctej6D/2KFyPwvXwP7gehetRuO4/exSuR+F68D/hehSuR+HyP7gehetRuO4/hetRuB6F6z89CtejcD3qP8P1KFyPwu0/w/UoXI/C7T/D9Shcj8LtPylcj8L1KPg/AAAAAAAA8D8zMzMzMzPzPwrXo3A9Cvc/pHA9Ctej6D8zMzMzMzPrP8P1KFyPwu0/ZmZmZmZm7j97FK5H4XrsPz0K16NwPfI/AAAAAAAA8D8AAAAAAAD4fwAAAAAAAPh/AAAAAAAA+H8AAAAAAAD4fwAAAAAAAPh/CtejcD0K8z+4HoXrUbjyP1yPwvUoXOc/kxgEVg4t7j+TGARWDi3uPzMzMzMzM/M/MzMzMzMz8z/NzMzMzMz0P6RwPQrXo/A/SOF6FK5H+T+kcD0K16P4PxSuR+F6FO4/j8L1KFyP6j+PwvUoXI/qP+xRuB6F6+k/uB6F61G47j8K16NwPQrvP7gehetRuPI/H4XrUbge8T9cj8L1KFznP1yPwvUoXPM/exSuR+F68D/sUbgehevpP+F6FK5H4eo/4XoUrkfh6j9xPQrXo3DtP3E9CtejcO0/cT0K16Nw7T+PwvUoXI/yPx+F61G4Hu0/9ihcj8L19D/NzMzMzMzsP0jhehSuR/E/uB6F61G45j/sUbgehevpP3sUrkfhevA/4XoUrkfh6j8AAAAAAAD4fwAAAAAAAPh/bxKDwMqh5T+F61G4HoXrPxSuR+F6FO4/FK5H4XoU7j8UrkfhehTuPxSuR+F6FO4/PQrXo3A99j/sUbgehevpP+F6FK5H4eo/ZmZmZmZm7j/sUbgehevxP65H4XoUru8/KVyPwvUo7D97FK5H4XrsP3sUrkfheuw/exSuR+F67D97FK5H4XrsP3sUrkfheuw/exSuR+F67D8fhetRuB7xPz0K16NwPfI/MzMzMzMz6z8zMzMzMzPrP+F6FK5H4eo/pHA9Ctej8D8K16NwPQrvP8P1KFyPwvE/j8L1KFyP6j+F61G4HoXrP4/C9Shcj+I/j8L1KFyP4j9SuB6F61HwPx+F61G4HvE/UrgehetR8D8AAAAAAADwP8P1KFyPwu0/UrgehetR6D/hehSuR+HqP2ZmZmZmZu4/cT0K16Nw8T8AAAAAAAD0PwAAAAAAAPh/AAAAAAAA+H9xPQrXo3DtP65H4XoUrvM/CtejcD0K7z8pXI/C9SjwP/YoXI/C9fA/ZmZmZmZm7j8pXI/C9SjwP/YoXI/C9eg/zczMzMzM7D8AAAAAAADoPwAAAAAAAPh/AAAAAAAA+H8AAAAAAAD4f4XrUbgehfc/7FG4HoXr8T/sUbgehevRPxSuR+F6FO4/mpmZmZmZ8T8UrkfhehTuPzMzMzMzM/c/SOF6FK5H8T+4HoXrUbjuP+F6FK5H4fI/XI/C9Shc5z9cj8L1KFznP1yPwvUoXOc/w/UoXI/C8T+amZmZmZnxP+F6FK5H4fI/7FG4HoXr6T/2KFyPwvXwP+F6FK5H4eo/ZmZmZmZm7j8AAAAAAAD0Px+F61G4HvE/rkfhehSu7z8AAAAAAAD4fwAAAAAAAPh/UrgehetR8D+F61G4HoXrP4XrUbgehes/pHA9Ctej8D+F61G4HoXzP1yPwvUoXPM/7FG4HoXr6T+F61G4HoXrP83MzMzMzOw/PQrXo3A98j8AAAAAAADoP+F6FK5H4fI/AAAAAAAA+H8AAAAAAAD4fwAAAAAAAPh/H4XrUbge7T8fhetRuB7tPxSuR+F6FO4/uB6F61G47j9I4XoUrkfxP0jhehSuR+k/KVyPwvUo8D9cj8L1KFzzP2ZmZmZmZvI/j8L1KFyP9j8AAAAAAADwPxBYObTIduo/EFg5tMh26j9mZmZmZmbyP2ZmZmZmZvI/9ihcj8L19D8AAAAAAADwPwAAAAAAAOA/uB6F61G47j8pXI/C9Sj4P9ejcD0K1+s/YhBYObTI4j8pXI/C9SjwP3sUrkfhevA/exSuR+F68D8fhetRuB7lPwrXo3A9Cu8/7FG4HoXr8T8zMzMzMzPzP3E9CtejcO0/exSuR+F67D8pXI/C9SjwP1K4HoXrUfA/CtejcD0K7z/sUbgehevxPxSuR+F6FO4/FK5H4XoU7j9SuB6F61H0P+xRuB6F6/E/7FG4HoXr8T8pXI/C9SjsPylcj8L1KOw/cT0K16Nw7T97FK5H4XrsP1K4HoXrUfA/uB6F61G4zj81XrpJDIIBQJqZmZmZmck/mpmZmZmZyT/D9Shcj8LxP8P1KFyPwvE/w/UoXI/C8T8fhetRuB7VPz0K16NwPeI/mpmZmZmZ2T8K16NwPQrnPylcj8L1KPA/exSuR+F68D97FK5H4XrwP3sUrkfhevA/KVyPwvUo8D8zMzMzMzP3P1K4HoXrUfA/UrgehetR8D/Xo3A9CtfrP9ejcD0K1+s/16NwPQrX8z+amZmZmZnxP0jhehSuR/E/SOF6FK5H8T8AAAAAAAD4f7Kd76fGS/E/i2zn+6nx6j/y0k1iEFjxP/LSTWIQWPE/Gy/dJAaB8T8K16NwPQrxP3E9CtejcOU/cT0K16Nw5T9xPQrXo3DlPwAAAAAAAPh/AAAAAAAA+H8AAAAAAAD4f8dLN4lBYPE/UI2XbhKD6D/ByqFFtvPtP5qZmZmZmfE/mpmZmZmZ7T/+1HjpJjHyPx+F61G4HvE/H4XrUbge8z+Nl24Sg8DuP6wcWmQ73+8/d76fGi/d6D93vp8aL93oP3e+nxov3eg/d76fGi/d6D85tMh2vp/qP166SQwCK+c/bxKDwMqh7T9KDAIrhxbtPxsv3SQGgeU/z/dT46Wb8D+sHFpkO9/vPxSuR+F6FOI/ke18PzVe7j8dWmQ730/tPwAAAAAAAPh/AAAAAAAA+H/TTWIQWDnsP/Cnxks3ifM//tR46SYx8D9mZmZmZmbuP2ZmZmZmZu4/mpmZmZmZ5T+uR+F6FK7rP42XbhKDwPA/YhBYObTI7j+LbOf7qfHmPx1aZDvfT+k/hetRuB6F6z+F61G4HoXrP4XrUbgehes/hetRuB6F6z+F61G4HoXrP1HaG3xhMus/lkOLbOf78z/ZzvdT46XrP7pJDAIrh+o/2/l+arx06z/b+X5qvHTrP+kmMQisHPI/N4lBYOXQ6j83iUFg5dDqP4XrUbgehfM/tvP91Hjp7j+cxCCwcmjxPzm0yHa+n/A/AAAAAAAA+H8AAAAAAAD4f9v5fmq8dO8/JQaBlUOL8D+R7Xw/NV7iPwAAAAAAAPQ/PQrXo3A98j/sUbgehevxPyGwcmiR7eg/7FG4HoXr9T8MAiuHFtnwP3sUrkfhevA/AAAAAAAA+H8AAAAAAAD4fwAAAAAAAPh/cT0K16Nw7T/Xo3A9CtfrPxSuR+F6FO4/KVyPwvUo8D9SuB6F61HwP7gehetRuPI/cT0K16Nw7T8fhetRuB7tP4/C9Shcj+o/FK5H4XoU5j+F61G4HoXrP4XrUbgehes/hetRuB6F6z+F61G4HoXrP65H4XoUru8/QmDl0CLb6T/NzMzMzMzwP65H4XoUrvM/SOF6FK5H8T9Ei2zn+6nhP6RwPQrXo/A/46WbxCCw6j9SuB6F61HwP1K4HoXrUfA/9ihcj8L16D/2KFyPwvXoP1K4HoXrUfA/tvP91Hjp4j+uR+F6FK7vPwAAAAAAAPA/AAAAAAAA8D9cj8L1KFzvP4XrUbgehfM/KVyPwvUo7D/D9Shcj8LtPx+F61G4HuU/AAAAAAAA+H8AAAAAAAD4fwAAAAAAAPh/uB6F61G47j9SuB6F61HwP3sUrkfheuw/j8L1KFyP6j8K16NwPQrnPzMzMzMzM/M/y6FFtvP96D/Xo3A9CtfrP5qZmZmZmfE/Rrbz/dR46T+kcD0K16PwP6RwPQrXo/A/EoPAyqFF6j9iEFg5tMjiPwrXo3A9CvM/mpmZmZmZ8T89CtejcD3yP39qvHSTGPA/ObTIdr6f8D8pXI/C9SjsP4XrUbgehfM/4XoUrkfh8j8AAAAAAAD4fwAAAAAAAPh/AAAAAAAA+H8AAAAAAAD4fwrXo3A9Cu8/6SYxCKwc7j+uR+F6FK7vP4/C9Shcj/I/cT0K16Nw8T9I4XoUrkfxP3E9CtejcPE/rkfhehSu7z/2KFyPwvXwP1K4HoXrUfA/cT0K16Nw7T9xPQrXo3DtP8P1KFyPwu0/KVyPwvUo7D9I4XoUrkfpP7ByaJHtfOs/uB6F61G47j9SuB6F61HwP1K4HoXrUfA/pHA9Ctej8D+uR+F6FK7nP7gehetRuO4/AAAAAAAA+H8AAAAAAAD4fwAAAAAAAPh/ZmZmZmZm8j+F61G4HoXvP2ZmZmZmZuo/H4XrUbge7T+WQ4ts5/vpP/p+arx0k+g/ZmZmZmZm8j9SuB6F61HwP83MzMzMzOQ/CtejcD0K7z8AAAAAAAD4fwAAAAAAAPh/j8L1KFyP8j97FK5H4XrsP2ZmZmZmZu4/ZmZmZmZm7j/4U+Olm8TkP/hT46WbxOQ/SOF6FK5H6T+4HoXrUbjiPzMzMzMzM+s/UrgehetR9D+4HoXrUbjuP0Jg5dAi2+k/4XoUrkfh6j/hehSuR+HqP2ZmZmZmZu4/UrgehetR8D/Xo3A9CtfzP5ZDi2zn++k/pHA9Ctej6D+kcD0K16PoP1K4HoXrUfA/GQRWDi2y6T9xPQrXo3DtPx+F61G4HvE/KVyPwvUo8D/Xo3A9CtfrP9ejcD0K1+s/XI/C9Shc7z8K16NwPQrvP3E9CtejcO0/CtejcD0K8z8AAAAAAAD0P7gehetRuOo/i2zn+6nx4j9I4XoUrkftPwrXo3A9Cu8/4XoUrkfh6j89CtejcD3yPz0K16NwPfI/hetRuB6F8z97FK5H4XrwPx+F61G4Hu0/ZmZmZmZm8j/NzMzMzMzoP83MzMzMzOg/KVyPwvUo8D97FK5H4XrwP65H4XoUru8/gZVDi2zn8T8AAAAAAADwPwAAAAAAAPh/AAAAAAAA+H8AAAAAAADoP3E9CtejcO0/XI/C9Shc7z9SuB6F61HwPwAAAAAAAPA/9P3UeOkm6T+amZmZmZnpPw4tsp3vp/A/z/dT46Wb6D8AAAAAAADoPwAAAAAAAPh/AAAAAAAA+H8AAAAAAAD4fxkEVg4tsuU/AAAAAAAA8D/sUbgehevpP6RwPQrXo+g/mpmZmZmZ6T+HFtnO91PjP0jhehSuR+k/uB6F61G48j/hehSuR+HqP83MzMzMzPA/zczMzMzM8D8zMzMzMzPrPzMzMzMzM+s/uB6F61G47j+kcD0K16PwPxSuR+F6FO4/zczMzMzM8D/l0CLb+X7wP9ejcD0K1+s/pHA9Ctej8D+DwMqhRbbvP4ts5/up8eY/JQaBlUOL8D8lBoGVQ4vwP0jhehSuR+E/SOF6FK5H4T9I4XoUrkfhP0jhehSuR+E/SOF6FK5H4T9t5/up8dLtP3E9CtejcO0/mpmZmZmZ6T+PwvUoXI/qP6jGSzeJQeg/ZmZmZmZm8j8K16NwPQrzP7pJDAIrh+4/exSuR+F68D/2KFyPwvXwPzMzMzMzM+s/MzMzMzMz6z9mZmZmZmbmP9ejcD0K1+s/XI/C9Shc7z8pXI/C9SjwP+xRuB6F6/E/H4XrUbge7T+uR+F6FK7vP2ZmZmZmZu4/ZmZmZmZm7j/sUbgehevxPwAAAAAAAPh/AAAAAAAA+H+amZmZmZnxP7gehetRuO4/cT0K16Nw7T9SuB6F61HwP7gehetRuO4/uB6F61G47j+amZmZmZnpP0jhehSuR/E/PQrXo3A96j+wcmiR7XzvP1K4HoXrUeg/SOF6FK5H6T9I4XoUrkfpPwrXo3A9Cu8/CtejcD0K7z8K16NwPQrvP/YoXI/C9fA/KVyPwvUo8D/0/dR46SbjPxSuR+F6FPI/8fRKWYY44D+uR+F6FK7vP1K4HoXrUfA/ZDvfT42X6j9kO99PjZfqP2iR7Xw/Neo/4XoUrkfh6j/hehSuR+HqPycxCKwcWuQ//tR46SYx8D8AAAAAAADwP8P1KFyPwvE/KVyPwvUo8D97FK5H4XrwP/YoXI/C9fA/exSuR+F67D/D9Shcj8LtP83MzMzMzOw/MzMzMzMz6z8zMzMzMzPrPzMzMzMzM+s/9ihcj8L18D+4HoXrUbjyP7gehetRuPI/AAAAAAAA8D+LbOf7qfHuPylcj8L1KPA/UrgehetR8D+PwvUoXI/qP8P1KFyPwvE/KVyPwvUo8D8pXI/C9SjwPwAAAAAAAPh/AAAAAAAA+H8AAAAAAAD4f76fGi/dJOo/CtejcD0K8z+F61G4HoXrP9Ei2/l+avA/i2zn+6nx8D+uR+F6FK7vP3sUrkfhevQ/4XoUrkfh8j9eukkMAivnP3/7OnDOiOQ/AAAAAAAA+H8AAAAAAAD4f83MzMzMzOw/rkfhehSu8z8AAAAAAADwP1K4HoXrUfA/w/UoXI/C7T8lBoGVQ4voP83MzMzMzOw/RIts5/up8T9aZDvfT43jP0jhehSuR/E/AAAAAAAA+H8AAAAAAAD4fwAAAAAAAPh/CtejcD0K7z8UrkfhehTuPxsv3SQGge0/XI/C9Shc5z8fhetRuB7xP83MzMzMzPA/y6FFtvP95D8AAAAAAADoP7gehetRuO4/O99PjZdu6j8AAAAAAAD4fwAAAAAAAPh/hxbZzvdT8T8pXI/C9SjsP3sUrkfhevA/uB6F61G47j+q8dJNYhDoPwisHFpkO+8/pHA9Ctej6D8hsHJoke3oP1K4HoXrUeg/rkfhehSu7z8AAAAAAAD4fwAAAAAAAPh/AAAAAAAA+H+yne+nxkv3Pz0K16NwPdo/7FG4HoXr8T/sUbgehevxPxkEVg4tsu0/GQRWDi2y7T+oxks3iUHsP1K4HoXrUeg/UrgehetR8D9cj8L1KFznP9ejcD0K1+s/KVyPwvUo8D+wcmiR7XzxP7ByaJHtfPE/sHJoke188T+wcmiR7XzxPylcj8L1KPA/H4XrUbge8T/2KFyPwvX0P7gehetRuOo/zczMzMzM3D+q8dJNYhDsPx+F61G4Hu0/AAAAAAAA6D8AAAAAAADoPwAAAAAAAOg/AAAAAAAA6D/VeOkmMQjyP3E9CtejcPE/w/UoXI/C7T/D9Shcj8LtP8P1KFyPwu0/SOF6FK5H8T9I4XoUrkfxP7gehetRuO4/uB6F61G47j/D9Shcj8LtPyuHFtnO9/U/Rrbz/dR47T8AAAAAAADoP7gehetRuOY/uB6F61G45j/sUbgehevxP4XrUbgehe8/w/UoXI/C5T8AAAAAAAD4fwAAAAAAAPh/FK5H4XoU7j8UrkfhehTuPxSuR+F6FO4/001iEFg55D/TTWIQWDnkP0jhehSuR+k/SOF6FK5H6T9xPQrXo3DtPwAAAAAAAPh/AAAAAAAA+H+4HoXrUbjyP7gehetRuPI/AAAAAAAA+H8AAAAAAAD4f1yPwvUoXO8/XI/C9Shc7z9cj8L1KFzvP7gehetRuO4/uB6F61G47j8AAAAAAAD4fwAAAAAAAPh/FK5H4XoU7j8UrkfhehTuPxSuR+F6FO4/AAAAAAAA+H8AAAAAAAD4fwAAAAAAAPh/exSuR+F68D97FK5H4XrwP3sUrkfhevA/exSuR+F68D8AAAAAAAD4fwAAAAAAAPh/7nw/NV667T/ufD81XrrtP+58PzVeuu0/7nw/NV667T/ufD81XrrtP+58PzVeuu0/KVyPwvUo5D8pXI/C9SjkPwrXo3A9Cu8/CtejcD0K7z+PwvUoXI/yP4/C9Shcj/I/FK5H4XoU7j8UrkfhehTuPwAAAAAAAPh/AAAAAAAA+H+kcD0K16PoP6RwPQrXo+g/pHA9Ctej6D+kcD0K16PoPwAAAAAAAPh/AAAAAAAA+H8AAAAAAAD4fwAAAAAAAPh/AAAAAAAA+H8AAAAAAAD4fwAAAAAAAPh/AAAAAAAA+H8AAAAAAAD4fwAAAAAAAPh/AAAAAAAA+H+6SQwCK4f2PwAAAAAAAPh/AAAAAAAA+H8AAAAAAAD4fwAAAAAAAPh/CtejcD0K5z8K16NwPQrnPwrXo3A9Cuc/CtejcD0K5z8AAAAAAAD4fwAAAAAAAPh/AAAAAAAA+H/sUbgehevxP+xRuB6F6/E/7FG4HoXr8T/sUbgehevxP65H4XoUruc/rkfhehSu5z+uR+F6FK7nP65H4XoUruc/AAAAAAAA+H8AAAAAAAD4f4XrUbgehes/hetRuB6F6z+F61G4HoXrPwAAAAAAAPh/AAAAAAAA+H8AAAAAAAD4fwAAAAAAAPh/AAAAAAAA+H8AAAAAAAD4fwAAAAAAAPh/AAAAAAAA+H8GgZVDi2zrPwAAAAAAAPh/AAAAAAAA+H+PwvUoXI/iP4/C9Shcj+I/AAAAAAAA+H8AAAAAAAD4fwAAAAAAAPh/AAAAAAAA+H8AAAAAAAD4fwAAAAAAAPh/4XoUrkfh4j/hehSuR+HiP+F6FK5H4eI/4XoUrkfh4j/sUbgehevhP+xRuB6F6+E/ZmZmZmZm5j9mZmZmZmbmP+F6FK5H4fY/4XoUrkfh9j/hehSuR+H2P+F6FK5H4fY/4XoUrkfh9j+uR+F6FK7nP65H4XoUruc/w/UoXI/C8T/D9Shcj8LxP8P1KFyPwvE/AAAAAAAA+H8AAAAAAAD4fwAAAAAAAPh/AAAAAAAA+H8AAAAAAAD4fwAAAAAAAPh/exSuR+F67D97FK5H4XrsPwAAAAAAAPh/AAAAAAAA+H8AAAAAAAD4f5qZmZmZmek/mpmZmZmZ6T+amZmZmZnpP5qZmZmZmek/hetRuB6F6z+F61G4HoXrP30/NV66Sew/fT81XrpJ7D99PzVeuknsPwAAAAAAAPh/AAAAAAAA+H8AAAAAAAD4fwAAAAAAAPh/AAAAAAAA+H97FK5H4XrwP3sUrkfhevA/exSuR+F68D97FK5H4XrwP5qZmZmZmek/mpmZmZmZ6T+amZmZmZnpPx+F61G4Hu0/H4XrUbge7T8fhetRuB7tPx+F61G4Hu0/pHA9Ctej4D+kcD0K16PgPwAAAAAAAPh/AAAAAAAA+H8AAAAAAAD4fwAAAAAAAPh/AAAAAAAA+H8AAAAAAAD4fwrXo3A9Cu8/CtejcD0K7z8K16NwPQrvP1K4HoXrUfA/UrgehetR8D9SuB6F61HwP1K4HoXrUfA/AAAAAAAA+H8AAAAAAAD4fwAAAAAAAPh/mpmZmZmZ6T+amZmZmZnpPwAAAAAAAPh/AAAAAAAA+H8K16NwPQrzPwrXo3A9CvM/CtejcD0K8z8pXI/C9SjsPylcj8L1KOw/16NwPQrX6z/Xo3A9CtfrPwAAAAAAAPh/AAAAAAAA+H8AAAAAAAD4fwAAAAAAAPh/H4XrUbge9T8fhetRuB71P3sUrkfhevA/exSuR+F68D97FK5H4XrwP3sUrkfhevA/rkfhehSu7z+uR+F6FK7vP+xRuB6F6+E/7FG4HoXr4T/sUbgehevhPwAAAAAAAPh/AAAAAAAA+H9cj8L1KFzvP1yPwvUoXO8/SOF6FK5H4T9I4XoUrkfhP0jhehSuR+E/SOF6FK5H4T8AAAAAAAD4fwAAAAAAAPh/AAAAAAAA8D8AAAAAAADwPwAAAAAAAPA/SOF6FK5H6T9I4XoUrkfpP0jhehSuR+k/AAAAAAAA+H8AAAAAAAD4fwAAAAAAAPh/AAAAAAAA+H/Xo3A9CtfzP9ejcD0K1/M/16NwPQrX8z+4HoXrUbjuP7gehetRuO4/uB6F61G47j8K16NwPQrzPwrXo3A9CvM/AAAAAAAA+H8AAAAAAAD4f65H4XoUrvM/rkfhehSu8z+uR+F6FK7zP65H4XoUrvM/zczMzMzM5D/NzMzMzMzkP83MzMzMzOQ/H4XrUbge7T8fhetRuB7tP1yPwvUoXO8/XI/C9Shc7z9cj8L1KFzvP3E9CtejcPE/cT0K16Nw8T9xPQrXo3DxP3E9CtejcPE/AAAAAAAA+H8AAAAAAAD4fwAAAAAAAPh/AAAAAAAA+H8zMzMzMzPrPzMzMzMzM+s/AAAAAAAA+H8AAAAAAAD4fwAAAAAAAPh/AAAAAAAA+H8AAAAAAAD4fwAAAAAAAPh/exSuR+F67D97FK5H4XrsP3sUrkfheuw/SOF6FK5H8T9I4XoUrkfxP0jhehSuR/E/SOF6FK5H8T8AAAAAAADoPwAAAAAAAOg/AAAAAAAA+H8AAAAAAAD4f3sUrkfhevA/exSuR+F68D8pXI/C9SjsPylcj8L1KOw/KVyPwvUo7D8pXI/C9SjsPylcj8L1KOw/KVyPwvUo8D8pXI/C9SjwPwAAAAAAAPh/AAAAAAAA+H8AAAAAAAD4fwAAAAAAAPh/AAAAAAAA+H9SuB6F61HYP1K4HoXrUdg/UrgehetR2D9SuB6F61HYP1K4HoXrUdg/AAAAAAAA+H8AAAAAAAD4f83MzMzMzOQ/zczMzMzM5D/NzMzMzMzkPwrXo3A9Cu8/CtejcD0K7z8K16NwPQrvPwrXo3A9Cu8/UrgehetR6D9SuB6F61HoPxSuR+F6FO4/FK5H4XoU7j8fhetRuB7tPx+F61G4Hu0/H4XrUbge7T8AAAAAAAD4fwAAAAAAAPh/4XoUrkfh4j/hehSuR+HiP5qZmZmZmek/mpmZmZmZ6T+amZmZmZnpP5qZmZmZmek/j8L1KFyP6j+PwvUoXI/qP4/C9Shcj+o/j8L1KFyP6j89CtejcD3qPz0K16NwPeo/PQrXo3A96j89CtejcD3qPx+F61G4Hu0/H4XrUbge7T8AAAAAAAD4fwAAAAAAAPh/AAAAAAAA+H8AAAAAAAD4f65H4XoUru8/rkfhehSu7z+uR+F6FK7vPzMzMzMzM+s/MzMzMzMz6z8zMzMzMzPrP/YoXI/C9fA/9ihcj8L18D+uR+F6FK7zP65H4XoUrvM/zczMzMzM7D/NzMzMzMzsP1K4HoXrUfA/UrgehetR8D/2KFyPwvXoP/YoXI/C9eg/9ihcj8L14D/2KFyPwvXgP2ZmZmZmZu4/ZmZmZmZm7j/NzMzMzMzwP83MzMzMzPA/pHA9Ctej9D+kcD0K16P0P6RwPQrXo/Q/XI/C9Shc8z9cj8L1KFzzP1yPwvUoXPM/AAAAAAAA+H8AAAAAAAD4fylcj8L1KPA/KVyPwvUo8D8fhetRuB7tPx+F61G4Hu0/cT0K16Nw8T9xPQrXo3DxP4XrUbgehes/hetRuB6F6z+F61G4HoXrP4XrUbgehes/16NwPQrX6z/Xo3A9CtfrP9ejcD0K1+s/XI/C9Shc7z9cj8L1KFzvP1yPwvUoXO8/mpmZmZmZ4T+amZmZmZnhP5qZmZmZmeE/mpmZmZmZ8T+amZmZmZnxP/YoXI/C9eA/9ihcj8L14D+PwvUoXI/iP4/C9Shcj+I/j8L1KFyP4j+PwvUoXI/iP4/C9Shcj+I/9ihcj8L16D/2KFyPwvXoP1K4HoXrUeA/UrgehetR4D9SuB6F61HgP5qZmZmZmek/mpmZmZmZ6T+amZmZmZnpPzvfT42XbuY/O99PjZdu5j8AAAAAAADwPwAAAAAAAPA/AAAAAAAA8D+uR+F6FK7vP65H4XoUru8/exSuR+F67D97FK5H4XrsP3sUrkfheuw/uB6F61G47j+4HoXrUbjuP5qZmZmZmfE/mpmZmZmZ8T+amZmZmZnxP5qZmZmZmfE/4XoUrkfh6j/hehSuR+HqP+F6FK5H4eo/pHA9Ctej9D+kcD0K16P0P6RwPQrXo/Q/pHA9Ctej9D+kcD0K16P0P+F6FK5H4QBA4XoUrkfhAEAUrkfhehTuPxSuR+F6FO4/FK5H4XoU7j8UrkfhehTuPxSuR+F6FPI/FK5H4XoU8j8UrkfhehTyPxSuR+F6FPI/pHA9Ctej8D+kcD0K16PwP83MzMzMzOw/zczMzMzM7D/hehSuR+HiP+F6FK5H4eI/CtejcD0K7z8K16NwPQrvP6RwPQrXo/A/pHA9Ctej8D9mZmZmZmbyP2ZmZmZmZvI/CtejcD0K7z8K16NwPQrvP7Hh6ZWyjABAexSuR+F68D97FK5H4XrwP3sUrkfhevA/exSuR+F67D97FK5H4XrsP3sUrkfheuw/okW28/3U7D+iRbbz/dTsP6JFtvP91Ow/RIts5/up4z9Ei2zn+6njP83MzMzMzOQ/zczMzMzM5D/NzMzMzMzkP83MzMzMzPA/zczMzMzM8D8K16NwPQrvPwrXo3A9Cu8/9ihcj8L16D/2KFyPwvXoP/YoXI/C9eg/ZmZmZmZm7j9mZmZmZmbuPx+F61G4HvE/H4XrUbge8T8fhetRuB7xP2WqYFRSJ/s/ZmZmZmZm7j9mZmZmZmbuPx+F61G4HvE/H4XrUbge8T97FK5H4XrwP3sUrkfhevA/rkfhehSu8z+uR+F6FK7zP65H4XoUrvM/MzMzMzMz8z8zMzMzMzPzP65H4XoUru8/rkfhehSu7z/NzMzMzMzwP83MzMzMzPA/AAAAAAAA6D8AAAAAAADoP7gehetRuOY/uB6F61G45j9I4XoUrkfhP0jhehSuR+E/exSuR+F68D97FK5H4XrwPxSuR+F6FO4/FK5H4XoU7j8UrkfhehTuPxSuR+F6FO4/ZmZmZmZm8j9mZmZmZmbyP2ZmZmZmZvI/16NwPQrX6z/Xo3A9CtfrP+F6FK5H4eo/4XoUrkfh6j/hehSuR+HqP3sUrkfheuw/exSuR+F67D/NzMzMzMzwP83MzMzMzPA/KVyPwvUo7D8pXI/C9SjsP7gehetRuO4/uB6F61G47j9I4XoUrkfxP0jhehSuR/E/16NwPQrX6z/Xo3A9CtfrP9ejcD0K1+s/16NwPQrX6z/NzMzMzMzwP83MzMzMzPA/cT0K16Nw9T9xPQrXo3D1P3E9CtejcPU/mpmZmZmZ6T+amZmZmZnpP3E9CtejcOU/cT0K16Nw5T9SuB6F61HoP1K4HoXrUeg/cT0K16Nw8T9xPQrXo3DxP3E9CtejcPE/rkfhehSu5z+uR+F6FK7nP3sUrkfhevA/exSuR+F68D/hehSuR+HiP+F6FK5H4eI/9ihcj8L16D/2KFyPwvXoP5HtfD81Xu4/qvHSTWIQ7D+q8dJNYhDsP4XrUbgehfM/hetRuB6F8z8UrkfhehTyPxSuR+F6FPI/H4XrUbge9T8fhetRuB71P8P1KFyPwvE/w/UoXI/C8T/D9Shcj8LxP/YoXI/C9eA/9ihcj8L14D/sUbgehevpP+xRuB6F6+k/AAAAAAAA+H8AAAAAAAD4fwAAAAAAAPh/AAAAAAAA+H8AAAAAAAD4fwAAAAAAAPh/AAAAAAAA+H8AAAAAAAD4fwAAAAAAAPh/AAAAAAAA+H8AAAAAAAD4fwAAAAAAAPh/AAAAAAAA+H8AAAAAAAD4fwAAAAAAAPh/AAAAAAAA+H8AAAAAAAD4fwAAAAAAAPh/AAAAAAAA+H8AAAAAAAD4fwAAAAAAAPh/AAAAAAAA+H8AAAAAAAD4fwAAAAAAAPh/H4XrUbge8T8fhetRuB7xP7gehetRuO4/uB6F61G47j9I4XoUrkfxP3E9CtejcO0/rkfhehSu9z9cj8L1KFzzP9ejcD0K1+s/16NwPQrX6z/Xo3A9CtfrP9ejcD0K1+s/uB6F61G48j/rc7UV+8v1P3sUrkfheuw/exSuR+F67D9xPQrXo3DlP3E9CtejcOU/AAAAAAAA8D8AAAAAAADwP83MzMzMzOw/zczMzMzM7D9cj8L1KFzvP1yPwvUoXO8/PQrXo3A99j89CtejcD32P2ZmZmZmZvI/rkfhehSu7z93vp8aL93sP2ZmZmZmZvI/MzMzMzMz6z8pXI/C9SjwPylcj8L1KPA/w/UoXI/C7T8fhetRuB7tP7gehetRuO4/16NwPQrX6z+kcD0K16PAP6RwPQrXo8A/pHA9CtejwD+4HoXrUbjyP7gehetRuPI/H4XrUbge8T8fhetRuB7xPx+F61G4HvE/H4XrUbge9T8fhetRuB71P1yPwvUoXPc/MzMzMzMz8z+kcD0K16P4P1yPwvUoXOc/XI/C9Shc5z83iUFg5dDmP0jhehSuR+E/KVyPwvUo7D8fhetRuB71Pz0K16NwPeI/PQrXo3A94j+F61G4HoXjP65H4XoUruc/UrgehetR6D9SuB6F61HoP1K4HoXrUeg/UrgehetR6D9SuB6F61HoPwrXo3A9Csc/CtejcD0Kxz8K16NwPQrHPylcj8L1KMw/KVyPwvUozD8pXI/C9SjMPwAAAAAAAPA/3SQGgZVD9z9SuB6F61HwP1K4HoXrUfA/7FG4HoXr8T91kxgEVg7zP3WTGARWDvM/dZMYBFYO8z8zMzMzMzPjPzMzMzMzM+M/MzMzMzMz4z+kcD0K16PwPxfZzvdT4+0/exSuR+F68D97FK5H4XrwP3sUrkfhevA/XI/C9Shc7z9mZmZmZmbyP2ZmZmZmZvI/ZmZmZmZm8j9cj8L1KFzvP1yPwvUoXO8/KVyPwvUo8D/hehSuR+HiPx+F61G4HvE/H4XrUbge8T9cj8L1KFzvP3E9CtejcPk/cT0K16Nw+T/Xo3A9CtfrP1yPwvUoXPM/rkfhehSu8z+kcD0K16PwP6RwPQrXo/A/zczMzMzM8D+4HoXrUbjuP/YoXI/C9fA/d76fGi/d7D93vp8aL93sP3e+nxov3ew/16NwPQrX9z8zMzMzMzPrP/YoXI/C9fA/rkfhehSu7z+F61G4HoXrP3sUrkfhevA/16NwPQrX6z8zMzMzMzPrP4XrUbgehes/46WbxCCw8D/jpZvEILDwP+Olm8QgsPA/AAAAAAAA9D8pXI/C9SjwPylcj8L1KOg/exSuR+F69D+4HoXrUbjuPx+F61G4HvE/H4XrUbge7T8fhetRuB7tPx+F61G4Hu0/PQrXo3A96j8pXI/C9SjsPylcj8L1KOw/KVyPwvUo7D8pXI/C9SjsPylcj8L1KOw/SOF6FK5H8T+kcD0K16PwP8P1KFyPwvU/mpmZmZmZ8T8UrkfhehTuPxSuR+F6FO4/hetRuB6F6z9xPQrXo3DxP1yPwvUoXO8/16NwPQrX6z+amZmZmZnhP5qZmZmZmeE/mpmZmZmZ4T+amZmZmZnhP4XrUbgehfM/UrgehetR8D97FK5H4XrwP3sUrkfhevA/ZmZmZmZm8j+R7Xw/NV7aP5qZmZmZmeE/CtejcD0K8z+PwvUoXI/yP4/C9Shcj/I/mpmZmZmZ8T/Xo3A9CtfzP9ejcD0K1/M/H4XrUbge7T8AAAAAAADwPwAAAAAAAPA/uB6F61G48j9SuB6F61HwP3sUrkfhevQ/zczMzMzM7D/sUbgehev5P4PAyqFFtu8/uB6F61G47j97FK5H4XrsP4XrUbgehe8/hetRuB6F7z+F61G4HoXvP4XrUbgehe8/mpmZmZmZ8T+amZmZmZnxP3E9CtejcPU/pHA9Ctej+D/D9Shcj8LtP3E9CtejcPE/cT0K16Nw8T9mZmZmZmbuP2ZmZmZmZvI/exSuR+F69D8pXI/C9SjwPx+F61G4HvE/H4XrUbge8T8fhetRuB7xP0jhehSuR+E/SOF6FK5H4T9I4XoUrkfhPwrXo3A9Cu8/9ihcj8L16D/Xo3A9CtfrP/YoXI/C9eg/zczMzMzM8D/NzMzMzMzwP+F6FK5H4fI/4XoUrkfh7j8fhetRuB7xPyUGgZVDi+w/JQaBlUOL7D/NzMzMzMzwP83MzMzMzPA/XI/C9Shc7z9cj8L1KFzvP1K4HoXrUfA/j8L1KFyP9j/D9Shcj8LtP2ZmZmZmZuY/j8L1KFyP8j+kcD0K16PwP8P1KFyPwvE/9ihcj8L16D/D9Shcj8LtP83MzMzMzOw/zczMzMzM7D/NzMzMzMzsP1K4HoXrUeA/UrgehetR4D9SuB6F61HgP9ejcD0K1+s/zczMzMzM5D97FK5H4XrwP3E9CtejcO0/cT0K16Nw7T/D9Shcj8LtP3sUrkfhevA/AAAAAAAA8D/D9Shcj8LxPzMzMzMzM+s/uB6F61G47j8UrkfhehTmPxSuR+F6FOY/FK5H4XoU5j8UrkfhehTmPxSuR+F6FOY/Rrbz/dR42T+4HoXrUbjuP7gehetRuO4/w/UoXI/C7T+amZmZmZnpP2ZmZmZmZu4/XI/C9Shc7z+PwvUoXI/qP+F6FK5H4eo/mpmZmZmZ4T9mZmZmZmbuPx+F61G4HvU/H4XrUbge9T8fhetRuB71P8P1KFyPwu0/w/UoXI/C7T+PwvUoXI/qP65H4XoUru8/ZmZmZmZm7j8K16NwPQrvP65H4XoUru8/9ihcj8L16D/Xo3A9CtfrP65H4XoUru8/j8L1KFyP6j+PwvUoXI/qP3E9CtejcOU/AAAAAAAA8D/D9Shcj8LtPxSuR+F6FO4/uB6F61G48j+4HoXrUbjuPxSuR+F6FO4/cT0K16Nw7T8pXI/C9SjwP83MzMzMzOw/zczMzMzM7D9mZmZmZmbuP2ZmZmZmZu4/ZmZmZmZm7j+amZmZmZnxPwrXo3A9Cu8/pHA9Ctej8D9I4XoUrkfxPx+F61G4Hu0/w/UoXI/C7T/D9Shcj8LtP1yPwvUoXPM/CtejcD0K7z/Xo3A9CtfrP9ejcD0K1+s/j8L1KFyP6j+kcD0K16PwP6RwPQrXo/A/7FG4HoXr9T/hehSuR+HqPzMzMzMzM+s/SOF6FK5H8T8pXI/C9SjwPylcj8L1KPA/KVyPwvUo8D9SuB6F61HwPx+F61G4Hu0/H4XrUbge7T8UrkfhehTyP+F6FK5H4eo/4XoUrkfh6j8AAAAAAADwP3E9CtejcPE/pHA9Ctej8D+kcD0K16PwP6RwPQrXo/A/mpmZmZmZ8T+amZmZmZnxPylcj8L1KPA/XI/C9Shc7z9cj8L1KFzvPzMzMzMzM+s/XI/C9Shc5z9cj8L1KFzvP1yPwvUoXO8/XI/C9Shc7z9SuB6F61HgP83MzMzMzPA/cT0K16Nw8T9xPQrXo3DxP3sUrkfheuQ/ZmZmZmZm8j8K16NwPQrnP3sUrkfheuQ/zczMzMzM7D/hehSuR+HyP6RwPQrXo/A/pHA9Ctej8D9aZDvfT43vP83MzMzMzPQ/w/UoXI/C7T8UrkfhehTmPxSuR+F6FOY/FK5H4XoU5j8UrkfhehTmPxSuR+F6FOY/UrgehetR8D/Xo3A9CtfzPxkEVg4tsu0/UrgehetR8D9SuB6F61HwP3sUrkfhevA/SOF6FK5H9T8zMzMzMzPrPz0K16NwPfo/KVyPwvUo7D89CtejcD3yP1yPwvUoXO8/KVyPwvUo8D9SuB6F61HwP2ZmZmZmZvY/AAAAAAAA8D/Xo3A9Ctf3PxSuR+F6FPI/w/UoXI/C7T97FK5H4XrwP3sUrkfhevA/zczMzMzM8D8K16NwPQrvP+F6FK5H4f4/SOF6FK5H8T9xPQrXo3DtPwrXo3A9Cu8/UrgehetR8D9SuB6F61HwP6RwPQrXo/A/ZmZmZmZm8j+F61G4HoXrPylcj8L1KPA/KVyPwvUo5D9I4XoUrkfpPwAAAAAAAPQ/AAAAAAAA9D8AAAAAAAD0PwAAAAAAAPQ/AAAAAAAA6D9mZmZmZmbmP0jhehSuR+k/hetRuB6F6z8pXI/C9SjwP0jhehSuR+k/exSuR+F68D8fhetRuB7tP9ejcD0K1+s/ZmZmZmZm8j+kcD0K16PwP65H4XoUru8/CtejcD0K7z9mZmZmZmbuPylcj8L1KOw/MzMzMzMz4z9I4XoUrkfpP1K4HoXrUeA/AAAAAAAA8D8UrkfhehTuP9ejcD0K1+s/hetRuB6F6z9I4XoUrkfxP5qZmZmZmek/cT0K16Nw7T+4HoXrUbjuP3sUrkfheuw/w/UoXI/C8T8UrkfhehTuP6RwPQrXo+g/XI/C9Shc7z8fhetRuB7tP6AaL90kBvE/oBov3SQG8T+gGi/dJAbxP6AaL90kBvE/w/UoXI/C8T/2KFyPwvXgP83MzMzMzOw/9ihcj8L16D8K16NwPQrvP+F6FK5H4eo/9ihcj8L18D9xPQrXo3DtPxSuR+F6FO4/7FG4HoXr6T/sUbgehevpP1yPwvUoXPM/XI/C9Shc7z8pXI/C9SjsP83MzMzMzOw/4XoUrkfh8j8K16NwPQrvP/YoXI/C9eA/mpmZmZmZ6T8K16NwPQrvP5qZmZmZmek/AAAAAAAA4D8AAAAAAADgPxSuR+F6FO4/4XoUrkfh6j/hehSuR+HqP+F6FK5H4eo/XI/C9Shc7z9xPQrXo3DxP6RwPQrXo/A/j8L1KFyP6j+PwvUoXI/qPylcj8L1KOw/4XoUrkfh8j+uR+F6FK7vP2ZmZmZmZu4/ZmZmZmZm7j89CtejcD3qP3sUrkfhevA/exSuR+F68D9xPQrXo3DtP83MzMzMzOw/H4XrUbge7T8fhetRuB7tPylcj8L1KOw/exSuR+F67D9mZmZmZmbuPxSuR+F6FO4/zczMzMzM8D/NzMzMzMzwP3sUrkfhevA/XI/C9Shc3z9cj8L1KFzfP83MzMzMzOw/MzMzMzMz6z8zMzMzMzPrP4XrUbgehes/UrgehetR4D+F61G4HoXrP8P1KFyPwu0/H4XrUbge7T+PwvUoXI/yP1K4HoXrUeg/FK5H4XoU7j8UrkfhehTuP6RwPQrXo/A/H4XrUbge7T8fhetRuB7xP0jhehSuR+k/4XoUrkfh8j9mZmZmZmbyP2ZmZmZmZvI/16NwPQrX6z/Xo3A9CtfrP8P1KFyPwuU/9ihcj8L18D/Xo3A9CtfrP9ejcD0K1+s/PQrXo3A96j9I4XoUrkfxP4/C9Shcj/I/j8L1KFyP8j+PwvUoXI/yP4/C9Shcj/I/pHA9Ctej8D8fhetRuB7tP3sUrkfheuw/exSuR+F67D9mZmZmZmbuP/YoXI/C9fA/4XoUrkfh6j9xPQrXo3DtP83MzMzMzPA/mpmZmZmZ8T+4HoXrUbjuPz0K16NwPeo/CtejcD0K8z8K16NwPQrzPzMzMzMzM/M/FK5H4XoU7j8UrkfhehTuPxSuR+F6FO4/exSuR+F68D9cj8L1KFzvP6RwPQrXo/A/H4XrUbge+T9xPQrXo3DtP4/C9Shcj+o/j8L1KFyP4j/sUbgehevpP3E9CtejcN0/ZmZmZmZm7j8pXI/C9SjwP+xRuB6F6+k/XI/C9Shc7z/D9Shcj8LtP8P1KFyPwu0/AAAAAAAA8D+kcD0K16PoP+xRuB6F6+k/zczMzMzM5D+PwvUoXI/yPylcj8L1KPA/IbByaJHt6D/hehSuR+HqP83MzMzMzPQ/cT0K16Nw8T9cj8L1KFzvPwrXo3A9CvM/2c73U+Ol7z/D9Shcj8LtP7gehetRuO4/CtejcD0K8z9mZmZmZmbuP2ZmZmZmZu4/uB6F61G48j+4HoXrUbjyP7gehetRuPI/uB6F61G48j/D9Shcj8L1PzMzMzMzM+s/cT0K16Nw5T/D9Shcj8LtP83MzMzMzPA/KVyPwvUo8D8pXI/C9SjwPwrXo3A9CvM/rkfhehSu7z+iRbbz/dTgP65H4XoUru8/XI/C9Shc5z9cj8L1KFznP1yPwvUoXOc/XI/C9Shc5z9cj8L1KFznP1yPwvUoXOc/exSuR+F68D8pXI/C9SjwPzMzMzMzM/c/ZmZmZmZm7j9mZmZmZmbyPwAAAAAAAPQ/zczMzMzM7D97FK5H4XrwPxSuR+F6FO4/hetRuB6F6z8j2/l+arzkPyPb+X5qvOQ/I9v5fmq85D+uR+F6FK7zP+F6FK5H4eo/9ihcj8L18D9cj8L1KFzvP2ZmZmZmZvI/exSuR+F68D97FK5H4XrwP83MzMzMzPA/w/UoXI/C7T/sUbgehevpP1yPwvUoXO8/H4XrUbge7T8fhetRuB7tPx+F61G4Hu0/H4XrUbge7T8fhetRuB7tPx+F61G4HvE/rkfhehSu7z9xPQrXo3DtP3sUrkfheuQ/ZmZmZmZm5j9I4XoUrkfxP3sUrkfhevA/MzMzMzMz6z9cj8L1KFzvP4XrUbgehfM/j8L1KFyP4j+PwvUoXI/iP4/C9Shcj+I/MzMzMzMz6z/2KFyPwvXoP1K4HoXrUfA/4XoUrkfh4j9I4XoUrkfpPxSuR+F6FO4/UrgehetR6D8pXI/C9SjwP65H4XoUrvM/L90kBoGV7z8v3SQGgZXvPy/dJAaBle8/L90kBoGV7z8v3SQGgZXvP/YoXI/C9fA/exSuR+F67D8K16NwPQrzP83MzMzMzPQ/exSuR+F68D+4HoXrUbjuP65H4XoUru8/uB6F61G47j/sUbgehevpP2ZmZmZmZu4/ZmZmZmZm7j9mZmZmZmbuP2ZmZmZmZu4/pHA9Ctej8D89CtejcD3qPylcj8L1KOw/uB6F61G47j8AAAAAAADwP8P1KFyPwu0/AAAAAAAA6D9xPQrXo3DtP8P1KFyPwu0/CtejcD0K7z8UrkfhehTuPylcj8L1KPA/w/UoXI/C8T/NzMzMzMzwP+F6FK5H4fI/cT0K16Nw8T/2KFyPwvXwP+xRuB6F6+k/MzMzMzMz6z/sUbgehevpPwAAAAAAAPA/mpmZmZmZ8T+amZmZmZnxP1yPwvUoXPc/9ihcj8L18D/NzMzMzMzsP/YoXI/C9fA/AAAAAAAA8D9cj8L1KFzzP5qZmZmZmfE/CtejcD0K8z8K16NwPQrzPwrXo3A9Cu8/PQrXo3A98j+uR+F6FK7vP65H4XoUru8/rkfhehSu7z9xPQrXo3DxP/YoXI/C9fA/AAAAAAAA6D8AAAAAAADwP9ejcD0K1+s/zczMzMzM5D9xPQrXo3DtP3sUrkfhevA/zczMzMzM5D/D9Shcj8LtPyGwcmiR7fI/IbByaJHt8j8hsHJoke3yPyGwcmiR7fI/XI/C9Shc8z/2KFyPwvXoP+F6FK5H4eI/ZmZmZmZm7j9cj8L1KFzvP1yPwvUoXO8/j8L1KFyP8j9mZmZmZmbuP/YoXI/C9fA/SOF6FK5H8T+cxCCwcmjtP7gehetRuPI/MzMzMzMz8z8zMzMzMzPzPzMzMzMzM/M/MzMzMzMz8z8zMzMzMzPzPzMzMzMzM/M/MzMzMzMz8z8zMzMzMzPzPylcj8L1KPQ/cT0K16Nw9T8fhetRuB7xP2ZmZmZmZu4/ZmZmZmZm7j+amZmZmZnxP1yPwvUoXPM/MzMzMzMz6z+amZmZmZnpP8P1KFyPwvE/ZmZmZmZm8j/2KFyPwvX0P3sUrkfheuw/exSuR+F67D/D9Shcj8LtP2ZmZmZmZu4/w/UoXI/C8T89CtejcD3yP6RwPQrXo+g/KVyPwvUo8D+uR+F6FK7vP9v5fmq8dOc/KVyPwvUo8D/y0k1iEFjzP/LSTWIQWPM/8tJNYhBY8z8AAAAAAAD0P4XrUbgehes/16NwPQrX6z/Xo3A9CtfrP+xRuB6F6+k/9ihcj8L16D9xPQrXo3DtP2ZmZmZmZvI/ZmZmZmZm8j9xPQrXo3DtPylcj8L1KOw/cT0K16Nw8T9xPQrXo3DxPwrXo3A9Cu8/exSuR+F67D/sUbgehevpP8P1KFyPwu0/hetRuB6F6z8K16NwPQrvPxSuR+F6FO4/zczMzMzM7D+4HoXrUbjuP3sUrkfheuw/7FG4HoXr6T/sUbgehevpP1K4HoXrUfA/pHA9Ctej6D8AAAAAAADwP2ZmZmZmZu4/ZmZmZmZm7j89CtejcD3qP3sUrkfheuw/mpmZmZmZ8T/sUbgehevpPx+F61G4Hu0/mpmZmZmZ+T9I4XoUrkfxP6RwPQrXo+g/uB6F61G47j/D9Shcj8LtP8P1KFyPwu0/w/UoXI/C7T/D9Shcj8LtP83MzMzMzPA/UrgehetR8D9mZmZmZmbqP2ZmZmZmZuo/UrgehetR6D9SuB6F61HoP1K4HoXrUeg/cT0K16Nw7T9xPQrXo3DtPwAAAAAAAPA/cT0K16Nw5T8K16NwPQrvP2ZmZmZmZvI/hetRuB6F6z+kcD0K16PgP6RwPQrXo+g/pHA9Ctej6D/Xo3A9CtfrP9ejcD0K1+s/H4XrUbge8T/Xo3A9CtfrPxSuR+F6FO4/FK5H4XoU7j/NzMzMzMzwP1yPwvUoXO8/j8L1KFyP8j8UrkfhehTyP7gehetRuO4/H4XrUbge7T+4HoXrUbjuPwrXo3A9Cu8/mpmZmZmZ4T89CtejcD3qP65H4XoUru8/zczMzMzM8D/NzMzMzMzwP3sUrkfheuQ/mpmZmZmZ6T89CtejcD3iP+xRuB6F6+E/j8L1KFyP6j9xPQrXo3DxP4XrUbgehfM/7FG4HoXr8T+kcD0K16P0P8/3U+Olm+g/UrgehetR8D9SuB6F61HwP1K4HoXrUfA/mpmZmZmZ8T8pXI/C9SjwP9ejcD0K1+s/WmQ730+N5z9I4XoUrkfxPz0K16NwPeo/pHA9Ctej/D8UrkfhehTyP5qZmZmZmek/46WbxCCw8D+LbOf7qfH0P2ZmZmZmZu4/hetRuB6F6z+F61G4HoXrPwAAAAAAAPh/PQrXo3A92j8Sg8DKoUW2P83MzMzMzNw/AAAAAAAA+H9cj8L1KFzfP1yPwvUoXOc/AAAAAAAA4D/Xo3A9CtfjP/yp8dJNYrA/UrgehetR6D/D9Shcj8LVPylcj8L1KOQ/UrgehetRyD97FK5H4XrUP4XrUbgehds/PQrXo3A94j+amZmZmZnZPz0K16NwPdo/CtejcD0K1z+amZmZmZnZP3E9CtejcN0/9ihcj8L18D9SuB6F61HgP5qZmZmZmbk/j8L1KFyP0j8Sg8DKoUW2Pylcj8L1KMw/mpmZmZmZ+T8zMzMzMzPTP83MzMzMzOQ/FK5H4XoU3j/sUbgehevBPxSuR+F6FOY/FK5H4XoU5j/hehSuR+HKPx+F61G4HuU/ZmZmZmZm5j8AAAAAAAD4f65H4XoUruc/7FG4HoXr0T9SuB6F61HoPzMzMzMzM9M/9ihcj8L12D9I4XoUrkfRPwAAAAAAANA/SOF6FK5H6T9SuB6F61HoP65H4XoUruc/16NwPQrX0z/Xo3A9CtfTPwAAAAAAAPh/FK5H4XoU3j9cj8L1KFzfP4/C9Shcj+I/AAAAAAAA+H/2KFyPwvXoP5qZmZmZmdk/FK5H4XoU3j8UrkfhehTeP3sUrkfhetQ/AAAAAAAA+H8pXI/C9SjMPzMzMzMzM+M/CtejcD0K1z9SuB6F61HYPwAAAAAAAOg/7FG4HoXrwT/sUbgehevBPylcj8L1KOQ/XI/C9Shc5z+4HoXrUbjOPz0K16NwPeI/4XoUrkfh2j+uR+F6FK7XPwrXo3A9Cuc/exSuR+F6tD+PwvUoXI/iP7gehetRuN4/rkfhehSu1z8AAAAAAADAP7gehetRuL4/mpmZmZmZyT9aZDvfT43XPylcj8L1KOQ/9ihcj8L14D+F61G4HoXbP/YoXI/C9eA/AAAAAAAA+H8K16NwPQrHP+F6FK5H4do/j8L1KFyP4j8zMzMzMzPTPzMzMzMzM9M/exSuR+F61D9xPQrXo3DlP7gehetRuOY/hetRuB6F4z8UrkfhehTeP4XrUbgeheM/AAAAAAAA+H8zMzMzMzPDPwAAAAAAAOA/CtejcD0K5z9cj8L1KFznP6RwPQrXo8A/pHA9Ctej6D9U46WbxCDkP1TjpZvEIOQ/001iEFg55D8ZBFYOLbLhP7TIdr6fGu8/rBxaZDvf7z+sHFpkO9/vPycxCKwcWvA/AAAAAAAA+H89CtejcD38Pz0K16NwPe4/j8L1KFyP8D8/NV66SQzuP/Cnxks3iek/5dAi2/l+7j/hehSuR+HqPycxCKwcWuw/w/UoXI/C6T8730+Nl27qP3Noke18P/E/cT0K16Nw4T+mm8QgsHLwP/T91HjpJvM/SgwCK4cW5T+LbOf7qfH2P0jhehSuR/E/SOF6FK5H8T8zMzMzMzPzP1yPwvUoXOs/dZMYBFYO8T8fhetRuB7hP5MYBFYOLeY/3SQGgZVD5z/wp8ZLN4nhPwrXo3A9Cvc/KVyPwvUo7D8lBoGVQ4vsP5qZmZmZmQFA2c73U+Ol4z/hehSuR+HKP3sUrkfhetQ/exSuR+F61D97FK5H4XrUP3sUrkfhetQ/cT0K16Nw3T9xPQrXo3DdP3E9CtejcN0/4XoUrkfh8j9mZmZmZmb0P+Olm8QgsMI/46WbxCCwwj9oke18PzXOPxSuR+F6FNY/FK5H4XoU1j8UrkfhehTWP6rx0k1iEOA/eekmMQisvD+DwMqhRbbDP/hT46WbxNA/4XoUrkfh4j+YbhKDwMrBP5huEoPAysE/mG4Sg8DKwT9oke18PzW+P2iR7Xw/Nb4/UrgehetR4D+F61G4HoXbP/yp8dJNYtA//Knx0k1i0D/8qfHSTWLQPwAAAAAAAPA/16NwPQrX6z+PwvUoXI/SP4/C9Shcj9I/j8L1KFyP0j+PwvUoXI/SP2ZmZmZmZvY/hetRuB6F+z+LbOf7qfH0PwAAAAAAAPw/ZmZmZmZm9j9mZmZmZmbmP+xRuB6F69E/FK5H4XoU5j9xPQrXo3DlPx+F61G4HuU/7FG4HoXr4T9SuB6F61HYP1K4HoXrUcg/exSuR+F6xD+PwvUoXI/iPylcj8L1KLw/CtejcD0Kxz/2KFyPwvXgPwAAAAAAAOg/UrgehetRyD8AAAAAAAD4fylcj8L1KMw/hetRuB6F6z/Xo3A9CtfTP1yPwvUoXN8/mpmZmZmZuT8pXI/C9SjsP1K4HoXrUcg/16NwPQrX0z+4HoXrUbjOPzMzMzMzM8M/AAAAAAAA+H8AAAAAAAD4fzMzMzMzM9M/cT0K16NwzT/LoUW28/3kP1K4HoXrUeA/AAAAAAAA6D8K16NwPQrHP7gehetRuN4/AAAAAAAA6D/D9Shcj8LxP0jhehSuR/E/SOF6FK5H8T9I4XoUrkfxP0jhehSuR/E/AAAAAAAA+D8zMzMzMzMDQGZmZmZmZvY/EoPAyqFF5j8v3SQGgZXrPy/dJAaBles/vHSTGARW8D/NzMzMzMz0PyPb+X5qvOw/16NwPQrX7z/VeOkmMQjwP2ZmZmZmZvA/PzVeukkM8D9YObTIdr7jP4XrUbgehfc/CtejcD0K5z8pXI/C9SjwPylcj8L1KPQ/H4XrUbge7T+4HoXrUbjuPx+F61G4HvE/JQaBlUOL8D89CtejcD36PxSuR+F6FO4/AAAAAAAA+H8AAAAAAAD4fwAAAAAAAPh/EoPAyqFF8D8AAAAAAADoP/T91HjpJuU/FYxK6gQ06T97FK5H4XrsP3E9CtejcPU/eekmMQis5D956SYxCKzkP3npJjEIrOQ/TDeJQWDl4D9MN4lBYOXgP30/NV66Sdw/UrgehetR+D9SuB6F61H4PwAAAAAAAPh/AAAAAAAA+H8AAAAAAAD4f8P1KFyPwvk/MzMzMzMz4z8zMzMzMzPjP+xRuB6F6+E/cT0K16Nw3T8UrkfhehTmPylcj8L1KMw/UrgehetR4D9SuB6F61HgP83MzMzMzNw/uB6F61G45j97FK5H4XrkP7gehetRuOY/rkfhehSu1z+amZmZmZnZPxSuR+F6FN4/NV66SQwCyz89CtejcD3qPz0K16NwPeo/KVyPwvUo3D9vEoPAyqHpP4/C9Shcj9I/SOF6FK5H4T/sUbgehevhP0jhehSuR+E/7lpCPujZvD+PwvUoXI/SP3E9CtejcN0/H4XrUbge1T97FK5H4XrsPxSuR+F6FOY/pHA9Ctej4D9cj8L1KFznP2ZmZmZmZtY/mpmZmZmZ2T+amZmZmZnZP1K4HoXrUeA/mpmZmZmZuT+uR+F6FK7XP1K4HoXrUdg/w/UoXI/CxT/D9Shcj8LVP5qZmZmZmeE/g8DKoUW2sz/hehSuR+HiP6RwPQrXo8A/AAAAAAAA+H8AAAAAAADwPzMzMzMzM9M/uB6F61G43j8rhxbZzvezP5qZmZmZmbk/mpmZmZmZ4T8AAAAAAAD4fz0K16NwPdo/AAAAAAAA+H/jpZvEILDaP1yPwvUoXN8/7FG4HoXr4T97FK5H4XrUP5qZmZmZmck/ZmZmZmZm5j97FK5H4XrUP5qZmZmZmeE/zczMzMzM3D8xCKwcWmTLP3E9CtejcN0/KVyPwvUo5D+kcD0K16PoP3E9CtejcM0/zczMzMzM3D9SuB6F61HYPxSuR+F6FOY/mpmZmZmZuT8pXI/C9SjkPxSuR+F6FN4/Rrbz/dR4yT+4HoXrUbjOP5qZmZmZmck/mpmZmZmZuT8AAAAAAADwP3sUrkfhesQ/CtejcD0K5z+amZmZmZnhPxSuR+F6FN4/CtejcD0Kxz8K16NwPQrHP7gehetRuN4/FK5H4XoU5j+uR+F6FK7XP3sUrkfhesQ/FK5H4XoU8j/sUbgehevRP4XrUbgehds/16NwPQrX4z9aZDvfT423P0jhehSuR+E/AAAAAAAA+H9xPQrXo3DdP0jhehSuR9E/4XoUrkfh2j9xPQrXo3DtP3E9CtejcO0/AAAAAAAA+H8UrkfhehTeP4XrUbgeheM/cT0K16Nw4T8K16NwPQrnP8P1KFyPwuU/7FG4HoXr4T+4HoXrUbj2PxSuR+F6FN4/PQrXo3A98j/2KFyPwvXoP1yPwvUoXOc/CtejcD0K8z9I4XoUrkfxPwAAAAAAAPQ/uB6F61G48j9mZmZmZmb2P1yPwvUoXAFACtejcD0KAUC4HoXrUbgIQAAAAAAAAPh/UrgehetR6D9SuB6F61HoP1g5tMh2vvM/Gy/dJAaB8T8bL90kBoHxPxsv3SQGgfE/AAAAAAAA+H+F61G4HoX3Pz0K16NwPeY/WDm0yHa+8z/sUbgehevtP+xRuB6F6+0/uB6F61G4vj+4HoXrUbi+P2ZmZmZmZvY/CtejcD0K8z9mZmZmZmb2PwAAAAAAAPh/AAAAAAAA+D8AAAAAAAD4PwAAAAAAAPh/AAAAAAAA+H+amZmZmZn1P2ZmZmZmZvY/ZmZmZmZm9j9mZmZmZmb2P2ZmZmZmZvY/AAAAAAAA+H9mZmZmZmb2P2ZmZmZmZvY/ZmZmZmZm9j9mZmZmZmb2P2ZmZmZmZvY/ZmZmZmZm9j+amZmZmZn1P2ZmZmZmZvY/5dAi2/l+8j83iUFg5dDqP65H4XoUruc/CtejcD0K8z956SYxCKzsPz81XrpJDPI/5/up8dJN6j8lBoGVQ4v2PxBYObTIdvA/NV66SQwC5z/NzMzMzMzsP65H4XoUru8/rkfhehSu7z+uR+F6FK7vP65H4XoUru8/9ihcj8L18D8bL90kBoHFPzMzMzMzM+M/Di2yne+nxj8zMzMzMzPjP4GVQ4ts5+M/KVyPwvUo9D8MAiuHFtnePxBYObTIdu4/MzMzMzMz4z8zMzMzMzPjPwAAAAAAAPh/AAAAAAAA+H8AAAAAAAD4fwAAAAAAAPh/mpmZmZmZuT/Xo3A9CtfzP5qZmZmZmfE/zczMzMzM/D+kcD0K16PwP83MzMzMzPQ/H4XrUbge9T91kxgEVg7pP3WTGARWDuk/dZMYBFYO6T91kxgEVg7pP65H4XoUrt8/YhBYObTItj9iEFg5tMi2P2IQWDm0yLY/0SLb+X5qzD+PwvUoXI/wP4/C9Shcj/A/7FG4HoXr8T8AAAAAAAD4fxQ/xty1hANAumsJ+aBn4T9cj8L1KFzfP9Ei2/l+avA/vHSTGARW9D8lBoGVQ4vgP/KwUGuad+I/ObTIdr6f4j8UrkfhehTyPxSuR+F6FPI/JzEIrBxa1D/oaiv2l93hP/LSTWIQWNk/XI/C9Shc8z9YObTIdr7vP1g5tMh2vu8/arx0kxgE4j8AAAAAAAD4f166SQwCK+c/H4XrUbge7T/dJAaBlUPzPxSuR+F6FO4/FK5H4XoU7j9WDi2yne/nP1YOLbKd7+c/MzMzMzMz4z9I4XoUrkfxP0jhehSuR/E/XI/C9Shc8z+amZmZmZn1PwrXo3A9Cu8/CtejcD0K7z8K16NwPQrvPxfZzvdT4+U/F9nO91Pj5T8AAAAAAADyPycxCKwcWvA/JzEIrBxa8D8nMQisHFrwPycxCKwcWvA/JzEIrBxa8D8nMQisHFrwPx+F61G4Hu0/MzMzMzMz6z8AAAAAAADoPxSuR+F6FPY/uB6F61G45j8AAAAAAADwP65H4XoUrvM//Knx0k1i4D97FK5H4XrwP5qZmZmZmdk/mpmZmZmZ2T/D9Shcj8LFPyuHFtnO99M/CtejcD0K3z8pXI/C9SjkP+F6FK5H4eI/4XoUrkfh4j9cj8L1KFznP9ejcD0K1+s/16NwPQrX6z/Xo3A9CtfrP9ejcD0K1+s/UrgehetR8D97FK5H4XrsP2ZmZmZmZu4/AiuHFtnO5z+wcmiR7XzrP7ByaJHtfOs/sHJoke186z8fhetRuB7lPx+F61G4HuU/H4XrUbge5T/NzMzMzMzcP83MzMzMzNw/zczMzMzM3D+4HoXrUbjuPwAAAAAAAPh/AAAAAAAA+H8AAAAAAAD4f/YoXI/C9fA/uB6F61G47j97FK5H4XrsP3sUrkfheuw/MzMzMzMz6z9SuB6F61HwP1K4HoXrUfA/H4XrUbge9T+4HoXrUbjyPwrXo3A9Cvc/CtejcD0K7z8GgZVDi2z3PwAAAAAAAPh/AAAAAAAA+H+e76fGSzftP57vp8ZLN+0/AAAAAAAA+H8AAAAAAAD4fxSuR+F6FOY/AAAAAAAA9j8AAAAAAAD2P7gehetRuOY/uB6F61G45j/hehSuR+HiP/Cnxks3iek/8KfGSzeJ6T8v3SQGgZXvPzEIrBxaZO8/MQisHFpk7z9g5dAi2/nqP2ZmZmZmZv4/mpmZmZmZ8T8AAAAAAADwP4/C9Shcj9I/exSuR+F67D8X2c73U+PtPxfZzvdT4+0/rkfhehSu1z8UrkfhehTePxSuR+F6FN4/pHA9Ctej8D+sHFpkO9/PP+F6FK5H4eY/4XoUrkfh5j9cj8L1KFzfPxkEVg4tstU/GQRWDi2y1T++nxov3STeP76fGi/dJN4/JzEIrBxa8D8nMQisHFrwP4XrUbgehes/cT0K16Nw8T8Sg8DKoUXuP5ZDi2zn+/M/XI/C9Shc8T+kcD0K16P8P7x0kxgEVu4/EoPAyqFF+D/ZzvdT46XvP6rx0k1iEOA/2IFzRpT29j8AAAAAAAD4fwAAAAAAAPh/XI/C9Shc8z9cj8L1KFzzPwrXo3A9Csc/AAAAAAAA+H+uR+F6FK7fP3sUrkfhevA/XI/C9Shc3z8AAAAAAAD4fwAAAAAAAPh/SOF6FK5H4T9SuB6F61HQPycxCKwcWvI/sHJoke187z8AAAAAAAD4f3sUrkfhevA/eekmMQis5D+WQ4ts5/vxPwAAAAAAAPA/AAAAAAAA8D9I4XoUrkfpP1K4HoXrUfA/j8L1KFyP4j+PwvUoXI/iP4/C9Shcj+I/ZmZmZmZm8j9SuB6F61HwPylcj8L1KOw/hetRuB6F4z/NzMzMzMzsP1K4HoXrUfA/uB6F61G48j+WQ4ts5/v3P83MzMzMzOQ/zczMzMzM5D/NzMzMzMzkP83MzMzMzOQ/zczMzMzM5D/NzMzMzMzkP1K4HoXrUfA/16NwPQrX6z/Xo3A9CtfrPwAAAAAAAPA/bef7qfHS6T9I4XoUrkfhP/7UeOkmMeg//tR46SYx6D/2KFyPwvXYPwAAAAAAAOg/aJHtfD816j/LoUW28/3oP6RwPQrXo/A/pHA9Ctej6D8zMzMzMzPrP6RwPQrXo/A/pHA9Ctej9D+kcD0K16P0P1yPwvUoXPc/PQrXo3A96j8v3SQGgZXvP6RwPQrXo/Q/rkfhehSu7z+wcmiR7XzfPzMzMzMzM/M/qvHSTWIQ5D/0/dR46SbxPxfZzvdT490/wcqhRbbz7T/ByqFFtvPtP8l2vp8aL/E/yXa+nxov8T9xPQrXo3D5P5huEoPAyvE/F9nO91Pj1T8X2c73U+PVPx+F61G4HuU/H4XrUbge5T8v3SQGgZXvP3WTGARWDvU/H4XrUbge9T8AAAAAAAD4f1CNl24Sg/I/ppvEILBy8j+PwvUoXI/qPxfZzvdT4+E/ZmZmZmZm1j9eukkMAivrP166SQwCK+s/XrpJDAIr6z9eukkMAivrP0jhehSuR+E/XI/C9Shc3z+amZmZmZnpP8P1KFyPwt0/w/UoXI/C3T+BlUOLbOfLP4GVQ4ts58s/AAAAAAAA+H/0/dR46Sb3P+F6FK5H4co/mpmZmZmZ8T8UrkfhehTmPxSuR+F6FOY/w/UoXI/C1T8UrkfhehTuP4XrUbgehfs/qMZLN4lB+D/ufD81XrrzP+xRuB6F6/E/pHA9Ctej6D+kcD0K16PoPy2yne+nxvE/exSuR+F6+D8dWmQ730/xP65H4XoUruc/UI2XbhKD8D+8dJMYBFbqP7x0kxgEVuo/I9v5fmq89D9mZmZmZmbqPwAAAAAAAPh/H4XrUbge1T+uR+F6FK7vP3E9CtejcM0/L90kBoGV4z91kxgEVg7dP+xRuB6F6+E/uB6F61G48j+4HoXrUbjyP2ZmZmZmZu4/MzMzMzMz9T+uR+F6FK7vP7pJDAIrh+4/AAAAAAAA+H+kcD0K16PwPwAAAAAAAOg/pHA9Ctej5D+28/3UeOnGP1K4HoXrUeQ/nu+nxks36T+e76fGSzfpPyPb+X5qvMQ/8KfGSzeJ4T/NzMzMzMzkP83MzMzMzOQ/AAAAAAAA+H+6SQwCK4fyPwAAAAAAAPh/exSuR+F65D97FK5H4XrkP3sUrkfheuQ/H4XrUbge5T8fhetRuB7lPwAAAAAAANA/zczMzMzM8D/NzMzMzMzwPx+F61G4HuU/j8L1KFyP8j/D9Shcj8L9P+xRuB6F6/E/+n5qvHST8D8pXI/C9SjwP166SQwCK+s/XrpJDAIr6z8AAAAAAAD4f6RwPQrXo+g/pHA9Ctej6D/hehSuR+HwPwAAAAAAAPh/AAAAAAAA+H/TTWIQWDn2P+xRuB6F6/U/cT0K16Nw8z9mZmZmZmbyP8P1KFyPwu0/g8DKoUW24z8AAAAAAAD4fwAAAAAAAPh/AAAAAAAA+H8K16NwPQrzP6RwPQrXo/A/pHA9Ctej8D/99nXgnBHZP5qZmZmZmdk/mpmZmZmZ2T+amZmZmZnZPx+F61G4HvE/pHA9Ctej4D81XrpJDALxPxfZzvdT4/E/3SQGgZVD7z8pXI/C9SjyP4/C9Shcj+o/j8L1KFyP6j+4HoXrUbjmP8HKoUW28+0/exSuR+F68D+kcD0K16PoP+xRuB6F6/E/pHA9Ctej9D9zaJHtfD/lPwAAAAAAAPh/2T15WKg12T+F61G4HoXrP1yPwvUoXO8/Di2yne+n8D8pXI/C9SjsPwAAAAAAAPh/HVpkO99P9T8fhetRuB73P2Dl0CLb+fI/ke18PzVe8D+4HoXrUbj2PwAAAAAAAPh/9ihcj8L16D8pXI/C9SjkPzMzMzMzM/M/AAAAAAAA+H/2KFyPwvXgP3sUrkfheuQ/pHA9Ctej4D9MN4lBYOXyP6wcWmQ73/M/AAAAAAAA+H/iWBe30QDSPwAAAAAAAPh/nMQgsHJo8T8AAAAAAAD4f1K4HoXrUfI/UrgehetR8j9SuB6F61HyP6rx0k1iEPQ/XI/C9Shc3z8pXI/C9SjsPylcj8L1KOw/KVyPwvUo7D8pXI/C9SjsPwisHFpkO+s/CKwcWmQ76z+4HoXrUbjeP7gehetRuN4/DAIrhxbZ8j8AAAAAAAD4fwAAAAAAAPh/H4XrUbge9T/2KFyPwvXsPwAAAAAAAPh/uB6F61G4zj8pXI/C9SjkP90kBoGVQ+s/exSuR+F67D/NzMzMzMzsP/YoXI/C9eg/9ihcj8L16D/2KFyPwvXoP8/3U+Olm/g/H4XrUbge1T+h+DHmriXkP6H4MeauJeQ/XrpJDAIr3z/D9Shcj8L1P8HKoUW28/U/AAAAAAAA+H/sUbgehevpP1pkO99Pjdc/zczMzMzM8D+4HoXrUbjuP0w3iUFg5fA/hxbZzvdT7z89CtejcD3qPz0K16NwPeo/IbByaJHt3D8730+Nl27aPzvfT42Xbto/MzMzMzMz8z8AAAAAAAD4fwAAAAAAAPh/ZmZmZmZm7j9mZmZmZmbuP2ZmZmZmZu4/ZmZmZmZm7j+4HoXrUbjeP/YoXI/C9fQ/SgwCK4cW2T+wcmiR7XzzP7ByaJHtfPM/cT0K16Nw9T97FK5H4XrsP3sUrkfheuw/1XjpJjEI/D+amZmZmZnxP7gehetRuPY/H4XrUbge7T8fhetRuB7tPx+F61G4Hu0/16NwPQrX6z+sHFpkO9/zPzMzMzMzM/M/PQrXo3A98j9xPQrXo3DVP3sUrkfhevA/j8L1KFyP9j8AAAAAAADwPwrXo3A9Cu8/KVyPwvUo7D8pXI/C9SjsPylcj8L1KOw/KVyPwvUo7D8AAAAAAAD4f5qZmZmZmek/AAAAAAAA8D+amZmZmZnxP1yPwvUoXPc/16NwPQrX8z/Xo3A9CtfzP65H4XoUruc/2c73U+Ol6z/Xo3A9CtfzPwAAAAAAAPA/BFYOLbKd1z9KDAIrhxbZP9nO91Pjpec/AAAAAAAA+H8AAAAAAADwP0jhehSuR+E/cT0K16Nw5T8AAAAAAAD4f/YoXI/C9eA/AAAAAAAA4D+mm8QgsHLkPy/dJAaBleM/j8L1KFyP0j8CK4cW2c7xPwIrhxbZzvE/JzEIrBxaxD8zMzMzMzPrPxSuR+F6FP4/exSuR+F67D/Xo3A9CtfzP9ejcD0K1/M/AiuHFtnO4z8v3SQGgZX1P9Ei2/l+avA/HVpkO99P5T/D9Shcj8LpP8P1KFyPwuk/w/UoXI/C6T/D9Shcj8LpP8P1KFyPwuk/mG4Sg8DK4T+amZmZmZnxP/YoXI/C9ew/MzMzMzMz4z8AAAAAAAD4f1K4HoXrUdg/rkfhehSu8z/FILByaJHVP0jhehSuR+k/16NwPQrX6z8K16NwPQrvPwAAAAAAAPh/cT0K16NwzT+kcD0K16PwP/hT46WbxPg/ppvEILBy4D8AAAAAAAD4f6RwPQrXo/Q/9P3UeOkm8T+DwMqhRbbxP4PAyqFFtvE/AAAAAAAA0D9xPQrXo3DxPwAAAAAAAPh/EFg5tMh24j8AAAAAAAD4f2Q730+Nl9Y/YOXQItv59D97FK5H4XrkP57vp8ZLN9E/9ihcj8L14D8dWmQ730/dP/p+arx0k/g/cT0K16NwzT/hehSuR+HaPwAAAAAAAPh/ppvEILBy4D+mm8QgsHLgP6abxCCwcuA/jZduEoPA8D+cxCCwcmj1P5zEILByaPU/AAAAAAAA8D9I4XoUrkfhP30/NV66Sdw/4XoUrkfh8j8zMzMzMzPrPzMzMzMzM+s/HVpkO99P8T8dWmQ730/xP+XQItv5fso/ObTIdr6f2j85tMh2vp/aPzm0yHa+n9o/ObTIdr6f2j+4HoXrUbjuPx+F61G4HvE/Vg4tsp3v8T8GgZVDi2znPwaBlUOLbOc/BoGVQ4ts5z/NzMzMzMzMP1K4HoXrUdg/UrgehetR2D9kO99PjZfuP5qZmZmZmek/fT81XrpJ3D/y0k1iEFjtP/LSTWIQWO0/KVyPwvUozD8pXI/C9SjMP5zEILByaOE/nMQgsHJo4T9mZmZmZmb2P5zEILByaNk/H4XrUbge7T8fhetRuB7tPx+F61G4HvU/okW28/3U6D+iRbbz/dToPxSuR+F6FOY/hetRuB6F4z8ZBFYOLbLlPxkEVg4tsuU/ZmZmZmZm8j/ufD81XrrtP0jhehSuR/E/qMZLN4lB6D/sUbgehevpP3sUrkfhevQ/d76fGi/d4D93vp8aL93gPzMzMzMzM+s/MzMzMzMz8z9mZmZmZmbuPz0K16NwPeo/KVyPwvUo7D8pXI/C9SjsP57vp8ZLN/M/sHJoke185z+wcmiR7XznP3sUrkfherQ/exSuR+F6tD97FK5H4Xq0P3sUrkfherQ/exSuR+F6tD97FK5H4Xq0P3sUrkfherQ/eekmMQis7D9cj8L1KFzvP8UgsHJoke0/aJHtfD819j/6fmq8dJPsP3sUrkfherQ/cT0K16Nw3T+amZmZmZnpP2ZmZmZmZvI/ZmZmZmZm8j+sHFpkO9/fPwrXo3A9CvM/7FG4HoXr/T8K16NwPQrvPwAAAAAAAPA/7FG4HoXr6T9SuB6F61H0P1K4HoXrUfQ/UrgehetR9D8AAAAAAAD4f+F6FK5H4eo/4XoUrkfh6j8K16NwPQr3P3E9CtejcPU/SOF6FK5H8T+F61G4HoXzP1K4HoXrUfA/exSuR+F67D9SuB6F61H0PxSuR+F6FOY/FK5H4XoU5j956SYxCKzyP3Noke18P/M/uB6F61G45j8lBoGVQ4vsP8dLN4lBYPU/bef7qfHS6T9KDAIrhxb1Pzm0yHa+n/Q/AAAAAAAA9D9qvHSTGATyP6RwPQrXo/Q/UrgehetR8D/D9Shcj8L1P9nO91PjpfU/9ihcj8L18D9mZmZmZmbwPx+F61G4HvE/7FG4HoXr8T/sUbgehevxP83MzMzMzPA/AAAAAAAA8D+LbOf7qfH2P6RwPQrXo/A/9ihcj8L18D9zaJHtfD/pP3Noke18P+k/c2iR7Xw/6T+PwvUoXI/yP39qvHSTGPI/f2q8dJMY8j9cj8L1KFzvPxSuR+F6FPI/2/l+arx08z+F61G4HoXzP9ejcD0K1+s/AAAAAAAA+H/NzMzMzMzsPwAAAAAAAPQ/SOF6FK5H9T8xCKwcWmTxP+xRuB6F6+k/UrgehetR6D+28/3UeOnwP05iEFg5tPA/AAAAAAAA8D8AAAAAAADwP83MzMzMzPA/x0s3iUFg8z/wp8ZLN4n1PwisHFpkO/E/3SQGgZVD6z/HSzeJQWD1P5qZmZmZmek/cT0K16Nw8T+LbOf7qfHqP/YoXI/C9fA/FK5H4XoU9j+PwvUoXI/2P+F6FK5H4fI/exSuR+F67D89CtejcD32P2ZmZmZmZu4/SgwCK4cW9T8Sg8DKoUXuPyuHFtnO9/M/CtejcD0K8z99PzVeukn4P0jhehSuR/E/MQisHFpk9T8nMQisHFrwPycxCKwcWvA/w/UoXI/C7T8j2/l+arzyP9ejcD0K1/c/exSuR+F69D8xCKwcWmTzP1K4HoXrUfQ/1XjpJjEI7D/hehSuR+H+PzMzMzMzM/M/zczMzMzM9D+kcD0K16PwP57vp8ZLN/E/SgwCK4cW6T+uR+F6FK7zPwAAAAAAAPh/hetRuB6F8z+kcD0K16P4PwAAAAAAAPg//tR46SYx/j/Xo3A9CtfzP9ejcD0K1/M/mpmZmZmZ9T8AAAAAAAD4f+xRuB6F6/E/pHA9Ctej9D/NzMzMzMz0P8P1KFyPwvU/IbByaJHt7D+mm8QgsHLyPwisHFpkO/M/KVyPwvUo8D+amZmZmZnxP/YoXI/C9eg/qvHSTWIQ8j8AAAAAAADwP+xRuB6F6/E/vHSTGARW8D9mZmZmZmbqP+F6FK5H4eo/j8L1KFyP8j+amZmZmZnxP+xRuB6F6/c/KVyPwvUo8D8AAAAAAAD4f1K4HoXrUfA/XrpJDAIr6z/b+X5qvHTzP8P1KFyPwu0/KVyPwvUo9D9mZmZmZmbuP2ZmZmZmZu4/AAAAAAAA+H+LbOf7qfHmPzvfT42Xbu4/SgwCK4cW7T9kO99PjZfuP6RwPQrXo/A/pHA9Ctej8D+kcD0K16PwP6RwPQrXo/A/CtejcD0K8z/ZzvdT46XvP8P1KFyPwu0/WmQ730+N6z/Xo3A9CtfrPwwCK4cW2eo/UrgehetR8j/D9Shcj8LxP6RwPQrXo/A/AAAAAAAA+H8UrkfhehTuPzVeukkMAuc/AAAAAAAA8D9zaJHtfD/xP4XrUbgehfM/AAAAAAAA9D8fhetRuB71PwAAAAAAAPA/w/UoXI/C7T/NzMzMzMz0P9ejcD0K1+s/kxgEVg4t8D8730+Nl27qP9Ei2/l+auw/GQRWDi2y8T/0/dR46Sb5P3sUrkfhevA/cT0K16Nw9T+uR+F6FK73Pz0K16NwPfI/XI/C9Shc9z/VeOkmMQjwPylcj8L1KABA9ihcj8L1+D/RItv5fmr0P4/C9Shcj+I/SOF6FK5H8T8UrkfhehT6P8P1KFyPwvE/i2zn+6nx6j+LbOf7qfHqP3E9CtejcPE/3SQGgZVD8z8zMzMzMzP3P3E9CtejcO0/ukkMAiuH8D/NzMzMzMz4P+F6FK5H4eo/CtejcD0K8z/NzMzMzMz0P6RwPQrXo/Q/16NwPQrX8z/D9Shcj8LxP/YoXI/C9fA/7FG4HoXr8T8K16NwPQrvP65H4XoUrvc/SgwCK4cW5T/Xo3A9CtfjP/p+arx0k+A/zczMzMzM5D9cj8L1KFznP3E9CtejcOU/ukkMAiuHhj8AAAAAAADQPwAAAAAAANA/AAAAAAAA0D/HSzeJQWDFPwAAAAAAAPh/AAAAAAAA+H9qvHSTGATmPzMzMzMzM/M/PQrXo3A96j8AAAAAAADwP7gehetRuO4/XI/C9Shc7z9cj8L1KFzvP1yPwvUoXO8/j8L1KFyP9j8fhetRuB71Pylcj8L1KOw/hetRuB6F9z97FK5H4Xr2P2ZmZmZmZvY/KVyPwvUo8D+4HoXrUbjuPz0K16NwPfI/mpmZmZmZ8T+kcD0K16PAP6RwPQrXo8A/pHA9CtejwD8=",
          "dtype": "f8"
         },
         "yaxis": "y"
        }
       ],
       "layout": {
        "legend": {
         "tracegroupgap": 0
        },
        "margin": {
         "t": 60
        },
        "template": {
         "data": {
          "bar": [
           {
            "error_x": {
             "color": "#2a3f5f"
            },
            "error_y": {
             "color": "#2a3f5f"
            },
            "marker": {
             "line": {
              "color": "#E5ECF6",
              "width": 0.5
             },
             "pattern": {
              "fillmode": "overlay",
              "size": 10,
              "solidity": 0.2
             }
            },
            "type": "bar"
           }
          ],
          "barpolar": [
           {
            "marker": {
             "line": {
              "color": "#E5ECF6",
              "width": 0.5
             },
             "pattern": {
              "fillmode": "overlay",
              "size": 10,
              "solidity": 0.2
             }
            },
            "type": "barpolar"
           }
          ],
          "carpet": [
           {
            "aaxis": {
             "endlinecolor": "#2a3f5f",
             "gridcolor": "white",
             "linecolor": "white",
             "minorgridcolor": "white",
             "startlinecolor": "#2a3f5f"
            },
            "baxis": {
             "endlinecolor": "#2a3f5f",
             "gridcolor": "white",
             "linecolor": "white",
             "minorgridcolor": "white",
             "startlinecolor": "#2a3f5f"
            },
            "type": "carpet"
           }
          ],
          "choropleth": [
           {
            "colorbar": {
             "outlinewidth": 0,
             "ticks": ""
            },
            "type": "choropleth"
           }
          ],
          "contour": [
           {
            "colorbar": {
             "outlinewidth": 0,
             "ticks": ""
            },
            "colorscale": [
             [
              0,
              "#0d0887"
             ],
             [
              0.1111111111111111,
              "#46039f"
             ],
             [
              0.2222222222222222,
              "#7201a8"
             ],
             [
              0.3333333333333333,
              "#9c179e"
             ],
             [
              0.4444444444444444,
              "#bd3786"
             ],
             [
              0.5555555555555556,
              "#d8576b"
             ],
             [
              0.6666666666666666,
              "#ed7953"
             ],
             [
              0.7777777777777778,
              "#fb9f3a"
             ],
             [
              0.8888888888888888,
              "#fdca26"
             ],
             [
              1,
              "#f0f921"
             ]
            ],
            "type": "contour"
           }
          ],
          "contourcarpet": [
           {
            "colorbar": {
             "outlinewidth": 0,
             "ticks": ""
            },
            "type": "contourcarpet"
           }
          ],
          "heatmap": [
           {
            "colorbar": {
             "outlinewidth": 0,
             "ticks": ""
            },
            "colorscale": [
             [
              0,
              "#0d0887"
             ],
             [
              0.1111111111111111,
              "#46039f"
             ],
             [
              0.2222222222222222,
              "#7201a8"
             ],
             [
              0.3333333333333333,
              "#9c179e"
             ],
             [
              0.4444444444444444,
              "#bd3786"
             ],
             [
              0.5555555555555556,
              "#d8576b"
             ],
             [
              0.6666666666666666,
              "#ed7953"
             ],
             [
              0.7777777777777778,
              "#fb9f3a"
             ],
             [
              0.8888888888888888,
              "#fdca26"
             ],
             [
              1,
              "#f0f921"
             ]
            ],
            "type": "heatmap"
           }
          ],
          "histogram": [
           {
            "marker": {
             "pattern": {
              "fillmode": "overlay",
              "size": 10,
              "solidity": 0.2
             }
            },
            "type": "histogram"
           }
          ],
          "histogram2d": [
           {
            "colorbar": {
             "outlinewidth": 0,
             "ticks": ""
            },
            "colorscale": [
             [
              0,
              "#0d0887"
             ],
             [
              0.1111111111111111,
              "#46039f"
             ],
             [
              0.2222222222222222,
              "#7201a8"
             ],
             [
              0.3333333333333333,
              "#9c179e"
             ],
             [
              0.4444444444444444,
              "#bd3786"
             ],
             [
              0.5555555555555556,
              "#d8576b"
             ],
             [
              0.6666666666666666,
              "#ed7953"
             ],
             [
              0.7777777777777778,
              "#fb9f3a"
             ],
             [
              0.8888888888888888,
              "#fdca26"
             ],
             [
              1,
              "#f0f921"
             ]
            ],
            "type": "histogram2d"
           }
          ],
          "histogram2dcontour": [
           {
            "colorbar": {
             "outlinewidth": 0,
             "ticks": ""
            },
            "colorscale": [
             [
              0,
              "#0d0887"
             ],
             [
              0.1111111111111111,
              "#46039f"
             ],
             [
              0.2222222222222222,
              "#7201a8"
             ],
             [
              0.3333333333333333,
              "#9c179e"
             ],
             [
              0.4444444444444444,
              "#bd3786"
             ],
             [
              0.5555555555555556,
              "#d8576b"
             ],
             [
              0.6666666666666666,
              "#ed7953"
             ],
             [
              0.7777777777777778,
              "#fb9f3a"
             ],
             [
              0.8888888888888888,
              "#fdca26"
             ],
             [
              1,
              "#f0f921"
             ]
            ],
            "type": "histogram2dcontour"
           }
          ],
          "mesh3d": [
           {
            "colorbar": {
             "outlinewidth": 0,
             "ticks": ""
            },
            "type": "mesh3d"
           }
          ],
          "parcoords": [
           {
            "line": {
             "colorbar": {
              "outlinewidth": 0,
              "ticks": ""
             }
            },
            "type": "parcoords"
           }
          ],
          "pie": [
           {
            "automargin": true,
            "type": "pie"
           }
          ],
          "scatter": [
           {
            "fillpattern": {
             "fillmode": "overlay",
             "size": 10,
             "solidity": 0.2
            },
            "type": "scatter"
           }
          ],
          "scatter3d": [
           {
            "line": {
             "colorbar": {
              "outlinewidth": 0,
              "ticks": ""
             }
            },
            "marker": {
             "colorbar": {
              "outlinewidth": 0,
              "ticks": ""
             }
            },
            "type": "scatter3d"
           }
          ],
          "scattercarpet": [
           {
            "marker": {
             "colorbar": {
              "outlinewidth": 0,
              "ticks": ""
             }
            },
            "type": "scattercarpet"
           }
          ],
          "scattergeo": [
           {
            "marker": {
             "colorbar": {
              "outlinewidth": 0,
              "ticks": ""
             }
            },
            "type": "scattergeo"
           }
          ],
          "scattergl": [
           {
            "marker": {
             "colorbar": {
              "outlinewidth": 0,
              "ticks": ""
             }
            },
            "type": "scattergl"
           }
          ],
          "scattermap": [
           {
            "marker": {
             "colorbar": {
              "outlinewidth": 0,
              "ticks": ""
             }
            },
            "type": "scattermap"
           }
          ],
          "scattermapbox": [
           {
            "marker": {
             "colorbar": {
              "outlinewidth": 0,
              "ticks": ""
             }
            },
            "type": "scattermapbox"
           }
          ],
          "scatterpolar": [
           {
            "marker": {
             "colorbar": {
              "outlinewidth": 0,
              "ticks": ""
             }
            },
            "type": "scatterpolar"
           }
          ],
          "scatterpolargl": [
           {
            "marker": {
             "colorbar": {
              "outlinewidth": 0,
              "ticks": ""
             }
            },
            "type": "scatterpolargl"
           }
          ],
          "scatterternary": [
           {
            "marker": {
             "colorbar": {
              "outlinewidth": 0,
              "ticks": ""
             }
            },
            "type": "scatterternary"
           }
          ],
          "surface": [
           {
            "colorbar": {
             "outlinewidth": 0,
             "ticks": ""
            },
            "colorscale": [
             [
              0,
              "#0d0887"
             ],
             [
              0.1111111111111111,
              "#46039f"
             ],
             [
              0.2222222222222222,
              "#7201a8"
             ],
             [
              0.3333333333333333,
              "#9c179e"
             ],
             [
              0.4444444444444444,
              "#bd3786"
             ],
             [
              0.5555555555555556,
              "#d8576b"
             ],
             [
              0.6666666666666666,
              "#ed7953"
             ],
             [
              0.7777777777777778,
              "#fb9f3a"
             ],
             [
              0.8888888888888888,
              "#fdca26"
             ],
             [
              1,
              "#f0f921"
             ]
            ],
            "type": "surface"
           }
          ],
          "table": [
           {
            "cells": {
             "fill": {
              "color": "#EBF0F8"
             },
             "line": {
              "color": "white"
             }
            },
            "header": {
             "fill": {
              "color": "#C8D4E3"
             },
             "line": {
              "color": "white"
             }
            },
            "type": "table"
           }
          ]
         },
         "layout": {
          "annotationdefaults": {
           "arrowcolor": "#2a3f5f",
           "arrowhead": 0,
           "arrowwidth": 1
          },
          "autotypenumbers": "strict",
          "coloraxis": {
           "colorbar": {
            "outlinewidth": 0,
            "ticks": ""
           }
          },
          "colorscale": {
           "diverging": [
            [
             0,
             "#8e0152"
            ],
            [
             0.1,
             "#c51b7d"
            ],
            [
             0.2,
             "#de77ae"
            ],
            [
             0.3,
             "#f1b6da"
            ],
            [
             0.4,
             "#fde0ef"
            ],
            [
             0.5,
             "#f7f7f7"
            ],
            [
             0.6,
             "#e6f5d0"
            ],
            [
             0.7,
             "#b8e186"
            ],
            [
             0.8,
             "#7fbc41"
            ],
            [
             0.9,
             "#4d9221"
            ],
            [
             1,
             "#276419"
            ]
           ],
           "sequential": [
            [
             0,
             "#0d0887"
            ],
            [
             0.1111111111111111,
             "#46039f"
            ],
            [
             0.2222222222222222,
             "#7201a8"
            ],
            [
             0.3333333333333333,
             "#9c179e"
            ],
            [
             0.4444444444444444,
             "#bd3786"
            ],
            [
             0.5555555555555556,
             "#d8576b"
            ],
            [
             0.6666666666666666,
             "#ed7953"
            ],
            [
             0.7777777777777778,
             "#fb9f3a"
            ],
            [
             0.8888888888888888,
             "#fdca26"
            ],
            [
             1,
             "#f0f921"
            ]
           ],
           "sequentialminus": [
            [
             0,
             "#0d0887"
            ],
            [
             0.1111111111111111,
             "#46039f"
            ],
            [
             0.2222222222222222,
             "#7201a8"
            ],
            [
             0.3333333333333333,
             "#9c179e"
            ],
            [
             0.4444444444444444,
             "#bd3786"
            ],
            [
             0.5555555555555556,
             "#d8576b"
            ],
            [
             0.6666666666666666,
             "#ed7953"
            ],
            [
             0.7777777777777778,
             "#fb9f3a"
            ],
            [
             0.8888888888888888,
             "#fdca26"
            ],
            [
             1,
             "#f0f921"
            ]
           ]
          },
          "colorway": [
           "#636efa",
           "#EF553B",
           "#00cc96",
           "#ab63fa",
           "#FFA15A",
           "#19d3f3",
           "#FF6692",
           "#B6E880",
           "#FF97FF",
           "#FECB52"
          ],
          "font": {
           "color": "#2a3f5f"
          },
          "geo": {
           "bgcolor": "white",
           "lakecolor": "white",
           "landcolor": "#E5ECF6",
           "showlakes": true,
           "showland": true,
           "subunitcolor": "white"
          },
          "hoverlabel": {
           "align": "left"
          },
          "hovermode": "closest",
          "mapbox": {
           "style": "light"
          },
          "paper_bgcolor": "white",
          "plot_bgcolor": "#E5ECF6",
          "polar": {
           "angularaxis": {
            "gridcolor": "white",
            "linecolor": "white",
            "ticks": ""
           },
           "bgcolor": "#E5ECF6",
           "radialaxis": {
            "gridcolor": "white",
            "linecolor": "white",
            "ticks": ""
           }
          },
          "scene": {
           "xaxis": {
            "backgroundcolor": "#E5ECF6",
            "gridcolor": "white",
            "gridwidth": 2,
            "linecolor": "white",
            "showbackground": true,
            "ticks": "",
            "zerolinecolor": "white"
           },
           "yaxis": {
            "backgroundcolor": "#E5ECF6",
            "gridcolor": "white",
            "gridwidth": 2,
            "linecolor": "white",
            "showbackground": true,
            "ticks": "",
            "zerolinecolor": "white"
           },
           "zaxis": {
            "backgroundcolor": "#E5ECF6",
            "gridcolor": "white",
            "gridwidth": 2,
            "linecolor": "white",
            "showbackground": true,
            "ticks": "",
            "zerolinecolor": "white"
           }
          },
          "shapedefaults": {
           "line": {
            "color": "#2a3f5f"
           }
          },
          "ternary": {
           "aaxis": {
            "gridcolor": "white",
            "linecolor": "white",
            "ticks": ""
           },
           "baxis": {
            "gridcolor": "white",
            "linecolor": "white",
            "ticks": ""
           },
           "bgcolor": "#E5ECF6",
           "caxis": {
            "gridcolor": "white",
            "linecolor": "white",
            "ticks": ""
           }
          },
          "title": {
           "x": 0.05
          },
          "xaxis": {
           "automargin": true,
           "gridcolor": "white",
           "linecolor": "white",
           "ticks": "",
           "title": {
            "standoff": 15
           },
           "zerolinecolor": "white",
           "zerolinewidth": 2
          },
          "yaxis": {
           "automargin": true,
           "gridcolor": "white",
           "linecolor": "white",
           "ticks": "",
           "title": {
            "standoff": 15
           },
           "zerolinecolor": "white",
           "zerolinewidth": 2
          }
         }
        },
        "xaxis": {
         "anchor": "y",
         "domain": [
          0,
          1
         ],
         "title": {
          "text": "mass"
         }
        },
        "yaxis": {
         "anchor": "x",
         "domain": [
          0,
          1
         ],
         "title": {
          "text": "star_mass"
         }
        }
       }
      }
     },
     "metadata": {},
     "output_type": "display_data"
    }
   ],
   "source": [
    "px.scatter(df, x=\"mass\", y=\"star_mass\")"
   ]
  },
  {
   "cell_type": "code",
   "execution_count": 11,
   "id": "c0ae0384",
   "metadata": {},
   "outputs": [
    {
     "data": {
      "application/vnd.microsoft.datawrangler.viewer.v0+json": {
       "columns": [
        {
         "name": "index",
         "rawType": "object",
         "type": "string"
        },
        {
         "name": "mass",
         "rawType": "float64",
         "type": "float"
        },
        {
         "name": "radius",
         "rawType": "float64",
         "type": "float"
        },
        {
         "name": "star_mass",
         "rawType": "float64",
         "type": "float"
        },
        {
         "name": "star_metallicity",
         "rawType": "float64",
         "type": "float"
        },
        {
         "name": "star_distance",
         "rawType": "float64",
         "type": "float"
        },
        {
         "name": "star_age",
         "rawType": "float64",
         "type": "float"
        }
       ],
       "ref": "fdc5cfe2-d72f-4724-b92e-acac6995b1b8",
       "rows": [
        [
         "mass",
         "1.0",
         "0.4172860278593127",
         "0.1916265626596287",
         "0.06002180912839441",
         "0.07933212078762435",
         "-0.19807572585070998"
        ],
        [
         "radius",
         "0.4172860278593127",
         "1.0",
         "0.39916144671587156",
         "0.2414455261687738",
         "-0.0769179978725387",
         "-0.0457046520509477"
        ],
        [
         "star_mass",
         "0.1916265626596287",
         "0.39916144671587156",
         "1.0",
         "0.20522313971302744",
         "-0.17441017532111383",
         "-0.26789841955301685"
        ],
        [
         "star_metallicity",
         "0.06002180912839441",
         "0.2414455261687738",
         "0.20522313971302744",
         "1.0",
         "-0.0834097592248586",
         "-0.06779346659596538"
        ],
        [
         "star_distance",
         "0.07933212078762435",
         "-0.0769179978725387",
         "-0.17441017532111383",
         "-0.0834097592248586",
         "1.0",
         "-0.1046797342589496"
        ],
        [
         "star_age",
         "-0.19807572585070998",
         "-0.0457046520509477",
         "-0.26789841955301685",
         "-0.06779346659596538",
         "-0.1046797342589496",
         "1.0"
        ]
       ],
       "shape": {
        "columns": 6,
        "rows": 6
       }
      },
      "text/html": [
       "<div>\n",
       "<style scoped>\n",
       "    .dataframe tbody tr th:only-of-type {\n",
       "        vertical-align: middle;\n",
       "    }\n",
       "\n",
       "    .dataframe tbody tr th {\n",
       "        vertical-align: top;\n",
       "    }\n",
       "\n",
       "    .dataframe thead th {\n",
       "        text-align: right;\n",
       "    }\n",
       "</style>\n",
       "<table border=\"1\" class=\"dataframe\">\n",
       "  <thead>\n",
       "    <tr style=\"text-align: right;\">\n",
       "      <th></th>\n",
       "      <th>mass</th>\n",
       "      <th>radius</th>\n",
       "      <th>star_mass</th>\n",
       "      <th>star_metallicity</th>\n",
       "      <th>star_distance</th>\n",
       "      <th>star_age</th>\n",
       "    </tr>\n",
       "  </thead>\n",
       "  <tbody>\n",
       "    <tr>\n",
       "      <th>mass</th>\n",
       "      <td>1.000000</td>\n",
       "      <td>0.417286</td>\n",
       "      <td>0.191627</td>\n",
       "      <td>0.060022</td>\n",
       "      <td>0.079332</td>\n",
       "      <td>-0.198076</td>\n",
       "    </tr>\n",
       "    <tr>\n",
       "      <th>radius</th>\n",
       "      <td>0.417286</td>\n",
       "      <td>1.000000</td>\n",
       "      <td>0.399161</td>\n",
       "      <td>0.241446</td>\n",
       "      <td>-0.076918</td>\n",
       "      <td>-0.045705</td>\n",
       "    </tr>\n",
       "    <tr>\n",
       "      <th>star_mass</th>\n",
       "      <td>0.191627</td>\n",
       "      <td>0.399161</td>\n",
       "      <td>1.000000</td>\n",
       "      <td>0.205223</td>\n",
       "      <td>-0.174410</td>\n",
       "      <td>-0.267898</td>\n",
       "    </tr>\n",
       "    <tr>\n",
       "      <th>star_metallicity</th>\n",
       "      <td>0.060022</td>\n",
       "      <td>0.241446</td>\n",
       "      <td>0.205223</td>\n",
       "      <td>1.000000</td>\n",
       "      <td>-0.083410</td>\n",
       "      <td>-0.067793</td>\n",
       "    </tr>\n",
       "    <tr>\n",
       "      <th>star_distance</th>\n",
       "      <td>0.079332</td>\n",
       "      <td>-0.076918</td>\n",
       "      <td>-0.174410</td>\n",
       "      <td>-0.083410</td>\n",
       "      <td>1.000000</td>\n",
       "      <td>-0.104680</td>\n",
       "    </tr>\n",
       "    <tr>\n",
       "      <th>star_age</th>\n",
       "      <td>-0.198076</td>\n",
       "      <td>-0.045705</td>\n",
       "      <td>-0.267898</td>\n",
       "      <td>-0.067793</td>\n",
       "      <td>-0.104680</td>\n",
       "      <td>1.000000</td>\n",
       "    </tr>\n",
       "  </tbody>\n",
       "</table>\n",
       "</div>"
      ],
      "text/plain": [
       "                      mass    radius  star_mass  star_metallicity  \\\n",
       "mass              1.000000  0.417286   0.191627          0.060022   \n",
       "radius            0.417286  1.000000   0.399161          0.241446   \n",
       "star_mass         0.191627  0.399161   1.000000          0.205223   \n",
       "star_metallicity  0.060022  0.241446   0.205223          1.000000   \n",
       "star_distance     0.079332 -0.076918  -0.174410         -0.083410   \n",
       "star_age         -0.198076 -0.045705  -0.267898         -0.067793   \n",
       "\n",
       "                  star_distance  star_age  \n",
       "mass                   0.079332 -0.198076  \n",
       "radius                -0.076918 -0.045705  \n",
       "star_mass             -0.174410 -0.267898  \n",
       "star_metallicity      -0.083410 -0.067793  \n",
       "star_distance          1.000000 -0.104680  \n",
       "star_age              -0.104680  1.000000  "
      ]
     },
     "execution_count": 11,
     "metadata": {},
     "output_type": "execute_result"
    }
   ],
   "source": [
    "columns_to_check = [\"mass\", \"radius\", \"star_mass\", \"star_metallicity\", \"star_distance\", \"star_age\"]\n",
    "# show correlation scatters\n",
    "df[columns_to_check].corr()"
   ]
  }
 ],
 "metadata": {
  "kernelspec": {
   "display_name": ".venv",
   "language": "python",
   "name": "python3"
  },
  "language_info": {
   "codemirror_mode": {
    "name": "ipython",
    "version": 3
   },
   "file_extension": ".py",
   "mimetype": "text/x-python",
   "name": "python",
   "nbconvert_exporter": "python",
   "pygments_lexer": "ipython3",
   "version": "3.12.3"
  }
 },
 "nbformat": 4,
 "nbformat_minor": 5
}
